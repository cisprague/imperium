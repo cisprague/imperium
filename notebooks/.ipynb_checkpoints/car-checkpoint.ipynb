{
 "cells": [
  {
   "cell_type": "markdown",
   "metadata": {},
   "source": [
    "# Derivation"
   ]
  },
  {
   "cell_type": "code",
   "execution_count": 1,
   "metadata": {},
   "outputs": [],
   "source": [
    "from sympy import *\n",
    "from sympy.utilities.codegen import codegen\n",
    "init_printing()"
   ]
  },
  {
   "cell_type": "code",
   "execution_count": 2,
   "metadata": {},
   "outputs": [
    {
     "data": {
      "text/latex": [
       "$$\\left[\\begin{matrix}x & y & \\theta\\end{matrix}\\right]$$"
      ],
      "text/plain": [
       "[x  y  θ]"
      ]
     },
     "execution_count": 2,
     "metadata": {},
     "output_type": "execute_result"
    }
   ],
   "source": [
    "# state\n",
    "x, y, theta = symbols('x y theta', real=True)\n",
    "p = Matrix([x, y])\n",
    "s = Matrix([p, [theta]])\n",
    "s.T"
   ]
  },
  {
   "cell_type": "code",
   "execution_count": 3,
   "metadata": {},
   "outputs": [
    {
     "data": {
      "text/latex": [
       "$$\\left[\\begin{matrix}\\omega\\end{matrix}\\right]$$"
      ],
      "text/plain": [
       "[ω]"
      ]
     },
     "execution_count": 3,
     "metadata": {},
     "output_type": "execute_result"
    }
   ],
   "source": [
    "# actions\n",
    "u = symbols('omega', real=True)\n",
    "a = Matrix([u])\n",
    "a.T"
   ]
  },
  {
   "cell_type": "code",
   "execution_count": 4,
   "metadata": {},
   "outputs": [
    {
     "data": {
      "text/latex": [
       "$$\\left[\\begin{matrix}V\\end{matrix}\\right]$$"
      ],
      "text/plain": [
       "[V]"
      ]
     },
     "execution_count": 4,
     "metadata": {},
     "output_type": "execute_result"
    }
   ],
   "source": [
    "# params\n",
    "V = symbols('V', real=True, positive=True)\n",
    "params = Matrix([V])\n",
    "params.T"
   ]
  },
  {
   "cell_type": "code",
   "execution_count": 5,
   "metadata": {},
   "outputs": [
    {
     "data": {
      "text/latex": [
       "$$\\left[\\begin{matrix}V \\cos{\\left (\\theta \\right )} & V \\sin{\\left (\\theta \\right )} & \\omega\\end{matrix}\\right]$$"
      ],
      "text/plain": [
       "[V⋅cos(θ)  V⋅sin(θ)  ω]"
      ]
     },
     "execution_count": 5,
     "metadata": {},
     "output_type": "execute_result"
    }
   ],
   "source": [
    "# state dynamics\n",
    "dx = V*cos(theta)\n",
    "dy = V*sin(theta)\n",
    "dtheta = u\n",
    "ds = Matrix([dx, dy, dtheta])\n",
    "ds.T"
   ]
  },
  {
   "cell_type": "code",
   "execution_count": 6,
   "metadata": {},
   "outputs": [
    {
     "data": {
      "text/latex": [
       "$$\\left[\\begin{matrix}\\lambda_{x} & \\lambda_{y} & \\lambda_{\\theta}\\end{matrix}\\right]$$"
      ],
      "text/plain": [
       "[λₓ  λ_y  λₜₕₑₜₐ]"
      ]
     },
     "execution_count": 6,
     "metadata": {},
     "output_type": "execute_result"
    }
   ],
   "source": [
    "# costate variables\n",
    "l = Matrix([symbols('lambda_' + str(var)) for var in s])\n",
    "l.T"
   ]
  },
  {
   "cell_type": "code",
   "execution_count": 7,
   "metadata": {},
   "outputs": [
    {
     "data": {
      "image/png": "[encoded data removed]",
      "text/latex": [
       "$$\\omega^{2}$$"
      ],
      "text/plain": [
       " 2\n",
       "ω "
      ]
     },
     "execution_count": 7,
     "metadata": {},
     "output_type": "execute_result"
    }
   ],
   "source": [
    "# lagrangian\n",
    "L = u**2\n",
    "L"
   ]
  },
  {
   "cell_type": "code",
   "execution_count": 8,
   "metadata": {},
   "outputs": [
    {
     "data": {
      "image/png": "[encoded data removed]",
      "text/latex": [
       "$$V \\lambda_{x} \\cos{\\left (\\theta \\right )} + V \\lambda_{y} \\sin{\\left (\\theta \\right )} + \\lambda_{\\theta} \\omega + \\omega^{2}$$"
      ],
      "text/plain": [
       "                                         2\n",
       "V⋅λₓ⋅cos(θ) + V⋅λ_y⋅sin(θ) + λₜₕₑₜₐ⋅ω + ω "
      ]
     },
     "execution_count": 8,
     "metadata": {},
     "output_type": "execute_result"
    }
   ],
   "source": [
    "# hamiltonian\n",
    "H = l.dot(ds) + L\n",
    "H"
   ]
  },
  {
   "cell_type": "code",
   "execution_count": 9,
   "metadata": {},
   "outputs": [
    {
     "data": {
      "text/latex": [
       "$$\\left[\\begin{matrix}0 & 0 & V \\lambda_{x} \\sin{\\left (\\theta \\right )} - V \\lambda_{y} \\cos{\\left (\\theta \\right )}\\end{matrix}\\right]$$"
      ],
      "text/plain": [
       "[0  0  V⋅λₓ⋅sin(θ) - V⋅λ_y⋅cos(θ)]"
      ]
     },
     "execution_count": 9,
     "metadata": {},
     "output_type": "execute_result"
    }
   ],
   "source": [
    "# costate dynamics\n",
    "dl = -Matrix([H.diff(var) for var in s])\n",
    "dl.T"
   ]
  },
  {
   "cell_type": "code",
   "execution_count": 10,
   "metadata": {},
   "outputs": [
    {
     "data": {
      "text/latex": [
       "$$\\left[\\begin{matrix}V \\cos{\\left (\\theta \\right )} & V \\sin{\\left (\\theta \\right )} & \\omega & 0 & 0 & V \\lambda_{x} \\sin{\\left (\\theta \\right )} - V \\lambda_{y} \\cos{\\left (\\theta \\right )}\\end{matrix}\\right]$$"
      ],
      "text/plain": [
       "[V⋅cos(θ)  V⋅sin(θ)  ω  0  0  V⋅λₓ⋅sin(θ) - V⋅λ_y⋅cos(θ)]"
      ]
     },
     "execution_count": 10,
     "metadata": {},
     "output_type": "execute_result"
    }
   ],
   "source": [
    "# fullstate dynamics\n",
    "fs = Matrix([s, l])\n",
    "dfs = Matrix([ds, dl])\n",
    "dfs.T"
   ]
  },
  {
   "cell_type": "code",
   "execution_count": 11,
   "metadata": {},
   "outputs": [
    {
     "data": {
      "text/latex": [
       "$$\\left[\\begin{matrix}0 & 0 & - V \\sin{\\left (\\theta \\right )} & 0 & 0 & 0\\\\0 & 0 & V \\cos{\\left (\\theta \\right )} & 0 & 0 & 0\\\\0 & 0 & 0 & 0 & 0 & 0\\\\0 & 0 & 0 & 0 & 0 & 0\\\\0 & 0 & 0 & 0 & 0 & 0\\\\0 & 0 & V \\lambda_{x} \\cos{\\left (\\theta \\right )} + V \\lambda_{y} \\sin{\\left (\\theta \\right )} & V \\sin{\\left (\\theta \\right )} & - V \\cos{\\left (\\theta \\right )} & 0\\end{matrix}\\right]$$"
      ],
      "text/plain": [
       "⎡0  0          -V⋅sin(θ)              0          0      0⎤\n",
       "⎢                                                        ⎥\n",
       "⎢0  0           V⋅cos(θ)              0          0      0⎥\n",
       "⎢                                                        ⎥\n",
       "⎢0  0              0                  0          0      0⎥\n",
       "⎢                                                        ⎥\n",
       "⎢0  0              0                  0          0      0⎥\n",
       "⎢                                                        ⎥\n",
       "⎢0  0              0                  0          0      0⎥\n",
       "⎢                                                        ⎥\n",
       "⎣0  0  V⋅λₓ⋅cos(θ) + V⋅λ_y⋅sin(θ)  V⋅sin(θ)  -V⋅cos(θ)  0⎦"
      ]
     },
     "execution_count": 11,
     "metadata": {},
     "output_type": "execute_result"
    }
   ],
   "source": [
    "# jacobians\n",
    "dds = ds.jacobian(s)\n",
    "ddl = dl.jacobian(l)\n",
    "ddfs = dfs.jacobian(fs)\n",
    "ddfs"
   ]
  },
  {
   "cell_type": "code",
   "execution_count": 12,
   "metadata": {},
   "outputs": [
    {
     "data": {
      "text/latex": [
       "$$\\left[\\begin{matrix}- \\frac{\\lambda_{\\theta}}{2}\\end{matrix}\\right]$$"
      ],
      "text/plain": [
       "⎡-λₜₕₑₜₐ ⎤\n",
       "⎢────────⎥\n",
       "⎣   2    ⎦"
      ]
     },
     "execution_count": 12,
     "metadata": {},
     "output_type": "execute_result"
    }
   ],
   "source": [
    "# optimal action\n",
    "us = solve(H.diff(u), u)[0]\n",
    "us = Matrix([us])\n",
    "us.T"
   ]
  },
  {
   "cell_type": "markdown",
   "metadata": {},
   "source": [
    "# Code generation"
   ]
  },
  {
   "cell_type": "code",
   "execution_count": 13,
   "metadata": {},
   "outputs": [],
   "source": [
    "from sympy.utilities.codegen import *"
   ]
  },
  {
   "cell_type": "code",
   "execution_count": 14,
   "metadata": {},
   "outputs": [],
   "source": [
    "# desired functions\n",
    "fvals = [ds, dds, dl, ddl, dfs, ddfs, L, H, u]"
   ]
  },
  {
   "cell_type": "code",
   "execution_count": 15,
   "metadata": {},
   "outputs": [
    {
     "data": {
      "text/latex": [
       "$$\\left [ \\left[\\begin{matrix}V \\cos{\\left (\\theta \\right )}\\\\V \\sin{\\left (\\theta \\right )}\\\\\\omega\\end{matrix}\\right]\\right ]$$"
      ],
      "text/plain": [
       "⎡⎡V⋅cos(θ)⎤⎤\n",
       "⎢⎢        ⎥⎥\n",
       "⎢⎢V⋅sin(θ)⎥⎥\n",
       "⎢⎢        ⎥⎥\n",
       "⎣⎣   ω    ⎦⎦"
      ]
     },
     "execution_count": 15,
     "metadata": {},
     "output_type": "execute_result"
    }
   ],
   "source": [
    "# function result variables\n",
    "fvars = list()\n",
    "for val in fvals:\n",
    "    for key in globals().keys():\n",
    "        if globals()[key] is val:\n",
    "            fvars.append(key)\n",
    "            break\n",
    "        else:\n",
    "            continue"
   ]
  },
  {
   "cell_type": "code",
   "execution_count": null,
   "metadata": {},
   "outputs": [],
   "source": [
    "# function names\n",
    "fn = [\n",
    "    \"eom_state\", \n",
    "    \"eom_state_jac\", \n",
    "    \"eom_costate\",\n",
    "    \"eom_costate_jac\",\n",
    "    \"eom_fullstate\",\n",
    "    \"eom_fullstate_jac\", \n",
    "    \"lagrangian\", \n",
    "    \"hamiltonian\", \n",
    "    \"pontryagin\"\n",
    "]"
   ]
  },
  {
   "cell_type": "code",
   "execution_count": null,
   "metadata": {},
   "outputs": [],
   "source": [
    "ds.__doc__"
   ]
  },
  {
   "cell_type": "code",
   "execution_count": null,
   "metadata": {},
   "outputs": [],
   "source": [
    "# function names\n",
    "names = [\n",
    "    \"eom_state\", \n",
    "    \"eom_state_jac\", \n",
    "    \"eom_costate\",\n",
    "    \"eom_costate_jac\",\n",
    "    \"eom_fullstate\",\n",
    "    \"eom_fullstate_jac\", \n",
    "    \"lagrangian\", \n",
    "    \"hamiltonian\", \n",
    "    \"pontryagin\"\n",
    "]\n",
    "\n",
    "# function expressions\n",
    "funcs = [\n",
    "    Eq(MatrixSymbol(\"ds\", *ds.shape), ds),\n",
    "    Eq(MatrixSymbol(\"dds\", *dds.shape), dds),\n",
    "    Eq(MatrixSymbol(\"dl\", *dl.shape), dl),\n",
    "    Eq(MatrixSymbol(\"ddl\", *ddl.shape), ddl),\n",
    "    Eq(MatrixSymbol(\"dfs\", *dfs.shape), dfs),\n",
    "    Eq(MatrixSymbol(\"ddfs\", *ddfs.shape), ddfs),\n",
    "    Eq(symbols(\"L\"), L),\n",
    "    Eq(symbols(\"H\"), H),\n",
    "    Eq(MatrixSymbol(\"u\", *us.shape), us)\n",
    "]\n",
    "\n",
    "# function arguments\n",
    "syms = [\n",
    "    [*s, *u, *params],\n",
    "    [*s, *u, *params],\n",
    "    [*fs, *u, *params],\n",
    "    [*fs, *u, *params],\n",
    "    [*u, alpha],\n",
    "    [*fs, *u, alpha, *params],\n",
    "    [*fs, alpha, *params],\n",
    "]\n",
    "\n",
    "[sym.append(func.lhs) for sym, func in zip(syms, funcs)]"
   ]
  }
 ],
 "metadata": {
  "kernelspec": {
   "display_name": "Python 3",
   "language": "python",
   "name": "python3"
  },
  "language_info": {
   "codemirror_mode": {
    "name": "ipython",
    "version": 3
   },
   "file_extension": ".py",
   "mimetype": "text/x-python",
   "name": "python",
   "nbconvert_exporter": "python",
   "pygments_lexer": "ipython3",
   "version": "3.5.2"
  }
 },
 "nbformat": 4,
 "nbformat_minor": 2
}
