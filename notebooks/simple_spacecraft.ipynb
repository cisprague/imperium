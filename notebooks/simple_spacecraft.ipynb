{
 "cells": [
  {
   "cell_type": "markdown",
   "metadata": {},
   "source": [
    "# Derrivation"
   ]
  },
  {
   "cell_type": "code",
   "execution_count": 1,
   "metadata": {},
   "outputs": [],
   "source": [
    "from sympy import *\n",
    "from sympy.utilities.codegen import codegen\n",
    "init_printing()"
   ]
  },
  {
   "cell_type": "code",
   "execution_count": 2,
   "metadata": {},
   "outputs": [
    {
     "data": {
      "text/latex": [
       "$$\\left[\\begin{matrix}x & y & vx & vy & m\\end{matrix}\\right]$$"
      ],
      "text/plain": [
       "[x  y  vx  vy  m]"
      ]
     },
     "execution_count": 2,
     "metadata": {},
     "output_type": "execute_result"
    }
   ],
   "source": [
    "# state\n",
    "x, y, vx, vy, m = symbols('x y vx vy m', real=True)\n",
    "p = Matrix([x, y])\n",
    "v = Matrix([vx, vy])\n",
    "s = Matrix([p, v, [m]])\n",
    "s.T"
   ]
  },
  {
   "cell_type": "code",
   "execution_count": 3,
   "metadata": {},
   "outputs": [
    {
     "data": {
      "text/latex": [
       "$$\\left[\\begin{matrix}\\lambda_{x} & \\lambda_{y} & \\lambda_{v x} & \\lambda_{v y} & \\lambda_{m}\\end{matrix}\\right]$$"
      ],
      "text/plain": [
       "[λₓ  λ_y  λᵥ ₓ  λ_v_y  λₘ]"
      ]
     },
     "execution_count": 3,
     "metadata": {},
     "output_type": "execute_result"
    }
   ],
   "source": [
    "# costate variables\n",
    "lx, ly, lvx, lvy, lm = symbols('lambda_x lambda_y lambda_v_x lambda_v_y lambda_m', real=True)\n",
    "lp = Matrix([lx, ly])\n",
    "lv = Matrix([lvx, lvy])\n",
    "l = Matrix([lp, lv, [lm]])\n",
    "l.T"
   ]
  },
  {
   "cell_type": "code",
   "execution_count": 4,
   "metadata": {},
   "outputs": [
    {
     "data": {
      "text/latex": [
       "$$\\left[\\begin{matrix}x & y & vx & vy & m & \\lambda_{x} & \\lambda_{y} & \\lambda_{v x} & \\lambda_{v y} & \\lambda_{m}\\end{matrix}\\right]$$"
      ],
      "text/plain": [
       "[x  y  vx  vy  m  λₓ  λ_y  λᵥ ₓ  λ_v_y  λₘ]"
      ]
     },
     "execution_count": 4,
     "metadata": {},
     "output_type": "execute_result"
    }
   ],
   "source": [
    "# fullstate\n",
    "fs = Matrix([s, l])\n",
    "fs.T"
   ]
  },
  {
   "cell_type": "code",
   "execution_count": 5,
   "metadata": {},
   "outputs": [
    {
     "data": {
      "text/latex": [
       "$$\\left[\\begin{matrix}u_{t} & u_{x} & u_{y}\\end{matrix}\\right]$$"
      ],
      "text/plain": [
       "[uₜ  uₓ  u_y]"
      ]
     },
     "execution_count": 5,
     "metadata": {},
     "output_type": "execute_result"
    }
   ],
   "source": [
    "# controls\n",
    "ut = symbols('u_t', real=True, positive=True)\n",
    "ux, uy = symbols('u_x u_y', real=True)\n",
    "iu = Matrix([ux, uy])\n",
    "u = Matrix([[ut], iu])\n",
    "u.T"
   ]
  },
  {
   "cell_type": "code",
   "execution_count": 6,
   "metadata": {},
   "outputs": [
    {
     "data": {
      "text/latex": [
       "$$\\left[\\begin{matrix}c_{1} & c_{2} & g\\end{matrix}\\right]$$"
      ],
      "text/plain": [
       "[c₁  c₂  g]"
      ]
     },
     "execution_count": 6,
     "metadata": {},
     "output_type": "execute_result"
    }
   ],
   "source": [
    "# params: gravity, max thrust, mass, half length of auv\n",
    "c1, c2, g = symbols('c_1 c_2, g', real=True, positive=True)\n",
    "params = Matrix([c1, c2, g])\n",
    "params.T"
   ]
  },
  {
   "cell_type": "code",
   "execution_count": 7,
   "metadata": {},
   "outputs": [
    {
     "data": {
      "text/latex": [
       "$$\\left[\\begin{matrix}\\alpha\\end{matrix}\\right]$$"
      ],
      "text/plain": [
       "[α]"
      ]
     },
     "execution_count": 7,
     "metadata": {},
     "output_type": "execute_result"
    }
   ],
   "source": [
    "# homotopy parameter\n",
    "alpha = symbols('alpha')\n",
    "args = Matrix([alpha])\n",
    "args"
   ]
  },
  {
   "cell_type": "code",
   "execution_count": 8,
   "metadata": {},
   "outputs": [
    {
     "data": {
      "text/latex": [
       "$$\\left[\\begin{matrix}vx\\\\vy\\\\c_{1} u_{t} u_{x}\\\\c_{1} u_{t} u_{y} - g\\\\- \\frac{c_{1} u_{t}}{c_{2}}\\end{matrix}\\right]$$"
      ],
      "text/plain": [
       "⎡     vx      ⎤\n",
       "⎢             ⎥\n",
       "⎢     vy      ⎥\n",
       "⎢             ⎥\n",
       "⎢  c₁⋅uₜ⋅uₓ   ⎥\n",
       "⎢             ⎥\n",
       "⎢c₁⋅uₜ⋅u_y - g⎥\n",
       "⎢             ⎥\n",
       "⎢   -c₁⋅uₜ    ⎥\n",
       "⎢   ───────   ⎥\n",
       "⎣      c₂     ⎦"
      ]
     },
     "execution_count": 8,
     "metadata": {},
     "output_type": "execute_result"
    }
   ],
   "source": [
    "# dynamics\n",
    "dr = v\n",
    "dv = c1*ut*iu + Matrix([0, -g])\n",
    "dm = -c1/c2*ut\n",
    "ds = Matrix([dr, dv, [dm]])\n",
    "ds"
   ]
  },
  {
   "cell_type": "code",
   "execution_count": 9,
   "metadata": {},
   "outputs": [
    {
     "data": {
      "image/png": "[encoded data removed]",
      "text/latex": [
       "$$\\alpha u_{t} + u_{t}^{2} \\left(- \\alpha + 1\\right)$$"
      ],
      "text/plain": [
       "         2         \n",
       "α⋅uₜ + uₜ ⋅(-α + 1)"
      ]
     },
     "execution_count": 9,
     "metadata": {},
     "output_type": "execute_result"
    }
   ],
   "source": [
    "# dynamic Lagrangian to minimise thrust usage\n",
    "L = (1- alpha)*ut**2 + alpha*ut\n",
    "L"
   ]
  },
  {
   "cell_type": "code",
   "execution_count": 10,
   "metadata": {},
   "outputs": [
    {
     "data": {
      "image/png": "[encoded data removed]",
      "text/latex": [
       "$$\\alpha u_{t} + c_{1} \\lambda_{v x} u_{t} u_{x} - \\frac{c_{1} \\lambda_{m}}{c_{2}} u_{t} + \\lambda_{v y} \\left(c_{1} u_{t} u_{y} - g\\right) + \\lambda_{x} vx + \\lambda_{y} vy + u_{t}^{2} \\left(- \\alpha + 1\\right)$$"
      ],
      "text/plain": [
       "                       c₁⋅λₘ⋅uₜ                                              2\n",
       "α⋅uₜ + c₁⋅λᵥ ₓ⋅uₜ⋅uₓ - ──────── + λ_v_y⋅(c₁⋅uₜ⋅u_y - g) + λₓ⋅vx + λ_y⋅vy + uₜ \n",
       "                          c₂                                                  \n",
       "\n",
       "         \n",
       "⋅(-α + 1)\n",
       "         "
      ]
     },
     "execution_count": 10,
     "metadata": {},
     "output_type": "execute_result"
    }
   ],
   "source": [
    "# Hamiltonian\n",
    "H = l.dot(ds) + L\n",
    "H"
   ]
  },
  {
   "cell_type": "code",
   "execution_count": 15,
   "metadata": {},
   "outputs": [
    {
     "data": {
      "text/latex": [
       "$$\\left[\\begin{matrix}- \\frac{\\lambda_{v x}}{\\sqrt{\\lambda_{v x}^{2} + \\lambda_{v y}^{2}}}\\\\- \\frac{\\lambda_{v y}}{\\sqrt{\\lambda_{v x}^{2} + \\lambda_{v y}^{2}}}\\end{matrix}\\right]$$"
      ],
      "text/plain": [
       "⎡       -λᵥ ₓ       ⎤\n",
       "⎢───────────────────⎥\n",
       "⎢   ________________⎥\n",
       "⎢  ╱     2        2 ⎥\n",
       "⎢╲╱  λᵥ ₓ  + λ_v_y  ⎥\n",
       "⎢                   ⎥\n",
       "⎢      -λ_v_y       ⎥\n",
       "⎢───────────────────⎥\n",
       "⎢   ________________⎥\n",
       "⎢  ╱     2        2 ⎥\n",
       "⎣╲╱  λᵥ ₓ  + λ_v_y  ⎦"
      ]
     },
     "execution_count": 15,
     "metadata": {},
     "output_type": "execute_result"
    }
   ],
   "source": [
    "# optimal thrust direction\n",
    "ius = -lv/sqrt(sum([var**2 for var in lv]))\n",
    "ius"
   ]
  },
  {
   "cell_type": "code",
   "execution_count": 17,
   "metadata": {},
   "outputs": [
    {
     "data": {
      "image/png": "[encoded data removed]",
      "text/latex": [
       "$$\\frac{1}{2 c_{2} \\left(\\alpha - 1\\right) \\sqrt{\\lambda_{v x}^{2} + \\lambda_{v y}^{2}}} \\left(\\alpha c_{2} \\sqrt{\\lambda_{v x}^{2} + \\lambda_{v y}^{2}} - c_{1} c_{2} \\lambda_{v x}^{2} - c_{1} c_{2} \\lambda_{v y}^{2} - c_{1} \\lambda_{m} \\sqrt{\\lambda_{v x}^{2} + \\lambda_{v y}^{2}}\\right)$$"
      ],
      "text/plain": [
       "        ________________                                         _____________\n",
       "       ╱     2        2              2              2           ╱     2       \n",
       "α⋅c₂⋅╲╱  λᵥ ₓ  + λ_v_y   - c₁⋅c₂⋅λᵥ ₓ  - c₁⋅c₂⋅λ_v_y  - c₁⋅λₘ⋅╲╱  λᵥ ₓ  + λ_v_\n",
       "──────────────────────────────────────────────────────────────────────────────\n",
       "                                         ________________                     \n",
       "                                        ╱     2        2                      \n",
       "                         2⋅c₂⋅(α - 1)⋅╲╱  λᵥ ₓ  + λ_v_y                       \n",
       "\n",
       "___\n",
       " 2 \n",
       "y  \n",
       "───\n",
       "   \n",
       "   \n",
       "   "
      ]
     },
     "execution_count": 17,
     "metadata": {},
     "output_type": "execute_result"
    }
   ],
   "source": [
    "# optimal thrust magnitude\n",
    "uts = solve(H.subs(ux, ius[0]).subs(uy, ius[1]).diff(ut), ut)[0]\n",
    "uts"
   ]
  },
  {
   "cell_type": "code",
   "execution_count": 18,
   "metadata": {},
   "outputs": [
    {
     "data": {
      "text/latex": [
       "$$\\left[\\begin{matrix}\\frac{1}{2 c_{2} \\left(\\alpha - 1\\right) \\sqrt{\\lambda_{v x}^{2} + \\lambda_{v y}^{2}}} \\left(\\alpha c_{2} \\sqrt{\\lambda_{v x}^{2} + \\lambda_{v y}^{2}} - c_{1} c_{2} \\lambda_{v x}^{2} - c_{1} c_{2} \\lambda_{v y}^{2} - c_{1} \\lambda_{m} \\sqrt{\\lambda_{v x}^{2} + \\lambda_{v y}^{2}}\\right)\\\\- \\frac{\\lambda_{v x}}{\\sqrt{\\lambda_{v x}^{2} + \\lambda_{v y}^{2}}}\\\\- \\frac{\\lambda_{v y}}{\\sqrt{\\lambda_{v x}^{2} + \\lambda_{v y}^{2}}}\\end{matrix}\\right]$$"
      ],
      "text/plain": [
       "⎡        ________________                                         ____________\n",
       "⎢       ╱     2        2              2              2           ╱     2      \n",
       "⎢α⋅c₂⋅╲╱  λᵥ ₓ  + λ_v_y   - c₁⋅c₂⋅λᵥ ₓ  - c₁⋅c₂⋅λ_v_y  - c₁⋅λₘ⋅╲╱  λᵥ ₓ  + λ_v\n",
       "⎢─────────────────────────────────────────────────────────────────────────────\n",
       "⎢                                         ________________                    \n",
       "⎢                                        ╱     2        2                     \n",
       "⎢                         2⋅c₂⋅(α - 1)⋅╲╱  λᵥ ₓ  + λ_v_y                      \n",
       "⎢                                                                             \n",
       "⎢                                      -λᵥ ₓ                                  \n",
       "⎢                               ───────────────────                           \n",
       "⎢                                  ________________                           \n",
       "⎢                                 ╱     2        2                            \n",
       "⎢                               ╲╱  λᵥ ₓ  + λ_v_y                             \n",
       "⎢                                                                             \n",
       "⎢                                     -λ_v_y                                  \n",
       "⎢                               ───────────────────                           \n",
       "⎢                                  ________________                           \n",
       "⎢                                 ╱     2        2                            \n",
       "⎣                               ╲╱  λᵥ ₓ  + λ_v_y                             \n",
       "\n",
       "____⎤\n",
       "  2 ⎥\n",
       "_y  ⎥\n",
       "────⎥\n",
       "    ⎥\n",
       "    ⎥\n",
       "    ⎥\n",
       "    ⎥\n",
       "    ⎥\n",
       "    ⎥\n",
       "    ⎥\n",
       "    ⎥\n",
       "    ⎥\n",
       "    ⎥\n",
       "    ⎥\n",
       "    ⎥\n",
       "    ⎥\n",
       "    ⎥\n",
       "    ⎦"
      ]
     },
     "execution_count": 18,
     "metadata": {},
     "output_type": "execute_result"
    }
   ],
   "source": [
    "# optimal control\n",
    "us = Matrix([[uts], ius])\n",
    "us"
   ]
  },
  {
   "cell_type": "code",
   "execution_count": 19,
   "metadata": {},
   "outputs": [
    {
     "data": {
      "text/latex": [
       "$$\\left[\\begin{matrix}vx\\\\vy\\\\c_{1} u_{t} u_{x}\\\\c_{1} u_{t} u_{y} - g\\\\- \\frac{c_{1} u_{t}}{c_{2}}\\\\0\\\\0\\\\- \\lambda_{x}\\\\- \\lambda_{y}\\\\0\\end{matrix}\\right]$$"
      ],
      "text/plain": [
       "⎡     vx      ⎤\n",
       "⎢             ⎥\n",
       "⎢     vy      ⎥\n",
       "⎢             ⎥\n",
       "⎢  c₁⋅uₜ⋅uₓ   ⎥\n",
       "⎢             ⎥\n",
       "⎢c₁⋅uₜ⋅u_y - g⎥\n",
       "⎢             ⎥\n",
       "⎢   -c₁⋅uₜ    ⎥\n",
       "⎢   ───────   ⎥\n",
       "⎢      c₂     ⎥\n",
       "⎢             ⎥\n",
       "⎢      0      ⎥\n",
       "⎢             ⎥\n",
       "⎢      0      ⎥\n",
       "⎢             ⎥\n",
       "⎢     -λₓ     ⎥\n",
       "⎢             ⎥\n",
       "⎢    -λ_y     ⎥\n",
       "⎢             ⎥\n",
       "⎣      0      ⎦"
      ]
     },
     "execution_count": 19,
     "metadata": {},
     "output_type": "execute_result"
    }
   ],
   "source": [
    "# fullstate dynamics\n",
    "dl = -Matrix([H.diff(var) for var in s])\n",
    "dfs = Matrix([ds, dl])\n",
    "dfs"
   ]
  },
  {
   "cell_type": "code",
   "execution_count": 20,
   "metadata": {},
   "outputs": [
    {
     "data": {
      "text/latex": [
       "$$\\left[\\begin{matrix}0 & 0 & 1 & 0 & 0 & 0 & 0 & 0 & 0 & 0\\\\0 & 0 & 0 & 1 & 0 & 0 & 0 & 0 & 0 & 0\\\\0 & 0 & 0 & 0 & 0 & 0 & 0 & 0 & 0 & 0\\\\0 & 0 & 0 & 0 & 0 & 0 & 0 & 0 & 0 & 0\\\\0 & 0 & 0 & 0 & 0 & 0 & 0 & 0 & 0 & 0\\\\0 & 0 & 0 & 0 & 0 & 0 & 0 & 0 & 0 & 0\\\\0 & 0 & 0 & 0 & 0 & 0 & 0 & 0 & 0 & 0\\\\0 & 0 & 0 & 0 & 0 & -1 & 0 & 0 & 0 & 0\\\\0 & 0 & 0 & 0 & 0 & 0 & -1 & 0 & 0 & 0\\\\0 & 0 & 0 & 0 & 0 & 0 & 0 & 0 & 0 & 0\\end{matrix}\\right]$$"
      ],
      "text/plain": [
       "⎡0  0  1  0  0  0   0   0  0  0⎤\n",
       "⎢                              ⎥\n",
       "⎢0  0  0  1  0  0   0   0  0  0⎥\n",
       "⎢                              ⎥\n",
       "⎢0  0  0  0  0  0   0   0  0  0⎥\n",
       "⎢                              ⎥\n",
       "⎢0  0  0  0  0  0   0   0  0  0⎥\n",
       "⎢                              ⎥\n",
       "⎢0  0  0  0  0  0   0   0  0  0⎥\n",
       "⎢                              ⎥\n",
       "⎢0  0  0  0  0  0   0   0  0  0⎥\n",
       "⎢                              ⎥\n",
       "⎢0  0  0  0  0  0   0   0  0  0⎥\n",
       "⎢                              ⎥\n",
       "⎢0  0  0  0  0  -1  0   0  0  0⎥\n",
       "⎢                              ⎥\n",
       "⎢0  0  0  0  0  0   -1  0  0  0⎥\n",
       "⎢                              ⎥\n",
       "⎣0  0  0  0  0  0   0   0  0  0⎦"
      ]
     },
     "execution_count": 20,
     "metadata": {},
     "output_type": "execute_result"
    }
   ],
   "source": [
    "# Jacobians\n",
    "dds = ds.jacobian(s)\n",
    "ddfs = dfs.jacobian(fs)\n",
    "ddfs"
   ]
  },
  {
   "cell_type": "markdown",
   "metadata": {},
   "source": [
    "# Code generation"
   ]
  },
  {
   "cell_type": "code",
   "execution_count": 21,
   "metadata": {},
   "outputs": [],
   "source": [
    "from sympy.utilities.codegen import *"
   ]
  },
  {
   "cell_type": "code",
   "execution_count": 23,
   "metadata": {},
   "outputs": [
    {
     "data": {
      "text/plain": [
       "[None, None, None, None, None, None, None]"
      ]
     },
     "execution_count": 23,
     "metadata": {},
     "output_type": "execute_result"
    }
   ],
   "source": [
    "# function names\n",
    "names = [\n",
    "    \"eom_state\", \"eom_state_jac\", \"eom_fullstate\", \"eom_fullstate_jac\", \n",
    "    \"lagrangian\", \"hamiltonian\", \"pontryagin\"\n",
    "]\n",
    "\n",
    "# function expressions\n",
    "funcs = [\n",
    "    Eq(MatrixSymbol(\"ds\", *ds.shape), ds),\n",
    "    Eq(MatrixSymbol(\"dds\", *dds.shape), dds),\n",
    "    Eq(MatrixSymbol(\"dfs\", *dfs.shape), dfs),\n",
    "    Eq(MatrixSymbol(\"ddfs\", *ddfs.shape), ddfs),\n",
    "    Eq(symbols(\"L\"), L),\n",
    "    Eq(symbols(\"H\"), H),\n",
    "    Eq(MatrixSymbol(\"u\", *us.shape), us)\n",
    "]\n",
    "\n",
    "# function arguments\n",
    "syms = [\n",
    "    [*s, *u, *params],\n",
    "    [*s, *u, *params],\n",
    "    [*fs, *u, *params],\n",
    "    [*fs, *u, *params],\n",
    "    [*u, alpha],\n",
    "    [*fs, *u, alpha, *params],\n",
    "    [*fs, alpha, *params],\n",
    "]\n",
    "\n",
    "[sym.append(func.lhs) for sym, func in zip(syms, funcs)]"
   ]
  },
  {
   "cell_type": "code",
   "execution_count": 24,
   "metadata": {},
   "outputs": [],
   "source": [
    "# code generator\n",
    "gen = CCodeGen()\n",
    "\n",
    "# create routines\n",
    "routines = [gen.routine(name, func, sym, None) for name, func, sym in zip(names, funcs, syms)]\n",
    "\n",
    "# write routines to file\n",
    "gen.write(routines, \"../src/dynamics/simple_spacecraft\", to_files=True, header=False, empty=True)"
   ]
  },
  {
   "cell_type": "code",
   "execution_count": null,
   "metadata": {},
   "outputs": [],
   "source": [
    "us"
   ]
  },
  {
   "cell_type": "code",
   "execution_count": null,
   "metadata": {},
   "outputs": [],
   "source": []
  }
 ],
 "metadata": {
  "kernelspec": {
   "display_name": "Python 3",
   "language": "python",
   "name": "python3"
  },
  "language_info": {
   "codemirror_mode": {
    "name": "ipython",
    "version": 3
   },
   "file_extension": ".py",
   "mimetype": "text/x-python",
   "name": "python",
   "nbconvert_exporter": "python",
   "pygments_lexer": "ipython3",
   "version": "3.5.2"
  }
 },
 "nbformat": 4,
 "nbformat_minor": 2
}
