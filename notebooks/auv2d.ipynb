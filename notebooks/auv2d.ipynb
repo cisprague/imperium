{
 "cells": [
  {
   "cell_type": "markdown",
   "metadata": {},
   "source": [
    "# AUV 2D"
   ]
  },
  {
   "cell_type": "code",
   "execution_count": 1,
   "metadata": {},
   "outputs": [],
   "source": [
    "import sys\n",
    "sys.path.append(\"../src/dynamics\")\n",
    "from pontryagin import system\n",
    "from sympy import init_printing\n",
    "from sympy import *\n",
    "init_printing()"
   ]
  },
  {
   "cell_type": "code",
   "execution_count": 2,
   "metadata": {},
   "outputs": [],
   "source": [
    "# state\n",
    "x, y, vx, vy = Matrix(symbols('x y v_x v_y', real=True))\n",
    "state = Matrix([x, y, vx, vy])\n",
    "\n",
    "# controls\n",
    "ut, ux, uy = symbols('u_t', real=True, nonnegative=True), *symbols('u_x u_y', real=True, nonzero=True)\n",
    "control = Matrix([ut, ux, uy])\n",
    "\n",
    "# constants\n",
    "CD, m, A, T, rho = symbols('C_D m A T rho', real=True, positive=True)\n",
    "\n",
    "# state dynamics\n",
    "dynamics = Matrix([\n",
    "    vx,\n",
    "    vy,\n",
    "    T*ut*ux/m - Rational(1, 2)*rho*vx*sqrt(vx**2 + vy**2)*CD*A,\n",
    "    T*ut*uy/m - Rational(1, 2)*rho*vy*sqrt(vx**2 + vy**2)*CD*A\n",
    "])\n",
    "\n",
    "# homotopy parameter\n",
    "alpha = symbols('alpha', real=True, nonnegative=True)\n",
    "\n",
    "# Lagrangian\n",
    "lagrangian = alpha*ut + (1 - alpha)*ut**2\n",
    "\n",
    "# equality constraints\n",
    "equality = Matrix([sqrt(ux**2 + uy**2) - 1])\n",
    "\n",
    "# inequality constraints\n",
    "#inequality = Matrix([ut-1, -ut])"
   ]
  },
  {
   "cell_type": "code",
   "execution_count": 3,
   "metadata": {},
   "outputs": [
    {
     "data": {
      "text/latex": [
       "$$\\left[\\begin{matrix}v_{x}\\\\v_{y}\\\\- \\frac{A v_{x}}{2} C_{D} \\rho \\sqrt{v_{x}^{2} + v_{y}^{2}} + \\frac{u_{t} u_{x}}{m} T\\\\- \\frac{A v_{y}}{2} C_{D} \\rho \\sqrt{v_{x}^{2} + v_{y}^{2}} + \\frac{u_{t} u_{y}}{m} T\\\\0\\\\0\\\\\\frac{A C_{D} \\lambda_{v y} \\rho v_{x} v_{y}}{2 \\sqrt{v_{x}^{2} + v_{y}^{2}}} - \\lambda_{v x} \\left(- \\frac{A C_{D} \\rho v_{x}^{2}}{2 \\sqrt{v_{x}^{2} + v_{y}^{2}}} - \\frac{A C_{D}}{2} \\rho \\sqrt{v_{x}^{2} + v_{y}^{2}}\\right) - \\lambda_{x}\\\\\\frac{A C_{D} \\lambda_{v x} \\rho v_{x} v_{y}}{2 \\sqrt{v_{x}^{2} + v_{y}^{2}}} - \\lambda_{v y} \\left(- \\frac{A C_{D} \\rho v_{y}^{2}}{2 \\sqrt{v_{x}^{2} + v_{y}^{2}}} - \\frac{A C_{D}}{2} \\rho \\sqrt{v_{x}^{2} + v_{y}^{2}}\\right) - \\lambda_{y}\\end{matrix}\\right]$$"
      ],
      "text/plain": [
       "⎡                                       vₓ                                    \n",
       "⎢                                                                             \n",
       "⎢                                       v_y                                   \n",
       "⎢                                                                             \n",
       "⎢                                     ____________                            \n",
       "⎢                                    ╱   2      2                             \n",
       "⎢                       A⋅C_D⋅ρ⋅vₓ⋅╲╱  vₓ  + v_y     T⋅uₜ⋅uₓ                  \n",
       "⎢                     - ────────────────────────── + ───────                  \n",
       "⎢                                   2                   m                     \n",
       "⎢                                                                             \n",
       "⎢                                     ____________                            \n",
       "⎢                                    ╱   2      2                             \n",
       "⎢                      A⋅C_D⋅ρ⋅v_y⋅╲╱  vₓ  + v_y     T⋅uₜ⋅u_y                 \n",
       "⎢                    - ─────────────────────────── + ────────                 \n",
       "⎢                                   2                   m                     \n",
       "⎢                                                                             \n",
       "⎢                                        0                                    \n",
       "⎢                                                                             \n",
       "⎢                                        0                                    \n",
       "⎢                                                                             \n",
       "⎢                            ⎛                                 ____________⎞  \n",
       "⎢                            ⎜               2                ╱   2      2 ⎟  \n",
       "⎢A⋅C_D⋅λ_v_y⋅ρ⋅vₓ⋅v_y        ⎜     A⋅C_D⋅ρ⋅vₓ       A⋅C_D⋅ρ⋅╲╱  vₓ  + v_y  ⎟  \n",
       "⎢──────────────────── - λᵥ ₓ⋅⎜- ───────────────── - ───────────────────────⎟ -\n",
       "⎢      ____________          ⎜       ____________              2           ⎟  \n",
       "⎢     ╱   2      2           ⎜      ╱   2      2                           ⎟  \n",
       "⎢ 2⋅╲╱  vₓ  + v_y            ⎝  2⋅╲╱  vₓ  + v_y                            ⎠  \n",
       "⎢                                                                             \n",
       "⎢                            ⎛                                 ____________⎞  \n",
       "⎢                            ⎜                2               ╱   2      2 ⎟  \n",
       "⎢A⋅C_D⋅λᵥ ₓ⋅ρ⋅vₓ⋅v_y         ⎜     A⋅C_D⋅ρ⋅v_y      A⋅C_D⋅ρ⋅╲╱  vₓ  + v_y  ⎟  \n",
       "⎢─────────────────── - λ_v_y⋅⎜- ───────────────── - ───────────────────────⎟ -\n",
       "⎢      ____________          ⎜       ____________              2           ⎟  \n",
       "⎢     ╱   2      2           ⎜      ╱   2      2                           ⎟  \n",
       "⎣ 2⋅╲╱  vₓ  + v_y            ⎝  2⋅╲╱  vₓ  + v_y                            ⎠  \n",
       "\n",
       "    ⎤\n",
       "    ⎥\n",
       "    ⎥\n",
       "    ⎥\n",
       "    ⎥\n",
       "    ⎥\n",
       "    ⎥\n",
       "    ⎥\n",
       "    ⎥\n",
       "    ⎥\n",
       "    ⎥\n",
       "    ⎥\n",
       "    ⎥\n",
       "    ⎥\n",
       "    ⎥\n",
       "    ⎥\n",
       "    ⎥\n",
       "    ⎥\n",
       "    ⎥\n",
       "    ⎥\n",
       "    ⎥\n",
       "    ⎥\n",
       "    ⎥\n",
       " λₓ ⎥\n",
       "    ⎥\n",
       "    ⎥\n",
       "    ⎥\n",
       "    ⎥\n",
       "    ⎥\n",
       "    ⎥\n",
       "    ⎥\n",
       " λ_y⎥\n",
       "    ⎥\n",
       "    ⎥\n",
       "    ⎦"
      ]
     },
     "execution_count": 3,
     "metadata": {},
     "output_type": "execute_result"
    }
   ],
   "source": [
    "# instantiate the system\n",
    "sys = system(state, control, dynamics, lagrangian, equality=equality, inequality=None)\n",
    "sys.dfs"
   ]
  },
  {
   "cell_type": "code",
   "execution_count": 4,
   "metadata": {},
   "outputs": [
    {
     "data": {
      "text/latex": [
       "$$\\left [ \\frac{\\lambda_{v x}}{m} T u_{x} + \\frac{\\lambda_{v y}}{m} T u_{y} + \\alpha + 2 u_{t} \\left(- \\alpha + 1\\right), \\quad \\frac{\\lambda_{v x}}{m} T u_{t} + \\frac{\\eta_{0} u_{x}}{\\sqrt{u_{x}^{2} + u_{y}^{2}}}, \\quad \\frac{\\lambda_{v y}}{m} T u_{t} + \\frac{\\eta_{0} u_{y}}{\\sqrt{u_{x}^{2} + u_{y}^{2}}}, \\quad \\sqrt{u_{x}^{2} + u_{y}^{2}} - 1\\right ]$$"
      ],
      "text/plain": [
       "⎡                                                                             \n",
       "⎢T⋅λᵥ ₓ⋅uₓ   T⋅λ_v_y⋅u_y                      T⋅λᵥ ₓ⋅uₜ        η₀⋅uₓ       T⋅λ\n",
       "⎢───────── + ─────────── + α + 2⋅uₜ⋅(-α + 1), ───────── + ───────────────, ───\n",
       "⎢    m            m                               m          ____________     \n",
       "⎢                                                           ╱   2      2      \n",
       "⎣                                                         ╲╱  uₓ  + u_y       \n",
       "\n",
       "                              ____________    ⎤\n",
       "_v_y⋅uₜ        η₀⋅u_y        ╱   2      2     ⎥\n",
       "─────── + ───────────────, ╲╱  uₓ  + u_y   - 1⎥\n",
       " m           ____________                     ⎥\n",
       "            ╱   2      2                      ⎥\n",
       "          ╲╱  uₓ  + u_y                       ⎦"
      ]
     },
     "execution_count": 4,
     "metadata": {},
     "output_type": "execute_result"
    }
   ],
   "source": [
    "sys.KKTeqs"
   ]
  },
  {
   "cell_type": "code",
   "execution_count": null,
   "metadata": {},
   "outputs": [],
   "source": [
    "sys.solve()"
   ]
  },
  {
   "cell_type": "code",
   "execution_count": null,
   "metadata": {},
   "outputs": [],
   "source": []
  },
  {
   "cell_type": "code",
   "execution_count": null,
   "metadata": {},
   "outputs": [],
   "source": []
  }
 ],
 "metadata": {
  "kernelspec": {
   "display_name": "Python 3",
   "language": "python",
   "name": "python3"
  },
  "language_info": {
   "codemirror_mode": {
    "name": "ipython",
    "version": 3
   },
   "file_extension": ".py",
   "mimetype": "text/x-python",
   "name": "python",
   "nbconvert_exporter": "python",
   "pygments_lexer": "ipython3",
   "version": "3.6.5"
  }
 },
 "nbformat": 4,
 "nbformat_minor": 2
}
