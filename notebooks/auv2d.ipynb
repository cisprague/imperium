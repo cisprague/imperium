{
 "cells": [
  {
   "cell_type": "markdown",
   "metadata": {},
   "source": [
    "# AUV 2D"
   ]
  },
  {
   "cell_type": "code",
   "execution_count": null,
   "metadata": {},
   "outputs": [],
   "source": [
    "import sys\n",
    "sys.path.append(\"../src\")\n",
    "from imperium.dynamics.symbolic import System\n",
    "from sympy import *\n",
    "init_printing()"
   ]
  },
  {
   "cell_type": "code",
   "execution_count": null,
   "metadata": {},
   "outputs": [],
   "source": [
    "# state\n",
    "x, y, vx, vy = Matrix(symbols('x y v_x v_y', real=True))\n",
    "state = Matrix([x, y, vx, vy])\n",
    "\n",
    "# control\n",
    "ut, ux, uy = symbols('u_t', real=True, nonnegative=True), *symbols('u_x u_y', real=True)\n",
    "control = Matrix([ut, ux, uy])\n",
    "\n",
    "# constant system parameters\n",
    "CD, m, A, T, rho = symbols('C_D m A T rho', real=True, nonnegative=True)\n",
    "sysparams = Matrix([T, m])\n",
    "\n",
    "# state dynamics\n",
    "dynamics = Matrix([\n",
    "    vx,\n",
    "    vy,\n",
    "    T*ut*ux/m,\n",
    "    T*ut*uy/m\n",
    "])\n",
    "\n",
    "# optimisation parameters\n",
    "alpha = symbols('alpha', real=True, nonnegative=True)\n",
    "optparams = [alpha]\n",
    "\n",
    "# Lagrangian\n",
    "lagrangian = alpha*ut + (1 - alpha)*ut**2\n",
    "\n",
    "# equality constraints\n",
    "equality = Matrix([sqrt(ux**2 + uy**2) - 1])\n",
    "\n",
    "# inequality constraints\n",
    "inequality = Matrix([ut-1, -ut, ux-1, -1-ux, uy-1, -1-uy])\n",
    "\n",
    "# define nondimensional parameters\n",
    "tb, lb, mb = symbols('t_b l_b m_b')\n",
    "ndunits = [tb, lb, mb]\n",
    "\n",
    "# dimensional transformations\n",
    "trans = Matrix([lb, lb, lb/tb, lb/tb])\n",
    "tranp = Matrix([mb*lb/tb**2, mb])"
   ]
  },
  {
   "cell_type": "code",
   "execution_count": null,
   "metadata": {},
   "outputs": [],
   "source": [
    "# instantiate the system\n",
    "sys = System(state, control, dynamics, lagrangian, sysparams, optparams, ndunits, trans, tranp)\n",
    "sys.dfs.T"
   ]
  },
  {
   "cell_type": "code",
   "execution_count": null,
   "metadata": {},
   "outputs": [],
   "source": [
    "# optimal thrust direction (solved by hand with geometric method)\n",
    "utheta = -Matrix([sys.l[2], sys.l[3]])/sqrt(sys.l[2]**2 + sys.l[3]**2)\n",
    "utheta.T"
   ]
  },
  {
   "cell_type": "code",
   "execution_count": null,
   "metadata": {},
   "outputs": [],
   "source": [
    "# gradient of Hamiltonian\n",
    "sys.KKT([(ux, utheta[0]), (uy, utheta[1])])\n",
    "sys.KKTeqs"
   ]
  },
  {
   "cell_type": "code",
   "execution_count": null,
   "metadata": {},
   "outputs": [],
   "source": [
    "# solving\n",
    "sol = solve(sys.KKTeqs, sys.KKTvars, simplify=True, force=True)"
   ]
  },
  {
   "cell_type": "code",
   "execution_count": null,
   "metadata": {},
   "outputs": [],
   "source": [
    "# now assign optimal controls\n",
    "sys.uo = Matrix([[sol[ut]], utheta])\n",
    "sys.uo.T"
   ]
  },
  {
   "cell_type": "code",
   "execution_count": null,
   "metadata": {},
   "outputs": [],
   "source": [
    "sys.ndimp"
   ]
  },
  {
   "cell_type": "code",
   "execution_count": null,
   "metadata": {},
   "outputs": [],
   "source": [
    "# make some fortran code!\n",
    "sys.codegen(\"../src/imperium/dynamics/auv2d\", \"F\")"
   ]
  },
  {
   "cell_type": "markdown",
   "metadata": {},
   "source": [
    "# Using fortran code"
   ]
  },
  {
   "cell_type": "code",
   "execution_count": null,
   "metadata": {},
   "outputs": [],
   "source": [
    "import sys\n",
    "sys.path.append(\"../src\")\n",
    "from imperium.dynamics import auv2d\n",
    "from imperium.segment import Indirect\n",
    "import numpy as np, matplotlib.pyplot as plt\n",
    "%matplotlib"
   ]
  },
  {
   "cell_type": "code",
   "execution_count": null,
   "metadata": {},
   "outputs": [],
   "source": [
    "# instantiate segment\n",
    "seg = Indirect(auv2d, [10, 10], [100, 10, 100], [0, -1, -1], [1, 1, 1], True)"
   ]
  },
  {
   "cell_type": "code",
   "execution_count": null,
   "metadata": {},
   "outputs": [],
   "source": [
    "# set boundaries\n",
    "seg.set(0, np.array([0, 0, 0, 0]), 100, np.array([10, 10, 0, 0]), np.random.random(4)*100, [0.99], True)"
   ]
  },
  {
   "cell_type": "code",
   "execution_count": null,
   "metadata": {},
   "outputs": [],
   "source": [
    "# integrate\n",
    "seg.propagate(atol=1e-15, rtol=1e-15)"
   ]
  },
  {
   "cell_type": "code",
   "execution_count": null,
   "metadata": {},
   "outputs": [],
   "source": [
    "fig, ax = plt.subplots(8)\n",
    "\n",
    "for i in range(8):\n",
    "    ax[i].plot(seg.times, seg.states[:, i], \"k.-\")\n",
    "    \n",
    "plt.show()"
   ]
  },
  {
   "cell_type": "code",
   "execution_count": null,
   "metadata": {},
   "outputs": [],
   "source": [
    "fig, ax = plt.subplots(3)\n",
    "\n",
    "for i in range(3):\n",
    "    ax[i].plot(seg.times, seg.controls[:, i], \"k.-\")\n",
    "    \n",
    "plt.show()"
   ]
  },
  {
   "cell_type": "code",
   "execution_count": null,
   "metadata": {},
   "outputs": [],
   "source": [
    "ceq = seg.mismatch(norm=True)"
   ]
  },
  {
   "cell_type": "code",
   "execution_count": null,
   "metadata": {},
   "outputs": [],
   "source": [
    "ceq/np.linalg.norm(ceq)"
   ]
  },
  {
   "cell_type": "code",
   "execution_count": null,
   "metadata": {},
   "outputs": [],
   "source": [
    "fs = np.array([5, 5, 5, 5, 10, 10, 10, 10])\n",
    "s = fs[:int(len(fs)/2)]\n",
    "l = fs[int(len(fs)/2):]\n",
    "l"
   ]
  },
  {
   "cell_type": "code",
   "execution_count": null,
   "metadata": {},
   "outputs": [],
   "source": [
    "np.normalize"
   ]
  },
  {
   "cell_type": "code",
   "execution_count": null,
   "metadata": {},
   "outputs": [],
   "source": []
  }
 ],
 "metadata": {
  "kernelspec": {
   "display_name": "Python 3",
   "language": "python",
   "name": "python3"
  },
  "language_info": {
   "codemirror_mode": {
    "name": "ipython",
    "version": 3
   },
   "file_extension": ".py",
   "mimetype": "text/x-python",
   "name": "python",
   "nbconvert_exporter": "python",
   "pygments_lexer": "ipython3",
   "version": "3.6.5"
  }
 },
 "nbformat": 4,
 "nbformat_minor": 2
}
