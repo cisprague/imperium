{
 "cells": [
  {
   "cell_type": "markdown",
   "metadata": {},
   "source": [
    "# AUV 2D"
   ]
  },
  {
   "cell_type": "code",
   "execution_count": 1,
   "metadata": {},
   "outputs": [],
   "source": [
    "import sys\n",
    "sys.path.append(\"../src\")\n",
    "from imperium.dynamics.symbolic import System\n",
    "from sympy import *\n",
    "init_printing()"
   ]
  },
  {
   "cell_type": "code",
   "execution_count": 2,
   "metadata": {},
   "outputs": [],
   "source": [
    "# state\n",
    "x, y, vx, vy = Matrix(symbols('x y v_x v_y', real=True))\n",
    "state = Matrix([x, y, vx, vy])\n",
    "\n",
    "# control\n",
    "ut, ux, uy = symbols('u_t', real=True, nonnegative=True), *symbols('u_x u_y', real=True)\n",
    "control = Matrix([ut, ux, uy])\n",
    "\n",
    "# constant system parameters\n",
    "CD, m, A, T, rho = symbols('C_D m A T rho', real=True, nonnegative=True)\n",
    "sysparams = Matrix([T, m])\n",
    "\n",
    "# state dynamics\n",
    "dynamics = Matrix([\n",
    "    vx,\n",
    "    vy,\n",
    "    T*ut*ux/m,\n",
    "    T*ut*uy/m\n",
    "])\n",
    "\n",
    "# optimisation parameters\n",
    "alpha = symbols('alpha', real=True, nonnegative=True)\n",
    "optparams = [alpha]\n",
    "\n",
    "# Lagrangian\n",
    "lagrangian = alpha*ut + (1 - alpha)*ut**2\n",
    "\n",
    "# equality constraints\n",
    "equality = Matrix([sqrt(ux**2 + uy**2) - 1])\n",
    "\n",
    "# inequality constraints\n",
    "inequality = Matrix([ut-1, -ut, ux-1, -1-ux, uy-1, -1-uy])\n",
    "\n",
    "# define nondimensional parameters\n",
    "tb, lb, mb = symbols('t_b l_b m_b')\n",
    "ndunits = [tb, lb, mb]\n",
    "\n",
    "# dimensional transformations\n",
    "trans = Matrix([lb, lb, lb/tb, lb/tb])\n",
    "tranp = Matrix([mb*lb/tb, mb])"
   ]
  },
  {
   "cell_type": "code",
   "execution_count": 3,
   "metadata": {},
   "outputs": [
    {
     "data": {
      "text/latex": [
       "$$\\left[\\begin{matrix}v_{x} & v_{y} & \\frac{T u_{x}}{m} u_{t} & \\frac{T u_{y}}{m} u_{t} & 0 & 0 & - \\lambda_{x} & - \\lambda_{y}\\end{matrix}\\right]$$"
      ],
      "text/plain": [
       "⎡         T⋅uₜ⋅uₓ  T⋅uₜ⋅u_y                 ⎤\n",
       "⎢vₓ  v_y  ───────  ────────  0  0  -λₓ  -λ_y⎥\n",
       "⎣            m        m                     ⎦"
      ]
     },
     "execution_count": 3,
     "metadata": {},
     "output_type": "execute_result"
    }
   ],
   "source": [
    "# instantiate the system\n",
    "sys = System(state, control, dynamics, lagrangian, sysparams, optparams, ndunits, trans, tranp)\n",
    "sys.dfs.T"
   ]
  },
  {
   "cell_type": "code",
   "execution_count": 4,
   "metadata": {},
   "outputs": [
    {
     "data": {
      "text/latex": [
       "$$\\left[\\begin{matrix}- \\frac{\\lambda_{v x}}{\\sqrt{\\lambda_{v x}^{2} + \\lambda_{v y}^{2}}} & - \\frac{\\lambda_{v y}}{\\sqrt{\\lambda_{v x}^{2} + \\lambda_{v y}^{2}}}\\end{matrix}\\right]$$"
      ],
      "text/plain": [
       "⎡       -λᵥ ₓ               -λ_v_y       ⎤\n",
       "⎢───────────────────  ───────────────────⎥\n",
       "⎢   ________________     ________________⎥\n",
       "⎢  ╱     2        2     ╱     2        2 ⎥\n",
       "⎣╲╱  λᵥ ₓ  + λ_v_y    ╲╱  λᵥ ₓ  + λ_v_y  ⎦"
      ]
     },
     "execution_count": 4,
     "metadata": {},
     "output_type": "execute_result"
    }
   ],
   "source": [
    "# optimal thrust direction (solved by hand with geometric method)\n",
    "utheta = -Matrix([sys.l[2], sys.l[3]])/sqrt(sys.l[2]**2 + sys.l[3]**2)\n",
    "utheta.T"
   ]
  },
  {
   "cell_type": "code",
   "execution_count": 5,
   "metadata": {},
   "outputs": [
    {
     "data": {
      "image/png": "[encoded data removed]",
      "text/latex": [
       "$$\\left [ - \\frac{T \\lambda_{v x}^{2}}{m \\sqrt{\\lambda_{v x}^{2} + \\lambda_{v y}^{2}}} - \\frac{T \\lambda_{v y}^{2}}{m \\sqrt{\\lambda_{v x}^{2} + \\lambda_{v y}^{2}}} + \\alpha + 2 u_{t} \\left(- \\alpha + 1\\right), \\quad \\frac{\\lambda_{v x}}{m} T u_{t}, \\quad \\frac{\\lambda_{v y}}{m} T u_{t}\\right ]$$"
      ],
      "text/plain": [
       "⎡               2                        2                                    \n",
       "⎢         T⋅λᵥ ₓ                  T⋅λ_v_y                             T⋅λᵥ ₓ⋅u\n",
       "⎢- ───────────────────── - ───────────────────── + α + 2⋅uₜ⋅(-α + 1), ────────\n",
       "⎢       ________________        ________________                          m   \n",
       "⎢      ╱     2        2        ╱     2        2                               \n",
       "⎣  m⋅╲╱  λᵥ ₓ  + λ_v_y     m⋅╲╱  λᵥ ₓ  + λ_v_y                                \n",
       "\n",
       "             ⎤\n",
       "ₜ  T⋅λ_v_y⋅uₜ⎥\n",
       "─, ──────────⎥\n",
       "       m     ⎥\n",
       "             ⎥\n",
       "             ⎦"
      ]
     },
     "execution_count": 5,
     "metadata": {},
     "output_type": "execute_result"
    }
   ],
   "source": [
    "# gradient of Hamiltonian\n",
    "sys.KKT([(ux, utheta[0]), (uy, utheta[1])])\n",
    "sys.KKTeqs"
   ]
  },
  {
   "cell_type": "code",
   "execution_count": 6,
   "metadata": {},
   "outputs": [],
   "source": [
    "# solving\n",
    "sol = solve(sys.KKTeqs, sys.KKTvars, simplify=True, force=True)"
   ]
  },
  {
   "cell_type": "code",
   "execution_count": 7,
   "metadata": {},
   "outputs": [
    {
     "data": {
      "text/latex": [
       "$$\\left[\\begin{matrix}\\frac{- T \\lambda_{v x}^{2} - T \\lambda_{v y}^{2} + \\alpha m \\sqrt{\\lambda_{v x}^{2} + \\lambda_{v y}^{2}}}{2 m \\left(\\alpha - 1\\right) \\sqrt{\\lambda_{v x}^{2} + \\lambda_{v y}^{2}}} & - \\frac{\\lambda_{v x}}{\\sqrt{\\lambda_{v x}^{2} + \\lambda_{v y}^{2}}} & - \\frac{\\lambda_{v y}}{\\sqrt{\\lambda_{v x}^{2} + \\lambda_{v y}^{2}}}\\end{matrix}\\right]$$"
      ],
      "text/plain": [
       "⎡                              ________________                               \n",
       "⎢        2          2         ╱     2        2                                \n",
       "⎢- T⋅λᵥ ₓ  - T⋅λ_v_y  + α⋅m⋅╲╱  λᵥ ₓ  + λ_v_y           -λᵥ ₓ               -λ\n",
       "⎢──────────────────────────────────────────────  ───────────────────  ────────\n",
       "⎢                      ________________             ________________     _____\n",
       "⎢                     ╱     2        2             ╱     2        2     ╱     \n",
       "⎣       2⋅m⋅(α - 1)⋅╲╱  λᵥ ₓ  + λ_v_y            ╲╱  λᵥ ₓ  + λ_v_y    ╲╱  λᵥ ₓ\n",
       "\n",
       "           ⎤\n",
       "           ⎥\n",
       "_v_y       ⎥\n",
       "───────────⎥\n",
       "___________⎥\n",
       "2        2 ⎥\n",
       "  + λ_v_y  ⎦"
      ]
     },
     "execution_count": 7,
     "metadata": {},
     "output_type": "execute_result"
    }
   ],
   "source": [
    "# now assign optimal controls\n",
    "sys.uo = Matrix([[sol[ut]], utheta])\n",
    "sys.uo.T"
   ]
  },
  {
   "cell_type": "code",
   "execution_count": 8,
   "metadata": {},
   "outputs": [],
   "source": [
    "# make some fortran code!\n",
    "sys.codegen(\"../src/imperium/dynamics/auv2d\", \"F\")"
   ]
  },
  {
   "cell_type": "markdown",
   "metadata": {},
   "source": [
    "# Using fortran code"
   ]
  },
  {
   "cell_type": "code",
   "execution_count": 9,
   "metadata": {},
   "outputs": [],
   "source": [
    "import sys\n",
    "sys.path.append(\"../src\")\n",
    "from imperium.dynamics import auv2d\n",
    "from imperium.segment import Indirect\n",
    "import numpy as np, matplotlib.pyplot as plt"
   ]
  },
  {
   "cell_type": "code",
   "execution_count": 10,
   "metadata": {},
   "outputs": [],
   "source": [
    "# instantiate segment\n",
    "seg = Indirect(auv2d, [10, 10], [100, 10, 100], [0, -1, -1], [1, 1, 1])"
   ]
  },
  {
   "cell_type": "code",
   "execution_count": 11,
   "metadata": {},
   "outputs": [],
   "source": [
    "# set boundaries\n",
    "seg.set(0, np.array([0, 0, 0, 0]), 1000, np.array([10, 10, 0, 0]), np.random.randn(4), [0], True)"
   ]
  },
  {
   "cell_type": "code",
   "execution_count": 12,
   "metadata": {},
   "outputs": [],
   "source": [
    "# integrate\n",
    "seg.propagate(atol=1e-14, rtol=1e-14)"
   ]
  },
  {
   "cell_type": "code",
   "execution_count": 13,
   "metadata": {},
   "outputs": [
    {
     "data": {
      "image/png": "[encoded data removed]",
      "text/plain": [
       "<Figure size 432x288 with 8 Axes>"
      ]
     },
     "metadata": {},
     "output_type": "display_data"
    }
   ],
   "source": [
    "fig, ax = plt.subplots(8)\n",
    "\n",
    "for i in range(8):\n",
    "    ax[i].plot(seg.times, seg.states[:, i])\n",
    "    \n",
    "plt.show()"
   ]
  },
  {
   "cell_type": "code",
   "execution_count": 14,
   "metadata": {},
   "outputs": [
    {
     "data": {
      "image/png": "[encoded data removed]",
      "text/plain": [
       "<Figure size 432x288 with 3 Axes>"
      ]
     },
     "metadata": {},
     "output_type": "display_data"
    }
   ],
   "source": [
    "fig, ax = plt.subplots(3)\n",
    "\n",
    "for i in range(3):\n",
    "    ax[i].plot(seg.times, seg.controls[:, i])\n",
    "    \n",
    "plt.show()"
   ]
  },
  {
   "cell_type": "code",
   "execution_count": 15,
   "metadata": {},
   "outputs": [
    {
     "data": {
      "image/png": "[encoded data removed]",
      "text/plain": [
       "<Figure size 432x288 with 1 Axes>"
      ]
     },
     "metadata": {},
     "output_type": "display_data"
    }
   ],
   "source": [
    "plt.plot(seg.states[:, 0], seg.states[:, 1])\n",
    "plt.show()"
   ]
  }
 ],
 "metadata": {
  "kernelspec": {
   "display_name": "Python 3",
   "language": "python",
   "name": "python3"
  },
  "language_info": {
   "codemirror_mode": {
    "name": "ipython",
    "version": 3
   },
   "file_extension": ".py",
   "mimetype": "text/x-python",
   "name": "python",
   "nbconvert_exporter": "python",
   "pygments_lexer": "ipython3",
   "version": "3.6.5"
  }
 },
 "nbformat": 4,
 "nbformat_minor": 2
}
