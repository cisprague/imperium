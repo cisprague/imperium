{
 "cells": [
  {
   "cell_type": "markdown",
   "metadata": {},
   "source": [
    "# AUV 2D"
   ]
  },
  {
   "cell_type": "code",
   "execution_count": null,
   "metadata": {},
   "outputs": [],
   "source": [
    "import sys\n",
    "sys.path.append(\"../src/dynamics\")\n",
    "from pontryagin import system\n",
    "from sympy import init_printing\n",
    "from sympy import *\n",
    "init_printing()"
   ]
  },
  {
   "cell_type": "code",
   "execution_count": null,
   "metadata": {},
   "outputs": [],
   "source": [
    "# state\n",
    "x, y, vx, vy = Matrix(symbols('x y v_x v_y', real=True))\n",
    "state = Matrix([x, y, vx, vy])\n",
    "\n",
    "# controls\n",
    "ut, ux, uy = symbols('u_t', real=True, nonnegative=True), *symbols('u_x u_y', real=True)\n",
    "control = Matrix([ut, ux, uy])\n",
    "\n",
    "# constants\n",
    "CD, m, A, T, rho = symbols('C_D m A T rho', real=True, nonnegative=True)\n",
    "\n",
    "# state dynamics\n",
    "dynamics = Matrix([\n",
    "    vx,\n",
    "    vy,\n",
    "    T*ut*ux/m - rho*vx*sqrt(vx**2 + vy**2)*CD*A/2,\n",
    "    T*ut*uy/m - rho*vy*sqrt(vx**2 + vy**2)*CD*A/2\n",
    "])\n",
    "\n",
    "# homotopy parameter\n",
    "alpha = symbols('alpha', real=True, nonnegative=True)\n",
    "\n",
    "# Lagrangian\n",
    "lagrangian = alpha*ut + (1 - alpha)*ut**2\n",
    "\n",
    "# equality constraints\n",
    "equality = Matrix([sqrt(ux**2 + uy**2) - 1])\n",
    "\n",
    "# inequality constraints\n",
    "inequality = Matrix([ut-1, -ut, ux-1, -1-ux, uy-1, -1-uy])"
   ]
  },
  {
   "cell_type": "code",
   "execution_count": null,
   "metadata": {},
   "outputs": [],
   "source": [
    "# instantiate the system\n",
    "sys = system(state, control, dynamics, lagrangian)\n",
    "sys.dfs"
   ]
  },
  {
   "cell_type": "code",
   "execution_count": null,
   "metadata": {},
   "outputs": [],
   "source": [
    "# optimal thrust direction (solved by hand with geometric method)\n",
    "utheta = -Matrix([sys.l[2], sys.l[3]])/sqrt(sys.l[2]**2 + sys.l[3]**2)\n",
    "utheta.T"
   ]
  },
  {
   "cell_type": "code",
   "execution_count": null,
   "metadata": {},
   "outputs": [],
   "source": [
    "# gradient of Hamiltonian\n",
    "sys.KKT([(ux, utheta[0]), (uy, utheta[1])])\n",
    "sys.KKTeqs"
   ]
  },
  {
   "cell_type": "code",
   "execution_count": null,
   "metadata": {},
   "outputs": [],
   "source": [
    "# solving\n",
    "sol = solve(sys.KKTeqs, sys.KKTvars, simplify=True, force=True)\n",
    "s"
   ]
  },
  {
   "cell_type": "code",
   "execution_count": null,
   "metadata": {},
   "outputs": [],
   "source": [
    "# now assign optimal controls\n",
    "sys.uo = Matrix([[sol[ut]], utheta])\n",
    "sys.uo.T"
   ]
  },
  {
   "cell_type": "code",
   "execution_count": null,
   "metadata": {},
   "outputs": [],
   "source": [
    "# make some fortran code!\n",
    "sys.codegen(\"../src/dynamics/auv2d\", \"F\")"
   ]
  },
  {
   "cell_type": "markdown",
   "metadata": {},
   "source": [
    "# Using fortran code"
   ]
  },
  {
   "cell_type": "code",
   "execution_count": null,
   "metadata": {},
   "outputs": [],
   "source": [
    "import sys\n",
    "sys.path.append(\"../src/dynamics\")"
   ]
  },
  {
   "cell_type": "code",
   "execution_count": null,
   "metadata": {},
   "outputs": [],
   "source": [
    "import auv2d"
   ]
  },
  {
   "cell_type": "code",
   "execution_count": null,
   "metadata": {},
   "outputs": [],
   "source": []
  }
 ],
 "metadata": {
  "kernelspec": {
   "display_name": "Python 3",
   "language": "python",
   "name": "python3"
  },
  "language_info": {
   "codemirror_mode": {
    "name": "ipython",
    "version": 3
   },
   "file_extension": ".py",
   "mimetype": "text/x-python",
   "name": "python",
   "nbconvert_exporter": "python",
   "pygments_lexer": "ipython3",
   "version": "3.6.5"
  }
 },
 "nbformat": 4,
 "nbformat_minor": 2
}
