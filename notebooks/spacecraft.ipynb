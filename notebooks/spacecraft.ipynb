{
 "cells": [
  {
   "cell_type": "markdown",
   "metadata": {},
   "source": [
    "# Spacecraft"
   ]
  },
  {
   "cell_type": "code",
   "execution_count": 1,
   "metadata": {},
   "outputs": [],
   "source": [
    "import sys\n",
    "sys.path.append('../src/dynamics')\n",
    "from pontryagin import system\n",
    "from sympy import *\n",
    "init_printing()"
   ]
  },
  {
   "cell_type": "code",
   "execution_count": 2,
   "metadata": {},
   "outputs": [
    {
     "data": {
      "text/latex": [
       "$$\\left[\\begin{matrix}x & y & vx & vy & m\\end{matrix}\\right]$$"
      ],
      "text/plain": [
       "[x  y  vx  vy  m]"
      ]
     },
     "execution_count": 2,
     "metadata": {},
     "output_type": "execute_result"
    }
   ],
   "source": [
    "# state\n",
    "x, y, vx, vy, m = symbols('x y vx vy m', real=True)\n",
    "p = Matrix([x, y])\n",
    "v = Matrix([vx, vy])\n",
    "s = Matrix([p, v, [m]])\n",
    "s.T"
   ]
  },
  {
   "cell_type": "code",
   "execution_count": 3,
   "metadata": {},
   "outputs": [
    {
     "data": {
      "text/latex": [
       "$$\\left[\\begin{matrix}u_{t} & u_{x} & u_{y}\\end{matrix}\\right]$$"
      ],
      "text/plain": [
       "[uₜ  uₓ  u_y]"
      ]
     },
     "execution_count": 3,
     "metadata": {},
     "output_type": "execute_result"
    }
   ],
   "source": [
    "# controls\n",
    "ut = symbols('u_t', real=True, positive=True)\n",
    "ux, uy = symbols('u_x u_y', real=True)\n",
    "iu = Matrix([ux, uy])\n",
    "u = Matrix([[ut], iu])\n",
    "u.T"
   ]
  },
  {
   "cell_type": "code",
   "execution_count": 4,
   "metadata": {},
   "outputs": [],
   "source": [
    "# params: gravity, max thrust, mass, half length of auv\n",
    "c1, c2, g = symbols('c_1 c_2, g', real=True, positive=True)"
   ]
  },
  {
   "cell_type": "code",
   "execution_count": 5,
   "metadata": {},
   "outputs": [],
   "source": [
    "# homotopy parameter\n",
    "alpha = symbols('alpha', real=True, positive=True)"
   ]
  },
  {
   "cell_type": "code",
   "execution_count": 6,
   "metadata": {},
   "outputs": [
    {
     "data": {
      "text/latex": [
       "$$\\left[\\begin{matrix}vx & vy & c_{1} u_{t} u_{x} & c_{1} u_{t} u_{y} - g & - \\frac{c_{1} u_{t}}{c_{2}}\\end{matrix}\\right]$$"
      ],
      "text/plain": [
       "⎡                                 -c₁⋅uₜ ⎤\n",
       "⎢vx  vy  c₁⋅uₜ⋅uₓ  c₁⋅uₜ⋅u_y - g  ───────⎥\n",
       "⎣                                    c₂  ⎦"
      ]
     },
     "execution_count": 6,
     "metadata": {},
     "output_type": "execute_result"
    }
   ],
   "source": [
    "# dynamics\n",
    "dr = v\n",
    "dv = c1*ut*iu + Matrix([0, -g])\n",
    "dm = -c1/c2*ut\n",
    "ds = Matrix([dr, dv, [dm]])\n",
    "ds.T"
   ]
  },
  {
   "cell_type": "code",
   "execution_count": 7,
   "metadata": {},
   "outputs": [
    {
     "data": {
      "image/png": "[encoded data removed]",
      "text/latex": [
       "$$\\alpha u_{t} + u_{t}^{2} \\left(- \\alpha + 1\\right)$$"
      ],
      "text/plain": [
       "         2         \n",
       "α⋅uₜ + uₜ ⋅(-α + 1)"
      ]
     },
     "execution_count": 7,
     "metadata": {},
     "output_type": "execute_result"
    }
   ],
   "source": [
    "# dynamic Lagrangian to minimise thrust usage\n",
    "L = (1- alpha)*ut**2 + alpha*ut\n",
    "L"
   ]
  },
  {
   "cell_type": "code",
   "execution_count": 27,
   "metadata": {},
   "outputs": [
    {
     "data": {
      "text/latex": [
       "$$\\left[\\begin{matrix}- u_{t} & u_{t} - 1\\end{matrix}\\right]$$"
      ],
      "text/plain": [
       "[-uₜ  uₜ - 1]"
      ]
     },
     "execution_count": 27,
     "metadata": {},
     "output_type": "execute_result"
    }
   ],
   "source": [
    "# inequality constraints g <= 0\n",
    "iq = Matrix([-ut, ut-1])\n",
    "iq.T"
   ]
  },
  {
   "cell_type": "code",
   "execution_count": 28,
   "metadata": {},
   "outputs": [
    {
     "data": {
      "text/latex": [
       "$$\\left[\\begin{matrix}\\sqrt{u_{x}^{2} + u_{y}^{2}} - 1\\end{matrix}\\right]$$"
      ],
      "text/plain": [
       "⎡   ____________    ⎤\n",
       "⎢  ╱   2      2     ⎥\n",
       "⎣╲╱  uₓ  + u_y   - 1⎦"
      ]
     },
     "execution_count": 28,
     "metadata": {},
     "output_type": "execute_result"
    }
   ],
   "source": [
    "# equality constraints h == 1\n",
    "eq = Matrix([sqrt(u[1]**2 + u[2]**2) - 1])\n",
    "eq.T"
   ]
  },
  {
   "cell_type": "code",
   "execution_count": 29,
   "metadata": {},
   "outputs": [],
   "source": [
    "sys = system(s, u, ds, L, eq, iq)"
   ]
  },
  {
   "cell_type": "code",
   "execution_count": null,
   "metadata": {},
   "outputs": [],
   "source": [
    "sys.solve()"
   ]
  },
  {
   "cell_type": "code",
   "execution_count": null,
   "metadata": {},
   "outputs": [],
   "source": [
    "sys.sol"
   ]
  },
  {
   "cell_type": "code",
   "execution_count": 14,
   "metadata": {},
   "outputs": [
    {
     "data": {
      "image/png": "[encoded data removed]",
      "text/latex": [
       "$$\\left [ \\alpha + c_{1} \\lambda_{vx} u_{x} + c_{1} \\lambda_{vy} u_{y} - \\frac{c_{1} \\lambda_{m}}{c_{2}} + \\eta_{0} - \\eta_{1} + 2 u_{t} \\left(- \\alpha + 1\\right), \\quad c_{1} \\lambda_{vx} u_{t} + \\eta_{2} - \\eta_{3} - \\frac{u_{x} \\zeta_{0}}{\\sqrt{u_{x}^{2} + u_{y}^{2}}}, \\quad c_{1} \\lambda_{vy} u_{t} + \\eta_{4} - \\eta_{5} - \\frac{u_{y} \\zeta_{0}}{\\sqrt{u_{x}^{2} + u_{y}^{2}}}, \\quad - \\eta_{0} u_{t}, \\quad \\eta_{1} \\left(u_{t} - 1\\right), \\quad - \\eta_{2} u_{x}, \\quad \\eta_{3} \\left(u_{x} - 1\\right), \\quad - \\eta_{4} u_{y}, \\quad \\eta_{5} \\left(u_{y} - 1\\right)\\right ]$$"
      ],
      "text/plain": [
       "⎡                              c₁⋅λₘ                                          \n",
       "⎢α + c₁⋅λᵥₓ⋅uₓ + c₁⋅λ_vy⋅u_y - ───── + η₀ - η₁ + 2⋅uₜ⋅(-α + 1), c₁⋅λᵥₓ⋅uₜ + η₂\n",
       "⎢                                c₂                                           \n",
       "⎢                                                                             \n",
       "⎣                                                                             \n",
       "\n",
       "             uₓ⋅ζ₀                                   u_y⋅ζ₀                   \n",
       " - η₃ - ───────────────, c₁⋅λ_vy⋅uₜ + η₄ - η₅ - ───────────────, -η₀⋅uₜ, η₁⋅(u\n",
       "           ____________                            ____________               \n",
       "          ╱   2      2                            ╱   2      2                \n",
       "        ╲╱  uₓ  + u_y                           ╲╱  uₓ  + u_y                 \n",
       "\n",
       "                                                  ⎤\n",
       "ₜ - 1), -η₂⋅uₓ, η₃⋅(uₓ - 1), -η₄⋅u_y, η₅⋅(u_y - 1)⎥\n",
       "                                                  ⎥\n",
       "                                                  ⎥\n",
       "                                                  ⎦"
      ]
     },
     "execution_count": 14,
     "metadata": {},
     "output_type": "execute_result"
    }
   ],
   "source": [
    "sys.opteqs"
   ]
  },
  {
   "cell_type": "code",
   "execution_count": null,
   "metadata": {},
   "outputs": [],
   "source": []
  }
 ],
 "metadata": {
  "kernelspec": {
   "display_name": "Python 3",
   "language": "python",
   "name": "python3"
  },
  "language_info": {
   "codemirror_mode": {
    "name": "ipython",
    "version": 3
   },
   "file_extension": ".py",
   "mimetype": "text/x-python",
   "name": "python",
   "nbconvert_exporter": "python",
   "pygments_lexer": "ipython3",
   "version": "3.5.2"
  }
 },
 "nbformat": 4,
 "nbformat_minor": 2
}
