{
 "cells": [
  {
   "cell_type": "code",
   "execution_count": 21,
   "metadata": {},
   "outputs": [],
   "source": [
    "# Christopher Iliffe Sprague\n",
    "# christopher.iliffe.sprague@gmail.com\n",
    "import sys; sys.path.append(\"../src\")\n",
    "import numpy as np, pygmo as pg, matplotlib.pyplot as plt"
   ]
  },
  {
   "cell_type": "code",
   "execution_count": 2,
   "metadata": {},
   "outputs": [],
   "source": [
    "# instantiate dynamics\n",
    "from imperium.dynamics.auv2d import AUV2D\n",
    "thrust = 1\n",
    "mass = 10\n",
    "T = 100\n",
    "L = 100\n",
    "sys = AUV2D(thrust, mass, T, L)"
   ]
  },
  {
   "cell_type": "code",
   "execution_count": 3,
   "metadata": {},
   "outputs": [
    {
     "data": {
      "text/plain": [
       "<imperium.trajectory.Indirect at 0x7f8764744518>"
      ]
     },
     "execution_count": 3,
     "metadata": {},
     "output_type": "execute_result"
    }
   ],
   "source": [
    "# instantiate trajectory\n",
    "from imperium.trajectory import Indirect\n",
    "traj = Indirect(sys)\n",
    "traj"
   ]
  },
  {
   "cell_type": "code",
   "execution_count": 4,
   "metadata": {},
   "outputs": [],
   "source": [
    "# state bounds\n",
    "s1 = ([0, 0, 0, 0], [0, 0, 0, 0])\n",
    "s2 = ([500, 500, -5, -5], [500, 500, 5, 5])\n",
    "s3 = ([0, 1000, -5, -5], [0, 1000, 5, 5])\n",
    "s4 = ([500, 500, 0, 0], [500, 500, 0, 0])\n",
    "states = [s1, s2, s3, s4]"
   ]
  },
  {
   "cell_type": "code",
   "execution_count": 5,
   "metadata": {},
   "outputs": [],
   "source": [
    "traj.set_state_bounds(states)\n",
    "traj.set_duration_bounds(1, 1000)"
   ]
  },
  {
   "cell_type": "code",
   "execution_count": 6,
   "metadata": {},
   "outputs": [],
   "source": [
    "traj.solve()"
   ]
  },
  {
   "cell_type": "code",
   "execution_count": 28,
   "metadata": {},
   "outputs": [
    {
     "name": "stdout",
     "output_type": "stream",
     "text": [
      "Using matplotlib backend: Qt5Agg\n"
     ]
    }
   ],
   "source": [
    "# ploting\n",
    "%matplotlib\n",
    "\n",
    "# position trajectory\n",
    "fig, ax = plt.subplots(traj.dynamics.sdim*2 + traj.dynamics.udim)\n",
    "for i in range(traj.dynamics.sdim*2):\n",
    "    ax[i].plot(traj.times, traj.states[:, i], \"k.-\")\n",
    "for i in range(traj.dynamics.udim):\n",
    "    ax[traj.dynamics.sdim*2 + i].plot(traj.times, traj.controls[:, i], \"k.-\")\n",
    "\n",
    "import matplotlib.pyplot as plt\n",
    "fig, ax = plt.subplots(1)\n",
    "ax.plot(traj.states[:, 0], traj.states[:, 1], \"k.-\")\n",
    "plt.show()"
   ]
  },
  {
   "cell_type": "code",
   "execution_count": 18,
   "metadata": {},
   "outputs": [
    {
     "name": "stdout",
     "output_type": "stream",
     "text": [
      "Using matplotlib backend: Qt5Agg\n"
     ]
    }
   ],
   "source": [
    "%matplotlib\n"
   ]
  },
  {
   "cell_type": "code",
   "execution_count": 10,
   "metadata": {},
   "outputs": [
    {
     "ename": "TypeError",
     "evalue": "'numpy.ndarray' object is not callable",
     "output_type": "error",
     "traceback": [
      "\u001b[0;31m---------------------------------------------------------------------------\u001b[0m",
      "\u001b[0;31mTypeError\u001b[0m                                 Traceback (most recent call last)",
      "\u001b[0;32m<ipython-input-10-737a1dd24ef0>\u001b[0m in \u001b[0;36m<module>\u001b[0;34m()\u001b[0m\n\u001b[0;32m----> 1\u001b[0;31m \u001b[0mtraj\u001b[0m\u001b[0;34m.\u001b[0m\u001b[0mzopt\u001b[0m\u001b[0;34m(\u001b[0m\u001b[0;34m)\u001b[0m\u001b[0;34m\u001b[0m\u001b[0m\n\u001b[0m",
      "\u001b[0;31mTypeError\u001b[0m: 'numpy.ndarray' object is not callable"
     ]
    }
   ],
   "source": [
    "traj.zopt()"
   ]
  },
  {
   "cell_type": "code",
   "execution_count": null,
   "metadata": {},
   "outputs": [],
   "source": []
  }
 ],
 "metadata": {
  "kernelspec": {
   "display_name": "Python 3",
   "language": "python",
   "name": "python3"
  },
  "language_info": {
   "codemirror_mode": {
    "name": "ipython",
    "version": 3
   },
   "file_extension": ".py",
   "mimetype": "text/x-python",
   "name": "python",
   "nbconvert_exporter": "python",
   "pygments_lexer": "ipython3",
   "version": "3.6.5"
  }
 },
 "nbformat": 4,
 "nbformat_minor": 2
}
