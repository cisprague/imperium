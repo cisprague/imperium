{
 "cells": [
  {
   "cell_type": "code",
   "execution_count": 1,
   "metadata": {},
   "outputs": [],
   "source": [
    "# Christopher Iliffe Sprague\n",
    "# christopher.iliffe.sprague@gmail.com\n",
    "import sys; sys.path.append(\"../src\")\n",
    "import numpy as np, pygmo as pg"
   ]
  },
  {
   "cell_type": "code",
   "execution_count": 2,
   "metadata": {},
   "outputs": [],
   "source": [
    "# instantiate dynamics\n",
    "from imperium.dynamics.auv2d import AUV2D\n",
    "thrust = 1\n",
    "mass = 100\n",
    "T = 1000\n",
    "L = 100\n",
    "sys = AUV2D(thrust, mass, T, L)"
   ]
  },
  {
   "cell_type": "code",
   "execution_count": 3,
   "metadata": {},
   "outputs": [
    {
     "data": {
      "text/plain": [
       "<imperium.trajectory.Indirect at 0x7eff11eafd30>"
      ]
     },
     "execution_count": 3,
     "metadata": {},
     "output_type": "execute_result"
    }
   ],
   "source": [
    "# instantiate trajectory\n",
    "from imperium.trajectory import Indirect\n",
    "traj = Indirect(sys)\n",
    "traj"
   ]
  },
  {
   "cell_type": "code",
   "execution_count": 4,
   "metadata": {},
   "outputs": [],
   "source": [
    "# state bounds\n",
    "s1 = ([0, 0, 0, 0], [0, 0, 0, 0])\n",
    "s2 = ([500, 500, -10, -10], [500, 500, 10, 10])\n",
    "s3 = ([0, 1000, 0, 0], [0, 1000, 0, 0])\n",
    "states = [s1, s2, s3]"
   ]
  },
  {
   "cell_type": "code",
   "execution_count": 5,
   "metadata": {},
   "outputs": [],
   "source": [
    "traj.set_state_bounds(states)\n",
    "traj.set_duration_bounds(10, 5000)"
   ]
  },
  {
   "cell_type": "code",
   "execution_count": 6,
   "metadata": {},
   "outputs": [
    {
     "data": {
      "text/plain": [
       "array([ 0.00000000e+00,  0.00000000e+00,  0.00000000e+00,  0.00000000e+00,\n",
       "        1.94199871e+03,  5.00000000e+02,  5.00000000e+02, -2.71380122e+00,\n",
       "       -5.00819479e+00, -5.33288945e+00,  1.64485342e+00,  1.36596723e+00,\n",
       "       -1.68775566e+00,  4.59599032e+03,  0.00000000e+00,  1.00000000e+03,\n",
       "        0.00000000e+00,  0.00000000e+00,  9.84924054e+00,  7.33130114e+00,\n",
       "       -1.35192836e+00,  4.93586489e+00])"
      ]
     },
     "execution_count": 6,
     "metadata": {},
     "output_type": "execute_result"
    }
   ],
   "source": [
    "zr = pg.random_decision_vector(*traj.get_bounds())\n",
    "zr"
   ]
  },
  {
   "cell_type": "code",
   "execution_count": 7,
   "metadata": {},
   "outputs": [
    {
     "name": "stdout",
     "output_type": "stream",
     "text": [
      "[1941.99870872 4595.99032143] [[ 500.          500.           -2.71380122   -5.00819479]\n",
      " [   0.         1000.            0.            0.        ]] [[-5.33288945  1.64485342  1.36596723 -1.68775566]\n",
      " [ 9.84924054  7.33130114 -1.35192836  4.93586489]]\n"
     ]
    }
   ],
   "source": [
    "traj.fitness(zr)"
   ]
  },
  {
   "cell_type": "code",
   "execution_count": null,
   "metadata": {},
   "outputs": [],
   "source": []
  }
 ],
 "metadata": {
  "kernelspec": {
   "display_name": "Python 3",
   "language": "python",
   "name": "python3"
  },
  "language_info": {
   "codemirror_mode": {
    "name": "ipython",
    "version": 3
   },
   "file_extension": ".py",
   "mimetype": "text/x-python",
   "name": "python",
   "nbconvert_exporter": "python",
   "pygments_lexer": "ipython3",
   "version": "3.6.5"
  }
 },
 "nbformat": 4,
 "nbformat_minor": 2
}
