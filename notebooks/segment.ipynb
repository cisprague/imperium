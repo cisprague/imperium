{
 "cells": [
  {
   "cell_type": "code",
   "execution_count": 1,
   "metadata": {},
   "outputs": [],
   "source": [
    "# Christopher Iliffe Sprague\n",
    "# christopher.iliffe.sprague@gmail.com\n",
    "import sys; sys.path.append(\"../src\")\n",
    "import numpy as np"
   ]
  },
  {
   "cell_type": "code",
   "execution_count": 2,
   "metadata": {},
   "outputs": [],
   "source": [
    "# instantiate dynamics\n",
    "from imperium.dynamics.auv2d import AUV2D\n",
    "thrust = 1\n",
    "mass = 100\n",
    "T = 1000\n",
    "L = 100\n",
    "sys = AUV2D(thrust, mass, T, L)"
   ]
  },
  {
   "cell_type": "code",
   "execution_count": 3,
   "metadata": {},
   "outputs": [],
   "source": [
    "# instantiate indirect freetime segment with dynamics\n",
    "from imperium.segment import Indirect\n",
    "seg = Indirect(sys, True)"
   ]
  },
  {
   "cell_type": "code",
   "execution_count": 4,
   "metadata": {},
   "outputs": [],
   "source": [
    "# set the segment\n",
    "t0 = 0\n",
    "s0 = np.array([0, 0, 0, 0])\n",
    "tf = 1000\n",
    "sf = np.array([1000, 1000, 0, 0])\n",
    "l0 = np.random.randn(len(s0))\n",
    "seg.set(t0, s0, tf, sf, l0)\n",
    "seg.dynamics.homotopy = 0"
   ]
  },
  {
   "cell_type": "code",
   "execution_count": 5,
   "metadata": {},
   "outputs": [],
   "source": [
    "# optimise the trajectory\n",
    "optpop = seg.solve()"
   ]
  },
  {
   "cell_type": "code",
   "execution_count": 6,
   "metadata": {},
   "outputs": [
    {
     "data": {
      "image/png": "[encoded data removed]",
      "text/plain": [
       "<Figure size 432x288 with 1 Axes>"
      ]
     },
     "metadata": {},
     "output_type": "display_data"
    }
   ],
   "source": [
    "# plot the trajectory\n",
    "import matplotlib.pyplot as plt\n",
    "plt.figure()\n",
    "plt.plot(seg.states[:, 0], seg.states[:, 1], \"k.-\")\n",
    "plt.show()"
   ]
  }
 ],
 "metadata": {
  "kernelspec": {
   "display_name": "Python 3",
   "language": "python",
   "name": "python3"
  },
  "language_info": {
   "codemirror_mode": {
    "name": "ipython",
    "version": 3
   },
   "file_extension": ".py",
   "mimetype": "text/x-python",
   "name": "python",
   "nbconvert_exporter": "python",
   "pygments_lexer": "ipython3",
   "version": "3.6.5"
  }
 },
 "nbformat": 4,
 "nbformat_minor": 2
}
