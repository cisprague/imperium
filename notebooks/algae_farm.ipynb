{
 "cells": [
  {
   "cell_type": "code",
   "execution_count": 1,
   "metadata": {},
   "outputs": [],
   "source": [
    "import sys\n",
    "sys.path.append(\"../src\")\n",
    "from imperium.dynamics import auv2d\n",
    "from imperium.segment import Indirect\n",
    "from imperium.environments.algae import Algae_Farm\n",
    "import matplotlib.pyplot as plt\n",
    "import numpy as np, pygmo as pg, pygmo_plugins_nonfree as pg7\n",
    "%matplotlib inline"
   ]
  },
  {
   "cell_type": "code",
   "execution_count": 2,
   "metadata": {},
   "outputs": [
    {
     "name": "stderr",
     "output_type": "stream",
     "text": [
      "/usr/lib/python3.6/site-packages/matplotlib/figure.py:459: UserWarning: matplotlib is currently using a non-GUI backend, so cannot show the figure\n",
      "  \"matplotlib is currently using a non-GUI backend, \"\n"
     ]
    },
    {
     "data": {
      "image/png": "[encoded data removed]",
      "text/plain": [
       "<Figure size 432x288 with 1 Axes>"
      ]
     },
     "metadata": {},
     "output_type": "display_data"
    }
   ],
   "source": [
    "# create an algae farm\n",
    "farm = Algae_Farm(5, 5, 2, 6, 10, 40, 40)\n",
    "\n",
    "# show coverage scenario\n",
    "fig, ax = plt.subplots(1)\n",
    "farm.plot(ax)\n",
    "pts = farm.simple_coverage()\n",
    "ax.plot(pts.T[0], pts.T[1], \"k.\")\n",
    "fig.show()"
   ]
  },
  {
   "cell_type": "code",
   "execution_count": 3,
   "metadata": {},
   "outputs": [
    {
     "data": {
      "text/plain": [
       "array([0.004838  , 0.00179965, 0.05955615, 0.01873931, 0.9980357 ])"
      ]
     },
     "execution_count": 3,
     "metadata": {},
     "output_type": "execute_result"
    }
   ],
   "source": [
    "# create first segment\n",
    "seg = Indirect(\"auv2d\", [10, 10], [100, 10, 100], [0, -1, -1], [1, 1, 1], True)\n",
    "\n",
    "# departure state\n",
    "t0 = 0\n",
    "s0 = np.array([farm.dsx, farm.dsy, 0, 0])\n",
    "tf = 100\n",
    "sf = np.hstack((pts[-1], [0, 0]))\n",
    "seg.set(0, np.array([farm.dsx, farm.dsy, 0, 0]), 10, sf, np.random.randn(4)*20, [0.999], True)\n",
    "seg.mismatch()"
   ]
  },
  {
   "cell_type": "code",
   "execution_count": 10,
   "metadata": {},
   "outputs": [],
   "source": [
    "# optimisation problem\n",
    "prob = pg.problem(seg)\n",
    "\n",
    "# instantiate SNOPT algorithm\n",
    "algo = pg7.snopt7(True, \"/home/cisprague/Dev/SNOPT/libsnopt7_c.so\")\n",
    "algo.set_integer_option(\"Major iterations limit\", 4000)\n",
    "algo.set_integer_option(\"Iterations limit\", 40000)\n",
    "algo.set_numeric_option(\"Major optimality tolerance\", 1e-2)\n",
    "algo.set_numeric_option(\"Major feasibility tolerance\", 1e-8)\n",
    "algo = pg.algorithm(algo)"
   ]
  },
  {
   "cell_type": "code",
   "execution_count": 11,
   "metadata": {},
   "outputs": [
    {
     "ename": "ValueError",
     "evalue": "\nfunction: evolve\nwhere: /pagmo_plugins_nonfree/include/pagmo_plugins_nonfree/snopt7.hpp, 506\nwhat: \nAn error occurred while loading the snopt7_c library at run-time. This is typically caused by one of the following\nreasons:\n\n- The file declared to be the snopt7_c library, i.e. /home/cisprague/Dev/SNOPT/libsnopt7_c.so, is not a shared library containing the necessary C interface symbols (is the file path really pointing to\na valid shared library?)\n - The library is found and it does contain the C interface symbols, but it needs linking to some additional libraries that are not found\nat run-time.\n\nWe report the exact text of the original exception thrown:\n\n boost::dll::shared_library::load() failed (dlerror system message: libgfortran.so.3: cannot open shared object file: No such file or directory): Bad file descriptor\n",
     "output_type": "error",
     "traceback": [
      "\u001b[0;31m---------------------------------------------------------------------------\u001b[0m",
      "\u001b[0;31mValueError\u001b[0m                                Traceback (most recent call last)",
      "\u001b[0;32m<ipython-input-11-ee78a9fc9c19>\u001b[0m in \u001b[0;36m<module>\u001b[0;34m()\u001b[0m\n\u001b[1;32m      1\u001b[0m \u001b[0;31m# instantiate population\u001b[0m\u001b[0;34m\u001b[0m\u001b[0;34m\u001b[0m\u001b[0m\n\u001b[1;32m      2\u001b[0m \u001b[0mpop\u001b[0m \u001b[0;34m=\u001b[0m \u001b[0mpg\u001b[0m\u001b[0;34m.\u001b[0m\u001b[0mpopulation\u001b[0m\u001b[0;34m(\u001b[0m\u001b[0mprob\u001b[0m\u001b[0;34m,\u001b[0m \u001b[0;36m1\u001b[0m\u001b[0;34m)\u001b[0m\u001b[0;34m\u001b[0m\u001b[0m\n\u001b[0;32m----> 3\u001b[0;31m \u001b[0mpop\u001b[0m \u001b[0;34m=\u001b[0m \u001b[0malgo\u001b[0m\u001b[0;34m.\u001b[0m\u001b[0mevolve\u001b[0m\u001b[0;34m(\u001b[0m\u001b[0mpop\u001b[0m\u001b[0;34m)\u001b[0m\u001b[0;34m\u001b[0m\u001b[0m\n\u001b[0m",
      "\u001b[0;31mValueError\u001b[0m: \nfunction: evolve\nwhere: /pagmo_plugins_nonfree/include/pagmo_plugins_nonfree/snopt7.hpp, 506\nwhat: \nAn error occurred while loading the snopt7_c library at run-time. This is typically caused by one of the following\nreasons:\n\n- The file declared to be the snopt7_c library, i.e. /home/cisprague/Dev/SNOPT/libsnopt7_c.so, is not a shared library containing the necessary C interface symbols (is the file path really pointing to\na valid shared library?)\n - The library is found and it does contain the C interface symbols, but it needs linking to some additional libraries that are not found\nat run-time.\n\nWe report the exact text of the original exception thrown:\n\n boost::dll::shared_library::load() failed (dlerror system message: libgfortran.so.3: cannot open shared object file: No such file or directory): Bad file descriptor\n"
     ]
    }
   ],
   "source": [
    "# instantiate population\n",
    "pop = pg.population(prob, 1)\n",
    "pop = algo.evolve(pop)"
   ]
  },
  {
   "cell_type": "code",
   "execution_count": null,
   "metadata": {},
   "outputs": [],
   "source": []
  },
  {
   "cell_type": "code",
   "execution_count": null,
   "metadata": {},
   "outputs": [],
   "source": [
    "dynamics.__dict__['auv2d']"
   ]
  },
  {
   "cell_type": "code",
   "execution_count": null,
   "metadata": {},
   "outputs": [],
   "source": []
  }
 ],
 "metadata": {
  "kernelspec": {
   "display_name": "Python 3",
   "language": "python",
   "name": "python3"
  },
  "language_info": {
   "codemirror_mode": {
    "name": "ipython",
    "version": 3
   },
   "file_extension": ".py",
   "mimetype": "text/x-python",
   "name": "python",
   "nbconvert_exporter": "python",
   "pygments_lexer": "ipython3",
   "version": "3.6.5"
  }
 },
 "nbformat": 4,
 "nbformat_minor": 2
}
