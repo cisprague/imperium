{
 "cells": [
  {
   "cell_type": "code",
   "execution_count": 7,
   "metadata": {},
   "outputs": [],
   "source": [
    "import sys\n",
    "sys.path.append(\"../src\")\n",
    "from imperium.dynamics import auv2d\n",
    "from imperium.segment import Indirect\n",
    "from imperium.environments.algae import Algae_Farm\n",
    "import matplotlib.pyplot as plt, numpy as np, pygmo as pg\n",
    "%matplotlib inline"
   ]
  },
  {
   "cell_type": "code",
   "execution_count": 8,
   "metadata": {},
   "outputs": [],
   "source": [
    "# create an algae farm\n",
    "farm = Algae_Farm(5, 5, 2, 6, 10, 40, 40)\n",
    "pts = farm.simple_coverage()"
   ]
  },
  {
   "cell_type": "code",
   "execution_count": 9,
   "metadata": {},
   "outputs": [
    {
     "data": {
      "text/plain": [
       "array([ 9.35151309e-04, -3.13589970e-03, -4.21989120e-02, -9.65062034e-02,\n",
       "       -9.94432047e-01])"
      ]
     },
     "execution_count": 9,
     "metadata": {},
     "output_type": "execute_result"
    }
   ],
   "source": [
    "# create first segment\n",
    "seg = Indirect(\"auv2d\", [10, 10], [100, 10, 100], [0, -1, -1], [1, 1, 1], True)\n",
    "\n",
    "# departure state\n",
    "t0 = 0\n",
    "s0 = np.array([farm.dsx, farm.dsy, 0, 0])\n",
    "tf = 100\n",
    "sf = np.hstack((pts[-1], [0, 0]))\n",
    "seg.set(0, np.array([farm.dsx, farm.dsy, 0, 0]), 10, sf, np.random.randn(4)*20, [0.999], True)\n",
    "seg.mismatch()"
   ]
  },
  {
   "cell_type": "code",
   "execution_count": 11,
   "metadata": {},
   "outputs": [
    {
     "ename": "ArgumentError",
     "evalue": "Python argument types in\n    ipopt.set_numeric_options(ipopt, str, float)\ndid not match C++ signature:\n    set_numeric_options(pagmo::ipopt {lvalue}, boost::python::dict opts)",
     "output_type": "error",
     "traceback": [
      "\u001b[0;31m---------------------------------------------------------------------------\u001b[0m",
      "\u001b[0;31mArgumentError\u001b[0m                             Traceback (most recent call last)",
      "\u001b[0;32m<ipython-input-11-9ae2ca95e7e2>\u001b[0m in \u001b[0;36m<module>\u001b[0;34m()\u001b[0m\n\u001b[1;32m      4\u001b[0m \u001b[0;31m# instantiate SNOPT algorithm\u001b[0m\u001b[0;34m\u001b[0m\u001b[0;34m\u001b[0m\u001b[0m\n\u001b[1;32m      5\u001b[0m \u001b[0malgo\u001b[0m \u001b[0;34m=\u001b[0m \u001b[0mpg\u001b[0m\u001b[0;34m.\u001b[0m\u001b[0mipopt\u001b[0m\u001b[0;34m(\u001b[0m\u001b[0;34m)\u001b[0m\u001b[0;34m\u001b[0m\u001b[0m\n\u001b[0;32m----> 6\u001b[0;31m \u001b[0malgo\u001b[0m\u001b[0;34m.\u001b[0m\u001b[0mset_numeric_options\u001b[0m\u001b[0;34m(\u001b[0m\u001b[0;34m\"tol\"\u001b[0m\u001b[0;34m,\u001b[0m \u001b[0;36m1e-9\u001b[0m\u001b[0;34m)\u001b[0m\u001b[0;34m\u001b[0m\u001b[0m\n\u001b[0m\u001b[1;32m      7\u001b[0m \u001b[0malgo\u001b[0m\u001b[0;34m.\u001b[0m\u001b[0mset_verbosity\u001b[0m\u001b[0;34m(\u001b[0m\u001b[0;36m1\u001b[0m\u001b[0;34m)\u001b[0m\u001b[0;34m\u001b[0m\u001b[0m\n\u001b[1;32m      8\u001b[0m \u001b[0malgo\u001b[0m \u001b[0;34m=\u001b[0m \u001b[0mpg\u001b[0m\u001b[0;34m.\u001b[0m\u001b[0malgorithm\u001b[0m\u001b[0;34m(\u001b[0m\u001b[0malgo\u001b[0m\u001b[0;34m)\u001b[0m\u001b[0;34m\u001b[0m\u001b[0m\n",
      "\u001b[0;31mArgumentError\u001b[0m: Python argument types in\n    ipopt.set_numeric_options(ipopt, str, float)\ndid not match C++ signature:\n    set_numeric_options(pagmo::ipopt {lvalue}, boost::python::dict opts)"
     ]
    }
   ],
   "source": [
    "# optimisation problem\n",
    "prob = pg.problem(seg)\n",
    "\n",
    "# instantiate SNOPT algorithm\n",
    "algo = pg.ipopt()\n",
    "algo.set_numeric_options(\"tol\", 1e-9)\n",
    "algo.set_verbosity(1)\n",
    "algo = pg.algorithm(algo)"
   ]
  },
  {
   "cell_type": "code",
   "execution_count": null,
   "metadata": {},
   "outputs": [],
   "source": [
    "# instantiate population\n",
    "pop = pg.population(prob, 1)\n",
    "pop = algo.evolve(pop)"
   ]
  },
  {
   "cell_type": "code",
   "execution_count": null,
   "metadata": {},
   "outputs": [],
   "source": [
    "# show coverage scenario\n",
    "fig, ax = plt.subplots(1)\n",
    "farm.plot(ax)\n",
    "pts = farm.simple_coverage()\n",
    "ax.plot(pts.T[0], pts.T[1], \"k.\")\n",
    "fig.show()"
   ]
  },
  {
   "cell_type": "code",
   "execution_count": null,
   "metadata": {},
   "outputs": [],
   "source": [
    "dynamics.__dict__['auv2d']"
   ]
  },
  {
   "cell_type": "code",
   "execution_count": null,
   "metadata": {},
   "outputs": [],
   "source": []
  }
 ],
 "metadata": {
  "kernelspec": {
   "display_name": "Python 3",
   "language": "python",
   "name": "python3"
  },
  "language_info": {
   "codemirror_mode": {
    "name": "ipython",
    "version": 3
   },
   "file_extension": ".py",
   "mimetype": "text/x-python",
   "name": "python",
   "nbconvert_exporter": "python",
   "pygments_lexer": "ipython3",
   "version": "3.6.5"
  }
 },
 "nbformat": 4,
 "nbformat_minor": 2
}
