{
 "cells": [
  {
   "cell_type": "code",
   "execution_count": null,
   "metadata": {},
   "outputs": [],
   "source": [
    "import sys\n",
    "sys.path.append(\"../src\")\n",
    "from imperium.dynamics import auv2d\n",
    "from imperium.segment import Indirect\n",
    "from imperium.environments.algae import Algae_Farm\n",
    "import matplotlib.pyplot as plt, numpy as np, pygmo as pg\n",
    "%matplotlib"
   ]
  },
  {
   "cell_type": "code",
   "execution_count": null,
   "metadata": {},
   "outputs": [],
   "source": [
    "# create an algae farm\n",
    "farm = Algae_Farm(5, 5, 2, 6, 10, 40, 40)\n",
    "\n",
    "# compute waypoint sequence\n",
    "pts = farm.simple_coverage()"
   ]
  },
  {
   "cell_type": "code",
   "execution_count": null,
   "metadata": {},
   "outputs": [],
   "source": [
    "# AUV characteristics\n",
    "T = 10 # Newtons\n",
    "m = 10 # kilograms\n",
    "homo = 0.99 # homotopy parameter"
   ]
  },
  {
   "cell_type": "code",
   "execution_count": null,
   "metadata": {},
   "outputs": [],
   "source": [
    "# boundary conditions\n",
    "t0 = 0 # seconds\n",
    "s0 = np.array([farm.dsx, farm.dsy, 0, 0]) # stationary at dock [m, m, m/s, m/s]\n",
    "sf = s0 # return softly to dock"
   ]
  },
  {
   "cell_type": "code",
   "execution_count": null,
   "metadata": {},
   "outputs": [],
   "source": [
    "# add boundaries to coverage map\n",
    "np.random.randn(1 + len(s0)*2)"
   ]
  },
  {
   "cell_type": "code",
   "execution_count": null,
   "metadata": {},
   "outputs": [],
   "source": [
    "\n",
    "\n",
    "\n",
    "\n",
    "seg = Indirect(\"auv2d\", [10, 10], [100, 10, 100], [0, -1, -1], [1, 1, 1], True)\n",
    "\n",
    "# departure state\n",
    "t0 = 0\n",
    "s0 = np.array([farm.dsx, farm.dsy, 0, 0])\n",
    "tf = 100\n",
    "sf = np.hstack((pts[-1], [0, 0]))\n",
    "seg.set(0, np.array([farm.dsx, farm.dsy, 0, 0]), 10, sf, np.random.randn(4)*20, [0.999], True)\n",
    "seg.mismatch()"
   ]
  },
  {
   "cell_type": "code",
   "execution_count": null,
   "metadata": {},
   "outputs": [],
   "source": [
    "# optimisation problem\n",
    "prob = pg.problem(seg)\n",
    "\n",
    "# instantiate SNOPT algorithm\n",
    "algo = pg.ipopt()\n",
    "algo.set_numeric_option(\"tol\",1e-5)\n",
    "algo = pg.algorithm(algo)\n",
    "algo.set_verbosity(1)"
   ]
  },
  {
   "cell_type": "code",
   "execution_count": null,
   "metadata": {},
   "outputs": [],
   "source": [
    "# instantiate population\n",
    "pop = pg.population(prob, 1)\n",
    "pop = algo.evolve(pop)"
   ]
  },
  {
   "cell_type": "code",
   "execution_count": null,
   "metadata": {},
   "outputs": [],
   "source": [
    "# show coverage scenario\n",
    "seg.fitness(pop.champion_x)\n",
    "fig, ax = plt.subplots(1)\n",
    "farm.plot(ax)\n",
    "pts = farm.simple_coverage()\n",
    "ax.plot(pts.T[0], pts.T[1], \"k.\")\n",
    "ax.plot(seg.states[:, 0], seg.states[:, 1], \"k.-\")\n",
    "fig.show()"
   ]
  },
  {
   "cell_type": "code",
   "execution_count": null,
   "metadata": {},
   "outputs": [],
   "source": [
    "dynamics.__dict__['auv2d']"
   ]
  },
  {
   "cell_type": "code",
   "execution_count": null,
   "metadata": {},
   "outputs": [],
   "source": []
  }
 ],
 "metadata": {
  "kernelspec": {
   "display_name": "Python 3",
   "language": "python",
   "name": "python3"
  },
  "language_info": {
   "codemirror_mode": {
    "name": "ipython",
    "version": 3
   },
   "file_extension": ".py",
   "mimetype": "text/x-python",
   "name": "python",
   "nbconvert_exporter": "python",
   "pygments_lexer": "ipython3",
   "version": "3.6.5"
  }
 },
 "nbformat": 4,
 "nbformat_minor": 2
}
