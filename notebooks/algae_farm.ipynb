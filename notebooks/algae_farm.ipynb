{
 "cells": [
  {
   "cell_type": "code",
   "execution_count": 1,
   "metadata": {},
   "outputs": [
    {
     "name": "stdout",
     "output_type": "stream",
     "text": [
      "Using matplotlib backend: Qt5Agg\n"
     ]
    }
   ],
   "source": [
    "import sys\n",
    "sys.path.append(\"../src\")\n",
    "from imperium.dynamics.auv2d import AUV2D\n",
    "from imperium.trajectory import Indirect\n",
    "from imperium.environments.algae import Algae_Farm\n",
    "import matplotlib.pyplot as plt, numpy as np, pygmo as pg\n",
    "%matplotlib"
   ]
  },
  {
   "cell_type": "code",
   "execution_count": 3,
   "metadata": {},
   "outputs": [],
   "source": [
    "# instantiate dynamics\n",
    "from imperium.dynamics.auv2d import AUV2D\n",
    "thrust = 1\n",
    "mass = 10\n",
    "T = 1000\n",
    "L = 100\n",
    "sys = AUV2D(thrust, mass, T, L)"
   ]
  },
  {
   "cell_type": "code",
   "execution_count": 4,
   "metadata": {},
   "outputs": [],
   "source": [
    "# instantiate trajectory\n",
    "from imperium.trajectory import Indirect\n",
    "traj = Indirect(sys)"
   ]
  },
  {
   "cell_type": "code",
   "execution_count": 5,
   "metadata": {},
   "outputs": [
    {
     "data": {
      "text/plain": [
       "array([[15. , 15. ],\n",
       "       [ 5. , 15. ],\n",
       "       [ 2.5, 10. ],\n",
       "       [ 5. ,  5. ],\n",
       "       [15. ,  5. ]])"
      ]
     },
     "execution_count": 5,
     "metadata": {},
     "output_type": "execute_result"
    }
   ],
   "source": [
    "# create an algae farm\n",
    "farm = Algae_Farm(5, 10, 10, 10, 1, 30, 50)\n",
    "\n",
    "# compute waypoint sequence\n",
    "pts = farm.simple_coverage()\n",
    "pts"
   ]
  },
  {
   "cell_type": "code",
   "execution_count": 6,
   "metadata": {},
   "outputs": [
    {
     "data": {
      "text/plain": [
       "[([30, 50, 0, 0], [30, 50, 0, 0]),\n",
       " ([15.0, 15.0, -5, -5], [15.0, 15.0, 5, 5]),\n",
       " ([5.0, 15.0, -5, -5], [5.0, 15.0, 5, 5]),\n",
       " ([2.5, 10.0, -5, -5], [2.5, 10.0, 5, 5]),\n",
       " ([5.0, 5.0, -5, -5], [5.0, 5.0, 5, 5]),\n",
       " ([15.0, 5.0, -5, -5], [15.0, 5.0, 5, 5]),\n",
       " ([30, 50, 0, 0], [30, 50, 0, 0])]"
      ]
     },
     "execution_count": 6,
     "metadata": {},
     "output_type": "execute_result"
    }
   ],
   "source": [
    "# state bounds\n",
    "states = [([farm.dsx, farm.dsy, 0, 0], [farm.dsx, farm.dsy, 0, 0])]\n",
    "for pt in pts:\n",
    "    states.append(([pt[0], pt[1], -5, -5], [pt[0], pt[1], 5, 5]))\n",
    "states.append(([farm.dsx, farm.dsy, 0, 0], [farm.dsx, farm.dsy, 0, 0]))\n",
    "states"
   ]
  },
  {
   "cell_type": "code",
   "execution_count": 7,
   "metadata": {},
   "outputs": [],
   "source": [
    "# set the trajectory\n",
    "traj.set_state_bounds(states)\n",
    "traj.set_duration_bounds(1, 1000)"
   ]
  },
  {
   "cell_type": "code",
   "execution_count": null,
   "metadata": {},
   "outputs": [],
   "source": [
    "# solve the trajectory\n",
    "traj.solve()"
   ]
  },
  {
   "cell_type": "code",
   "execution_count": null,
   "metadata": {},
   "outputs": [],
   "source": [
    "traj.slb"
   ]
  },
  {
   "cell_type": "code",
   "execution_count": null,
   "metadata": {},
   "outputs": [],
   "source": [
    "# plot trajectory with farm\n",
    "fig, ax = plt.subplots(1)\n",
    "farm.plot(ax)\n",
    "ax.plot(pts.T[0], pts.T[1], \"k.\")\n",
    "#ax.plot(traj.states[:, 0], traj.states[:, 1], \"k.-\")\n",
    "\n",
    "fig.show()"
   ]
  },
  {
   "cell_type": "code",
   "execution_count": null,
   "metadata": {},
   "outputs": [],
   "source": [
    "# ploting\n",
    "%matplotlib\n",
    "\n",
    "# position trajectory\n",
    "fig, ax = plt.subplots(traj.dynamics.sdim*2 + traj.dynamics.udim)\n",
    "for i in range(traj.dynamics.sdim*2):\n",
    "    ax[i].plot(traj.times, traj.states[:, i], \"k.-\")\n",
    "for i in range(traj.dynamics.udim):\n",
    "    ax[traj.dynamics.sdim*2 + i].plot(traj.times, traj.controls[:, i], \"k.-\")\n",
    "\n",
    "fig, ax = plt.subplots(1)\n",
    "ax.plot(traj.states[:, 0], traj.states[:, 1], \"k.-\")\n",
    "plt.show()"
   ]
  },
  {
   "cell_type": "code",
   "execution_count": null,
   "metadata": {},
   "outputs": [],
   "source": [
    "# show coverage scenario\n",
    "seg.fitness(pop.champion_x)\n",
    "fig, ax = pldt.subplots(1)\n",
    "farm.plot(ax)\n",
    "pts = farm.simple_coverage()\n",
    "ax.plot(pts.T[0], pts.T[1], \"k.\")\n",
    "ax.plot(seg.states[:, 0], seg.states[:, 1], \"k.-\")\n",
    "fig.show()"
   ]
  },
  {
   "cell_type": "code",
   "execution_count": null,
   "metadata": {},
   "outputs": [],
   "source": [
    "zr = pg.random_decision_vector(*traj.get_bounds())\n",
    "zr"
   ]
  },
  {
   "cell_type": "code",
   "execution_count": null,
   "metadata": {},
   "outputs": [],
   "source": [
    "traj.fitness(zr)"
   ]
  },
  {
   "cell_type": "code",
   "execution_count": null,
   "metadata": {},
   "outputs": [],
   "source": [
    "from multiprocessing import Pool\n",
    "\n",
    "def f(x):\n",
    "    return x*x\n",
    "Pool(5).map(f, [1, 2, 3])"
   ]
  },
  {
   "cell_type": "code",
   "execution_count": null,
   "metadata": {},
   "outputs": [],
   "source": [
    "def mismatch(i):\n",
    "    return traj.segments[i].mismatch()"
   ]
  },
  {
   "cell_type": "code",
   "execution_count": null,
   "metadata": {},
   "outputs": [],
   "source": [
    "Pool(5).map(mismatch, range(traj.nseg))"
   ]
  },
  {
   "cell_type": "code",
   "execution_count": null,
   "metadata": {},
   "outputs": [],
   "source": []
  },
  {
   "cell_type": "code",
   "execution_count": null,
   "metadata": {},
   "outputs": [],
   "source": [
    "traj.states"
   ]
  }
 ],
 "metadata": {
  "kernelspec": {
   "display_name": "Python 3",
   "language": "python",
   "name": "python3"
  },
  "language_info": {
   "codemirror_mode": {
    "name": "ipython",
    "version": 3
   },
   "file_extension": ".py",
   "mimetype": "text/x-python",
   "name": "python",
   "nbconvert_exporter": "python",
   "pygments_lexer": "ipython3",
   "version": "3.6.5"
  }
 },
 "nbformat": 4,
 "nbformat_minor": 2
}
