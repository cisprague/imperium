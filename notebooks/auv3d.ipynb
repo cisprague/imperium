{
 "cells": [
  {
   "cell_type": "markdown",
   "metadata": {},
   "source": [
    "# AUV 3D"
   ]
  },
  {
   "cell_type": "code",
   "execution_count": 1,
   "metadata": {},
   "outputs": [],
   "source": [
    "import sys\n",
    "sys.path.append(\"../src/dynamics\")\n",
    "from pontryagin import system\n",
    "from sympy import init_printing\n",
    "from sympy import *\n",
    "init_printing()"
   ]
  },
  {
   "cell_type": "code",
   "execution_count": 2,
   "metadata": {},
   "outputs": [
    {
     "data": {
      "text/latex": [
       "$$\\left[\\begin{matrix}x & y & z & v_{x} & v_{y} & v_{z} & q_{r} & q_{x} & q_{y} & q_{z}\\end{matrix}\\right]$$"
      ],
      "text/plain": [
       "[x  y  z  vₓ  v_y  v_z  qᵣ  qₓ  q_y  q_z]"
      ]
     },
     "execution_count": 2,
     "metadata": {},
     "output_type": "execute_result"
    }
   ],
   "source": [
    "# state\n",
    "x, y, z, vx, vy, vz, qr, qx, qy, qz = symbols('x y z v_x v_y v_z q_r q_x q_y q_z', real=True)\n",
    "p                      = Matrix([x, y, z])\n",
    "v                      = Matrix([vx, vy, vz])\n",
    "q                      = Matrix([qr, qx, qy, qz])\n",
    "s                      = Matrix([p, v, q])\n",
    "s.T"
   ]
  },
  {
   "cell_type": "code",
   "execution_count": 3,
   "metadata": {},
   "outputs": [
    {
     "data": {
      "text/latex": [
       "$$\\left[\\begin{matrix}u & u_{x} & u_{y}\\end{matrix}\\right]$$"
      ],
      "text/plain": [
       "[u  uₓ  u_y]"
      ]
     },
     "execution_count": 3,
     "metadata": {},
     "output_type": "execute_result"
    }
   ],
   "source": [
    "# controls: throttle, reaction wheels\n",
    "ut = symbols('u', real=True, nonnegative=True)\n",
    "ux, uy = symbols(\"u_x u_y\", real=True)\n",
    "u = Matrix([ut, ux, uy])\n",
    "u.T"
   ]
  },
  {
   "cell_type": "code",
   "execution_count": 4,
   "metadata": {},
   "outputs": [],
   "source": [
    "# physical parametres\n",
    "mass, density, CD, planaform, thrust, rotation = symbols(\"m rho cd A T omega\", real=True, positive=True)\n",
    "\n",
    "# fluid velocity\n",
    "vfx, vfy, vfz = symbols(\"v_xf v_yf v_zf\", real=True)\n",
    "vf = Matrix([vfx, vfy, vfz])\n",
    "\n",
    "# optimisation parametres\n",
    "alpha = symbols(\"alpha\", real=True, nonnegative=True)"
   ]
  },
  {
   "cell_type": "code",
   "execution_count": null,
   "metadata": {},
   "outputs": [],
   "source": [
    "# free stream velocity\n",
    "vinf = v - vf\n",
    "\n",
    "# free stream velocity magnitude\n",
    "vinfmag = sqrt(sum([var**2 for var in vinf]))\n",
    "\n",
    "# fluid drag\n",
    "Fd = - Rational(1,2)*density*vinf*vinfmag*CD*planaform\n",
    "\n",
    "# thrust direction\n",
    "ix = 2*(qx*qz - qy*qr)\n",
    "iy = 2*(qy*qz - qx*qr)\n",
    "iz = 1 - 2*(qx**2 + qy**2)\n",
    "i  = Matrix([ix, iy, iz])\n",
    "\n",
    "# thrust\n",
    "Ft = thrust*ut*i"
   ]
  },
  {
   "cell_type": "code",
   "execution_count": null,
   "metadata": {},
   "outputs": [],
   "source": [
    "# translation\n",
    "dp = v\n",
    "dv = (Fd + Ft)/mass\n",
    "\n",
    "# rotation\n",
    "dq = rotation*Rational(1,2) * Matrix([\n",
    "    [0, 0, -uy, ux],\n",
    "    [0, 0, ux, uy],\n",
    "    [uy, -ux, 0, 0],\n",
    "    [-ux, -uy, 0, 0]\n",
    "]) * q\n",
    "\n",
    "\n",
    "# state transition\n",
    "ds = Matrix([dp, dv, dq])\n",
    "ds"
   ]
  },
  {
   "cell_type": "code",
   "execution_count": null,
   "metadata": {},
   "outputs": [],
   "source": [
    "# Lagrangian\n",
    "L = (1-alpha)*(ut**2 + ux**2 + uy**2) + alpha*(ut + ux**2 + uy**2)\n",
    "L"
   ]
  },
  {
   "cell_type": "code",
   "execution_count": null,
   "metadata": {},
   "outputs": [],
   "source": [
    "# equality constraints\n",
    "iq = [ut-1, -ut, ux-1, -ux-1, uy-1, -uy-1]\n",
    "iq"
   ]
  },
  {
   "cell_type": "code",
   "execution_count": null,
   "metadata": {},
   "outputs": [],
   "source": [
    "# initialise system\n",
    "sys = system(s, u, ds, L, inequality=iq)"
   ]
  },
  {
   "cell_type": "code",
   "execution_count": null,
   "metadata": {},
   "outputs": [],
   "source": [
    "sys.solve()"
   ]
  },
  {
   "cell_type": "code",
   "execution_count": null,
   "metadata": {},
   "outputs": [],
   "source": []
  }
 ],
 "metadata": {
  "kernelspec": {
   "display_name": "Python 3",
   "language": "python",
   "name": "python3"
  },
  "language_info": {
   "codemirror_mode": {
    "name": "ipython",
    "version": 3
   },
   "file_extension": ".py",
   "mimetype": "text/x-python",
   "name": "python",
   "nbconvert_exporter": "python",
   "pygments_lexer": "ipython3",
   "version": "3.6.5"
  }
 },
 "nbformat": 4,
 "nbformat_minor": 2
}
