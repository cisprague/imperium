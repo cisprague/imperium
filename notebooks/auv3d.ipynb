{
 "cells": [
  {
   "cell_type": "markdown",
   "metadata": {},
   "source": [
    "# AUV 3D"
   ]
  },
  {
   "cell_type": "code",
   "execution_count": 1,
   "metadata": {},
   "outputs": [],
   "source": [
    "import sys\n",
    "sys.path.append(\"../src/dynamics\")\n",
    "from pontryagin import system\n",
    "from sympy import init_printing\n",
    "from sympy import *\n",
    "init_printing()"
   ]
  },
  {
   "cell_type": "code",
   "execution_count": 2,
   "metadata": {},
   "outputs": [
    {
     "data": {
      "text/latex": [
       "$$\\left[\\begin{matrix}x & y & z & v_{x} & v_{y} & v_{z} & q_{r} & q_{x} & q_{y} & q_{z}\\end{matrix}\\right]$$"
      ],
      "text/plain": [
       "[x  y  z  vₓ  v_y  v_z  qᵣ  qₓ  q_y  q_z]"
      ]
     },
     "execution_count": 2,
     "metadata": {},
     "output_type": "execute_result"
    }
   ],
   "source": [
    "# state\n",
    "x, y, z, vx, vy, vz, qr, qx, qy, qz = symbols('x y z v_x v_y v_z q_r q_x q_y q_z', real=True)\n",
    "p                      = Matrix([x, y, z])\n",
    "v                      = Matrix([vx, vy, vz])\n",
    "q                      = Matrix([qr, qx, qy, qz])\n",
    "s                      = Matrix([p, v, q])\n",
    "s.T"
   ]
  },
  {
   "cell_type": "code",
   "execution_count": 3,
   "metadata": {},
   "outputs": [
    {
     "data": {
      "text/latex": [
       "$$\\left[\\begin{matrix}u & u_{x} & u_{y}\\end{matrix}\\right]$$"
      ],
      "text/plain": [
       "[u  uₓ  u_y]"
      ]
     },
     "execution_count": 3,
     "metadata": {},
     "output_type": "execute_result"
    }
   ],
   "source": [
    "# controls: throttle, reaction wheels\n",
    "ut = symbols('u', real=True, nonnegative=True)\n",
    "ux, uy = symbols(\"u_x u_y\", real=True)\n",
    "u = Matrix([ut, ux, uy])\n",
    "u.T"
   ]
  },
  {
   "cell_type": "code",
   "execution_count": 4,
   "metadata": {},
   "outputs": [],
   "source": [
    "# physical parametres\n",
    "mass, density, CD, planaform, thrust, rotation = symbols(\"m rho cd A T omega\", real=True, positive=True)\n",
    "\n",
    "# fluid velocity\n",
    "vfx, vfy, vfz = symbols(\"v_xf v_yf v_zf\", real=True)\n",
    "vf = Matrix([vfx, vfy, vfz])\n",
    "\n",
    "# optimisation parametres\n",
    "alpha = symbols(\"alpha\", real=True, nonnegative=True)"
   ]
  },
  {
   "cell_type": "code",
   "execution_count": 5,
   "metadata": {},
   "outputs": [],
   "source": [
    "# free stream velocity\n",
    "vinf = v - vf\n",
    "\n",
    "# free stream velocity magnitude\n",
    "vinfmag = sqrt(sum([var**2 for var in vinf]))\n",
    "\n",
    "# fluid drag\n",
    "Fd = - Rational(1,2)*density*vinf*vinfmag*CD*planaform\n",
    "\n",
    "# thrust direction\n",
    "ix = 2*(qx*qz - qy*qr)\n",
    "iy = 2*(qy*qz - qx*qr)\n",
    "iz = 1 - 2*(qx**2 + qy**2)\n",
    "i  = Matrix([ix, iy, iz])\n",
    "\n",
    "# thrust\n",
    "Ft = thrust*ut*i"
   ]
  },
  {
   "cell_type": "code",
   "execution_count": 6,
   "metadata": {},
   "outputs": [
    {
     "data": {
      "text/latex": [
       "$$\\left[\\begin{matrix}v_{x}\\\\v_{y}\\\\v_{z}\\\\\\frac{1}{m} \\left(- \\frac{A cd}{2} \\rho \\left(v_{x} - v_{xf}\\right) \\sqrt{\\left(v_{x} - v_{xf}\\right)^{2} + \\left(v_{y} - v_{yf}\\right)^{2} + \\left(v_{z} - v_{zf}\\right)^{2}} + T u \\left(- 2 q_{r} q_{y} + 2 q_{x} q_{z}\\right)\\right)\\\\\\frac{1}{m} \\left(- \\frac{A cd}{2} \\rho \\left(v_{y} - v_{yf}\\right) \\sqrt{\\left(v_{x} - v_{xf}\\right)^{2} + \\left(v_{y} - v_{yf}\\right)^{2} + \\left(v_{z} - v_{zf}\\right)^{2}} + T u \\left(- 2 q_{r} q_{x} + 2 q_{y} q_{z}\\right)\\right)\\\\\\frac{1}{m} \\left(- \\frac{A cd}{2} \\rho \\left(v_{z} - v_{zf}\\right) \\sqrt{\\left(v_{x} - v_{xf}\\right)^{2} + \\left(v_{y} - v_{yf}\\right)^{2} + \\left(v_{z} - v_{zf}\\right)^{2}} + T u \\left(- 2 q_{x}^{2} - 2 q_{y}^{2} + 1\\right)\\right)\\\\- \\frac{q_{y} u_{y}}{2} \\omega + \\frac{q_{z} u_{x}}{2} \\omega\\\\\\frac{q_{y} u_{x}}{2} \\omega + \\frac{q_{z} u_{y}}{2} \\omega\\\\\\frac{q_{r} u_{y}}{2} \\omega - \\frac{q_{x} u_{x}}{2} \\omega\\\\- \\frac{q_{r} u_{x}}{2} \\omega - \\frac{q_{x} u_{y}}{2} \\omega\\end{matrix}\\right]$$"
      ],
      "text/plain": [
       "⎡                                                 vₓ                          \n",
       "⎢                                                                             \n",
       "⎢                                                v_y                          \n",
       "⎢                                                                             \n",
       "⎢                                                v_z                          \n",
       "⎢                                                                             \n",
       "⎢                        ______________________________________________       \n",
       "⎢                       ╱            2               2               2        \n",
       "⎢  A⋅cd⋅ρ⋅(vₓ - v_xf)⋅╲╱  (vₓ - v_xf)  + (v_y - v_yf)  + (v_z - v_zf)         \n",
       "⎢- ──────────────────────────────────────────────────────────────────── + T⋅u⋅\n",
       "⎢                                   2                                         \n",
       "⎢─────────────────────────────────────────────────────────────────────────────\n",
       "⎢                                                 m                           \n",
       "⎢                                                                             \n",
       "⎢                         ______________________________________________      \n",
       "⎢                        ╱            2               2               2       \n",
       "⎢  A⋅cd⋅ρ⋅(v_y - v_yf)⋅╲╱  (vₓ - v_xf)  + (v_y - v_yf)  + (v_z - v_zf)        \n",
       "⎢- ───────────────────────────────────────────────────────────────────── + T⋅u\n",
       "⎢                                    2                                        \n",
       "⎢─────────────────────────────────────────────────────────────────────────────\n",
       "⎢                                                 m                           \n",
       "⎢                                                                             \n",
       "⎢                         ______________________________________________      \n",
       "⎢                        ╱            2               2               2       \n",
       "⎢  A⋅cd⋅ρ⋅(v_z - v_zf)⋅╲╱  (vₓ - v_xf)  + (v_y - v_yf)  + (v_z - v_zf)        \n",
       "⎢- ───────────────────────────────────────────────────────────────────── + T⋅u\n",
       "⎢                                    2                                        \n",
       "⎢─────────────────────────────────────────────────────────────────────────────\n",
       "⎢                                                 m                           \n",
       "⎢                                                                             \n",
       "⎢                                         ω⋅q_y⋅u_y   ω⋅q_z⋅uₓ                \n",
       "⎢                                       - ───────── + ────────                \n",
       "⎢                                             2          2                    \n",
       "⎢                                                                             \n",
       "⎢                                        ω⋅q_y⋅uₓ   ω⋅q_z⋅u_y                 \n",
       "⎢                                        ──────── + ─────────                 \n",
       "⎢                                           2           2                     \n",
       "⎢                                                                             \n",
       "⎢                                         ω⋅qᵣ⋅u_y   ω⋅qₓ⋅uₓ                  \n",
       "⎢                                         ──────── - ───────                  \n",
       "⎢                                            2          2                     \n",
       "⎢                                                                             \n",
       "⎢                                          ω⋅qᵣ⋅uₓ   ω⋅qₓ⋅u_y                 \n",
       "⎢                                        - ─────── - ────────                 \n",
       "⎣                                             2         2                     \n",
       "\n",
       "                       ⎤\n",
       "                       ⎥\n",
       "                       ⎥\n",
       "                       ⎥\n",
       "                       ⎥\n",
       "                       ⎥\n",
       "                       ⎥\n",
       "                       ⎥\n",
       "                       ⎥\n",
       "(-2⋅qᵣ⋅q_y + 2⋅qₓ⋅q_z) ⎥\n",
       "                       ⎥\n",
       "────────────────────── ⎥\n",
       "                       ⎥\n",
       "                       ⎥\n",
       "                       ⎥\n",
       "                       ⎥\n",
       "                       ⎥\n",
       "⋅(-2⋅qᵣ⋅qₓ + 2⋅q_y⋅q_z)⎥\n",
       "                       ⎥\n",
       "───────────────────────⎥\n",
       "                       ⎥\n",
       "                       ⎥\n",
       "                       ⎥\n",
       "                       ⎥\n",
       " ⎛      2        2    ⎞⎥\n",
       "⋅⎝- 2⋅qₓ  - 2⋅q_y  + 1⎠⎥\n",
       "                       ⎥\n",
       "───────────────────────⎥\n",
       "                       ⎥\n",
       "                       ⎥\n",
       "                       ⎥\n",
       "                       ⎥\n",
       "                       ⎥\n",
       "                       ⎥\n",
       "                       ⎥\n",
       "                       ⎥\n",
       "                       ⎥\n",
       "                       ⎥\n",
       "                       ⎥\n",
       "                       ⎥\n",
       "                       ⎥\n",
       "                       ⎥\n",
       "                       ⎥\n",
       "                       ⎥\n",
       "                       ⎦"
      ]
     },
     "execution_count": 6,
     "metadata": {},
     "output_type": "execute_result"
    }
   ],
   "source": [
    "# translation\n",
    "dp = v\n",
    "dv = (Fd + Ft)/mass\n",
    "\n",
    "# rotation\n",
    "dq = rotation*Rational(1,2) * Matrix([\n",
    "    [0, 0, -uy, ux],\n",
    "    [0, 0, ux, uy],\n",
    "    [uy, -ux, 0, 0],\n",
    "    [-ux, -uy, 0, 0]\n",
    "]) * q\n",
    "\n",
    "\n",
    "# state transition\n",
    "ds = Matrix([dp, dv, dq])\n",
    "ds"
   ]
  },
  {
   "cell_type": "code",
   "execution_count": 7,
   "metadata": {},
   "outputs": [
    {
     "data": {
      "text/latex": [
       "$$\\alpha \\left(u + u_{x}^{2} + u_{y}^{2}\\right) + \\left(- \\alpha + 1\\right) \\left(u^{2} + u_{x}^{2} + u_{y}^{2}\\right)$$"
      ],
      "text/plain": [
       "  ⎛      2      2⎞            ⎛ 2     2      2⎞\n",
       "α⋅⎝u + uₓ  + u_y ⎠ + (-α + 1)⋅⎝u  + uₓ  + u_y ⎠"
      ]
     },
     "execution_count": 7,
     "metadata": {},
     "output_type": "execute_result"
    }
   ],
   "source": [
    "# Lagrangian\n",
    "L = (1-alpha)*(ut**2 + ux**2 + uy**2) + alpha*(ut + ux**2 + uy**2)\n",
    "L"
   ]
  },
  {
   "cell_type": "code",
   "execution_count": 8,
   "metadata": {},
   "outputs": [
    {
     "data": {
      "text/latex": [
       "$$\\left [ \\frac{\\lambda_{v x}}{m} T \\left(- 2 q_{r} q_{y} + 2 q_{x} q_{z}\\right) + \\frac{\\lambda_{v y}}{m} T \\left(- 2 q_{r} q_{x} + 2 q_{y} q_{z}\\right) + \\frac{\\lambda_{v z}}{m} T \\left(- 2 q_{x}^{2} - 2 q_{y}^{2} + 1\\right) + \\alpha + 2 u \\left(- \\alpha + 1\\right), \\quad 2 \\alpha u_{x} + \\frac{\\lambda_{q r}}{2} \\omega q_{z} + \\frac{\\lambda_{q x}}{2} \\omega q_{y} - \\frac{\\lambda_{q y}}{2} \\omega q_{x} - \\frac{\\lambda_{q z}}{2} \\omega q_{r} + 2 u_{x} \\left(- \\alpha + 1\\right), \\quad 2 \\alpha u_{y} - \\frac{\\lambda_{q r}}{2} \\omega q_{y} + \\frac{\\lambda_{q x}}{2} \\omega q_{z} + \\frac{\\lambda_{q y}}{2} \\omega q_{r} - \\frac{\\lambda_{q z}}{2} \\omega q_{x} + 2 u_{y} \\left(- \\alpha + 1\\right)\\right ]$$"
      ],
      "text/plain": [
       "⎡                                                                         ⎛   \n",
       "⎢T⋅λᵥ ₓ⋅(-2⋅qᵣ⋅q_y + 2⋅qₓ⋅q_z)   T⋅λ_v_y⋅(-2⋅qᵣ⋅qₓ + 2⋅q_y⋅q_z)   T⋅λ_v_z⋅⎝- 2\n",
       "⎢───────────────────────────── + ────────────────────────────── + ────────────\n",
       "⎣              m                               m                              \n",
       "\n",
       "   2        2    ⎞                                                            \n",
       "⋅qₓ  - 2⋅q_y  + 1⎠                              λ_q_r⋅ω⋅q_z   λ_q_x⋅ω⋅q_y   λ_\n",
       "────────────────── + α + 2⋅u⋅(-α + 1), 2⋅α⋅uₓ + ─────────── + ─────────── - ──\n",
       "  m                                                  2             2          \n",
       "\n",
       "                                                                              \n",
       "q_y⋅ω⋅qₓ   λ_q_z⋅ω⋅qᵣ                            λ_q_r⋅ω⋅q_y   λ_q_x⋅ω⋅q_z   λ\n",
       "──────── - ────────── + 2⋅uₓ⋅(-α + 1), 2⋅α⋅u_y - ─────────── + ─────────── + ─\n",
       "  2            2                                      2             2         \n",
       "\n",
       "                                       ⎤\n",
       "_q_y⋅ω⋅qᵣ   λ_q_z⋅ω⋅qₓ                 ⎥\n",
       "───────── - ────────── + 2⋅u_y⋅(-α + 1)⎥\n",
       "   2            2                      ⎦"
      ]
     },
     "execution_count": 8,
     "metadata": {},
     "output_type": "execute_result"
    }
   ],
   "source": [
    "# initialise system and make KKT equations\n",
    "sys = system(s, u, ds, L, inequality=None)\n",
    "sys.KKT()\n",
    "sys.KKTeqs"
   ]
  },
  {
   "cell_type": "code",
   "execution_count": 9,
   "metadata": {},
   "outputs": [],
   "source": [
    "# look at solutions\n",
    "sol = solve(sys.KKTeqs, sys.KKTvars, dict=True)"
   ]
  },
  {
   "cell_type": "code",
   "execution_count": 10,
   "metadata": {},
   "outputs": [
    {
     "data": {
      "text/latex": [
       "$$\\left[\\begin{matrix}\\frac{1}{m \\left(\\alpha - 1\\right)} \\left(- T \\lambda_{v x} q_{r} q_{y} + T \\lambda_{v x} q_{x} q_{z} - T \\lambda_{v y} q_{r} q_{x} + T \\lambda_{v y} q_{y} q_{z} - T \\lambda_{v z} q_{x}^{2} - T \\lambda_{v z} q_{y}^{2} + \\frac{\\lambda_{v z}}{2} T + \\frac{\\alpha m}{2}\\right)\\\\\\frac{\\omega}{4} \\left(- \\lambda_{q r} q_{z} - \\lambda_{q x} q_{y} + \\lambda_{q y} q_{x} + \\lambda_{q z} q_{r}\\right)\\\\\\frac{\\omega}{4} \\left(\\lambda_{q r} q_{y} - \\lambda_{q x} q_{z} - \\lambda_{q y} q_{r} + \\lambda_{q z} q_{x}\\right)\\end{matrix}\\right]$$"
      ],
      "text/plain": [
       "⎡                                                                             \n",
       "⎢-T⋅λᵥ ₓ⋅qᵣ⋅q_y + T⋅λᵥ ₓ⋅qₓ⋅q_z - T⋅λ_v_y⋅qᵣ⋅qₓ + T⋅λ_v_y⋅q_y⋅q_z - T⋅λ_v_z⋅qₓ\n",
       "⎢                                                                             \n",
       "⎢─────────────────────────────────────────────────────────────────────────────\n",
       "⎢                                                  m⋅(α - 1)                  \n",
       "⎢                                                                             \n",
       "⎢                              ω⋅(-λ_q_r⋅q_z - λ_q_x⋅q_y + λ_q_y⋅qₓ + λ_q_z⋅qᵣ\n",
       "⎢                              ───────────────────────────────────────────────\n",
       "⎢                                                     4                       \n",
       "⎢                                                                             \n",
       "⎢                               ω⋅(λ_q_r⋅q_y - λ_q_x⋅q_z - λ_q_y⋅qᵣ + λ_q_z⋅qₓ\n",
       "⎢                               ──────────────────────────────────────────────\n",
       "⎣                                                      4                      \n",
       "\n",
       "2              2   T⋅λ_v_z   α⋅m⎤\n",
       "  - T⋅λ_v_z⋅q_y  + ─────── + ───⎥\n",
       "                      2       2 ⎥\n",
       "────────────────────────────────⎥\n",
       "                                ⎥\n",
       "                                ⎥\n",
       ")                               ⎥\n",
       "─                               ⎥\n",
       "                                ⎥\n",
       "                                ⎥\n",
       ")                               ⎥\n",
       "─                               ⎥\n",
       "                                ⎦"
      ]
     },
     "execution_count": 10,
     "metadata": {},
     "output_type": "execute_result"
    }
   ],
   "source": [
    "# assign the optimal controls\n",
    "sys.uo = Matrix([sol[0][var] for var in sys.u])\n",
    "sys.uo"
   ]
  },
  {
   "cell_type": "code",
   "execution_count": 11,
   "metadata": {},
   "outputs": [],
   "source": [
    "sys.codegen(\"../src/dynamics/auv3d\")"
   ]
  }
 ],
 "metadata": {
  "kernelspec": {
   "display_name": "Python 3",
   "language": "python",
   "name": "python3"
  },
  "language_info": {
   "codemirror_mode": {
    "name": "ipython",
    "version": 3
   },
   "file_extension": ".py",
   "mimetype": "text/x-python",
   "name": "python",
   "nbconvert_exporter": "python",
   "pygments_lexer": "ipython3",
   "version": "3.6.5"
  }
 },
 "nbformat": 4,
 "nbformat_minor": 2
}
