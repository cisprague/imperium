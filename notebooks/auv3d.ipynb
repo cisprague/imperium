{
 "cells": [
  {
   "cell_type": "markdown",
   "metadata": {},
   "source": [
    "# AUV 3D"
   ]
  },
  {
   "cell_type": "code",
   "execution_count": 1,
   "metadata": {},
   "outputs": [],
   "source": [
    "import sys\n",
    "sys.path.append(\"../src/dynamics\")\n",
    "from pontryagin import system\n",
    "from sympy import init_printing\n",
    "from sympy import *\n",
    "init_printing()"
   ]
  },
  {
   "cell_type": "code",
   "execution_count": 2,
   "metadata": {},
   "outputs": [
    {
     "data": {
      "text/latex": [
       "$$\\left[\\begin{matrix}x & y & z & v_{x} & v_{y} & v_{z} & q_{r} & q_{x} & q_{y} & q_{z}\\end{matrix}\\right]$$"
      ],
      "text/plain": [
       "[x  y  z  vₓ  v_y  v_z  qᵣ  qₓ  q_y  q_z]"
      ]
     },
     "execution_count": 2,
     "metadata": {},
     "output_type": "execute_result"
    }
   ],
   "source": [
    "# state\n",
    "x, y, z, vx, vy, vz, qr, qx, qy, qz = symbols('x y z v_x v_y v_z q_r q_x q_y q_z')\n",
    "p                      = Matrix([x, y, z])\n",
    "v                      = Matrix([vx, vy, vz])\n",
    "q                      = Matrix([qr, qx, qy, qz])\n",
    "s                      = Matrix([p, v, q])\n",
    "s.T"
   ]
  },
  {
   "cell_type": "code",
   "execution_count": 3,
   "metadata": {},
   "outputs": [
    {
     "data": {
      "text/latex": [
       "$$\\left[\\begin{matrix}u_{t} & u_{x} & u_{y}\\end{matrix}\\right]$$"
      ],
      "text/plain": [
       "[uₜ  uₓ  u_y]"
      ]
     },
     "execution_count": 3,
     "metadata": {},
     "output_type": "execute_result"
    }
   ],
   "source": [
    "# controls: throttle, reaction wheels\n",
    "ut, ux, uy = symbols(\"u_t u_x u_y\")\n",
    "u = Matrix([ut, ux, uy])\n",
    "u.T"
   ]
  },
  {
   "cell_type": "code",
   "execution_count": 4,
   "metadata": {},
   "outputs": [],
   "source": [
    "# physical parametres\n",
    "mass, density, CD, planaform, thrust, rotation = symbols(\"m rho cd A T omega\")\n",
    "\n",
    "# fluid velocity\n",
    "vfx, vfy, vfz = symbols(\"v_xf v_yf v_zf\")\n",
    "vf = Matrix([vfx, vfy, vfz])\n",
    "\n",
    "# environmental parametres\n",
    "params = [*vf, mass, density, CD, planaform, thrust, rotation]\n",
    "\n",
    "# optimisation parametres\n",
    "alpha = symbols(\"alpha\")"
   ]
  },
  {
   "cell_type": "code",
   "execution_count": 5,
   "metadata": {},
   "outputs": [],
   "source": [
    "# free stream velocity\n",
    "vinf = v - vf\n",
    "\n",
    "# free stream velocity magnitude\n",
    "vinfmag = sqrt(sum([var**2 for var in vinf]))\n",
    "\n",
    "# fluid drag\n",
    "Fd = - Rational(1,2)*density*vinf*vinfmag*CD*planaform\n",
    "\n",
    "# thrust direction\n",
    "ix = 2*(qx*qz - qy*qr)\n",
    "iy = 2*(qy*qz - qx*qr)\n",
    "iz = 1 - 2*(qx**2 + qy**2)\n",
    "i  = Matrix([ix, iy, iz])\n",
    "\n",
    "# thrust\n",
    "Ft = thrust*ut*i"
   ]
  },
  {
   "cell_type": "code",
   "execution_count": 6,
   "metadata": {},
   "outputs": [
    {
     "data": {
      "text/latex": [
       "$$\\left[\\begin{matrix}v_{x}\\\\v_{y}\\\\v_{z}\\\\\\frac{1}{m} \\left(- \\frac{A cd}{2} \\rho \\left(v_{x} - v_{xf}\\right) \\sqrt{\\left(v_{x} - v_{xf}\\right)^{2} + \\left(v_{y} - v_{yf}\\right)^{2} + \\left(v_{z} - v_{zf}\\right)^{2}} + T u_{t} \\left(- 2 q_{r} q_{y} + 2 q_{x} q_{z}\\right)\\right)\\\\\\frac{1}{m} \\left(- \\frac{A cd}{2} \\rho \\left(v_{y} - v_{yf}\\right) \\sqrt{\\left(v_{x} - v_{xf}\\right)^{2} + \\left(v_{y} - v_{yf}\\right)^{2} + \\left(v_{z} - v_{zf}\\right)^{2}} + T u_{t} \\left(- 2 q_{r} q_{x} + 2 q_{y} q_{z}\\right)\\right)\\\\\\frac{1}{m} \\left(- \\frac{A cd}{2} \\rho \\left(v_{z} - v_{zf}\\right) \\sqrt{\\left(v_{x} - v_{xf}\\right)^{2} + \\left(v_{y} - v_{yf}\\right)^{2} + \\left(v_{z} - v_{zf}\\right)^{2}} + T u_{t} \\left(- 2 q_{x}^{2} - 2 q_{y}^{2} + 1\\right)\\right)\\\\- \\frac{\\omega q_{y}}{2} u_{y} + \\frac{\\omega q_{z}}{2} u_{x}\\\\\\frac{\\omega q_{y}}{2} u_{x} + \\frac{\\omega q_{z}}{2} u_{y}\\\\\\frac{\\omega q_{r}}{2} u_{y} - \\frac{\\omega q_{x}}{2} u_{x}\\\\- \\frac{\\omega q_{r}}{2} u_{x} - \\frac{\\omega q_{x}}{2} u_{y}\\end{matrix}\\right]$$"
      ],
      "text/plain": [
       "⎡                                                 vₓ                          \n",
       "⎢                                                                             \n",
       "⎢                                                 v_y                         \n",
       "⎢                                                                             \n",
       "⎢                                                 v_z                         \n",
       "⎢                                                                             \n",
       "⎢                        ______________________________________________       \n",
       "⎢                       ╱            2               2               2        \n",
       "⎢  A⋅cd⋅ρ⋅(vₓ - v_xf)⋅╲╱  (vₓ - v_xf)  + (v_y - v_yf)  + (v_z - v_zf)         \n",
       "⎢- ──────────────────────────────────────────────────────────────────── + T⋅uₜ\n",
       "⎢                                   2                                         \n",
       "⎢─────────────────────────────────────────────────────────────────────────────\n",
       "⎢                                                 m                           \n",
       "⎢                                                                             \n",
       "⎢                         ______________________________________________      \n",
       "⎢                        ╱            2               2               2       \n",
       "⎢  A⋅cd⋅ρ⋅(v_y - v_yf)⋅╲╱  (vₓ - v_xf)  + (v_y - v_yf)  + (v_z - v_zf)        \n",
       "⎢- ───────────────────────────────────────────────────────────────────── + T⋅u\n",
       "⎢                                    2                                        \n",
       "⎢─────────────────────────────────────────────────────────────────────────────\n",
       "⎢                                                  m                          \n",
       "⎢                                                                             \n",
       "⎢                         ______________________________________________      \n",
       "⎢                        ╱            2               2               2       \n",
       "⎢  A⋅cd⋅ρ⋅(v_z - v_zf)⋅╲╱  (vₓ - v_xf)  + (v_y - v_yf)  + (v_z - v_zf)        \n",
       "⎢- ───────────────────────────────────────────────────────────────────── + T⋅u\n",
       "⎢                                    2                                        \n",
       "⎢─────────────────────────────────────────────────────────────────────────────\n",
       "⎢                                                  m                          \n",
       "⎢                                                                             \n",
       "⎢                                         ω⋅q_y⋅u_y   ω⋅q_z⋅uₓ                \n",
       "⎢                                       - ───────── + ────────                \n",
       "⎢                                             2          2                    \n",
       "⎢                                                                             \n",
       "⎢                                        ω⋅q_y⋅uₓ   ω⋅q_z⋅u_y                 \n",
       "⎢                                        ──────── + ─────────                 \n",
       "⎢                                           2           2                     \n",
       "⎢                                                                             \n",
       "⎢                                         ω⋅qᵣ⋅u_y   ω⋅qₓ⋅uₓ                  \n",
       "⎢                                         ──────── - ───────                  \n",
       "⎢                                            2          2                     \n",
       "⎢                                                                             \n",
       "⎢                                          ω⋅qᵣ⋅uₓ   ω⋅qₓ⋅u_y                 \n",
       "⎢                                        - ─────── - ────────                 \n",
       "⎣                                             2         2                     \n",
       "\n",
       "                        ⎤\n",
       "                        ⎥\n",
       "                        ⎥\n",
       "                        ⎥\n",
       "                        ⎥\n",
       "                        ⎥\n",
       "                        ⎥\n",
       "                        ⎥\n",
       "                        ⎥\n",
       "⋅(-2⋅qᵣ⋅q_y + 2⋅qₓ⋅q_z) ⎥\n",
       "                        ⎥\n",
       "─────────────────────── ⎥\n",
       "                        ⎥\n",
       "                        ⎥\n",
       "                        ⎥\n",
       "                        ⎥\n",
       "                        ⎥\n",
       "ₜ⋅(-2⋅qᵣ⋅qₓ + 2⋅q_y⋅q_z)⎥\n",
       "                        ⎥\n",
       "────────────────────────⎥\n",
       "                        ⎥\n",
       "                        ⎥\n",
       "                        ⎥\n",
       "                        ⎥\n",
       "  ⎛      2        2    ⎞⎥\n",
       "ₜ⋅⎝- 2⋅qₓ  - 2⋅q_y  + 1⎠⎥\n",
       "                        ⎥\n",
       "────────────────────────⎥\n",
       "                        ⎥\n",
       "                        ⎥\n",
       "                        ⎥\n",
       "                        ⎥\n",
       "                        ⎥\n",
       "                        ⎥\n",
       "                        ⎥\n",
       "                        ⎥\n",
       "                        ⎥\n",
       "                        ⎥\n",
       "                        ⎥\n",
       "                        ⎥\n",
       "                        ⎥\n",
       "                        ⎥\n",
       "                        ⎥\n",
       "                        ⎥\n",
       "                        ⎦"
      ]
     },
     "execution_count": 6,
     "metadata": {},
     "output_type": "execute_result"
    }
   ],
   "source": [
    "# translation\n",
    "dp = v\n",
    "dv = (Fd + Ft)/mass\n",
    "\n",
    "# rotation\n",
    "dq = rotation*Rational(1,2) * Matrix([\n",
    "    [0, 0, -uy, ux],\n",
    "    [0, 0, ux, uy],\n",
    "    [uy, -ux, 0, 0],\n",
    "    [-ux, -uy, 0, 0]\n",
    "]) * q\n",
    "\n",
    "\n",
    "# state transition\n",
    "ds = Matrix([dp, dv, dq])\n",
    "ds"
   ]
  },
  {
   "cell_type": "code",
   "execution_count": 7,
   "metadata": {},
   "outputs": [
    {
     "data": {
      "image/png": "[encoded data removed]",
      "text/latex": [
       "$$\\alpha \\left(u_{t} + u_{x}^{2} + u_{y}^{2}\\right) + \\left(- \\alpha + 1\\right) \\left(u_{t}^{2} + u_{x}^{2} + u_{y}^{2}\\right)$$"
      ],
      "text/plain": [
       "  ⎛       2      2⎞            ⎛  2     2      2⎞\n",
       "α⋅⎝uₜ + uₓ  + u_y ⎠ + (-α + 1)⋅⎝uₜ  + uₓ  + u_y ⎠"
      ]
     },
     "execution_count": 7,
     "metadata": {},
     "output_type": "execute_result"
    }
   ],
   "source": [
    "# Lagrangian\n",
    "L = (1-alpha)*(ut**2 + ux**2 + uy**2) + alpha*(ut + ux**2 + uy**2)\n",
    "L"
   ]
  },
  {
   "cell_type": "code",
   "execution_count": 8,
   "metadata": {},
   "outputs": [],
   "source": [
    "# equality constraints\n",
    "iq = [ut-1, -ut, ux-1, -ux-1, uy-1, -uy-1]\n",
    "eq = [0]"
   ]
  },
  {
   "cell_type": "code",
   "execution_count": 9,
   "metadata": {},
   "outputs": [],
   "source": [
    "# initialise system\n",
    "sys = system(s, u, ds, L, inequality=iq)"
   ]
  },
  {
   "cell_type": "code",
   "execution_count": 10,
   "metadata": {},
   "outputs": [
    {
     "ename": "AttributeError",
     "evalue": "'system' object has no attribute 'eqcoef'",
     "output_type": "error",
     "traceback": [
      "\u001b[0;31m---------------------------------------------------------------------------\u001b[0m",
      "\u001b[0;31mAttributeError\u001b[0m                            Traceback (most recent call last)",
      "\u001b[0;32m<ipython-input-10-6a40e6cebf30>\u001b[0m in \u001b[0;36m<module>\u001b[0;34m()\u001b[0m\n\u001b[0;32m----> 1\u001b[0;31m \u001b[0msys\u001b[0m\u001b[0;34m.\u001b[0m\u001b[0msolve\u001b[0m\u001b[0;34m(\u001b[0m\u001b[0;34m)\u001b[0m\u001b[0;34m\u001b[0m\u001b[0m\n\u001b[0m",
      "\u001b[0;32m~/Dev/imperium/src/dynamics/pontryagin.py\u001b[0m in \u001b[0;36msolve\u001b[0;34m(self)\u001b[0m\n\u001b[1;32m     75\u001b[0m             \u001b[0mself\u001b[0m\u001b[0;34m.\u001b[0m\u001b[0mstationarity\u001b[0m \u001b[0;34m-=\u001b[0m \u001b[0msum\u001b[0m\u001b[0;34m(\u001b[0m\u001b[0;34m[\u001b[0m\u001b[0mcoef\u001b[0m\u001b[0;34m*\u001b[0m\u001b[0mMatrix\u001b[0m\u001b[0;34m(\u001b[0m\u001b[0;34m[\u001b[0m\u001b[0mcon\u001b[0m\u001b[0;34m.\u001b[0m\u001b[0mdiff\u001b[0m\u001b[0;34m(\u001b[0m\u001b[0mvar\u001b[0m\u001b[0;34m)\u001b[0m \u001b[0;32mfor\u001b[0m \u001b[0mvar\u001b[0m \u001b[0;32min\u001b[0m \u001b[0mself\u001b[0m\u001b[0;34m.\u001b[0m\u001b[0mu\u001b[0m\u001b[0;34m]\u001b[0m\u001b[0;34m)\u001b[0m \u001b[0;32mfor\u001b[0m \u001b[0mcoef\u001b[0m\u001b[0;34m,\u001b[0m \u001b[0mcon\u001b[0m \u001b[0;32min\u001b[0m \u001b[0mzip\u001b[0m\u001b[0;34m(\u001b[0m\u001b[0mself\u001b[0m\u001b[0;34m.\u001b[0m\u001b[0miqcoef\u001b[0m\u001b[0;34m,\u001b[0m \u001b[0mself\u001b[0m\u001b[0;34m.\u001b[0m\u001b[0miq\u001b[0m\u001b[0;34m)\u001b[0m\u001b[0;34m]\u001b[0m\u001b[0;34m,\u001b[0m \u001b[0mzeros\u001b[0m\u001b[0;34m(\u001b[0m\u001b[0mlen\u001b[0m\u001b[0;34m(\u001b[0m\u001b[0mself\u001b[0m\u001b[0;34m.\u001b[0m\u001b[0mu\u001b[0m\u001b[0;34m)\u001b[0m\u001b[0;34m,\u001b[0m \u001b[0;36m1\u001b[0m\u001b[0;34m)\u001b[0m\u001b[0;34m)\u001b[0m\u001b[0;34m\u001b[0m\u001b[0m\n\u001b[1;32m     76\u001b[0m         \u001b[0;32mif\u001b[0m \u001b[0mself\u001b[0m\u001b[0;34m.\u001b[0m\u001b[0miq\u001b[0m \u001b[0;32mis\u001b[0m \u001b[0;32mnot\u001b[0m \u001b[0;32mNone\u001b[0m\u001b[0;34m:\u001b[0m\u001b[0;34m\u001b[0m\u001b[0m\n\u001b[0;32m---> 77\u001b[0;31m             \u001b[0mself\u001b[0m\u001b[0;34m.\u001b[0m\u001b[0mstationarity\u001b[0m \u001b[0;34m-=\u001b[0m \u001b[0msum\u001b[0m\u001b[0;34m(\u001b[0m\u001b[0;34m[\u001b[0m\u001b[0mcoef\u001b[0m\u001b[0;34m*\u001b[0m\u001b[0mMatrix\u001b[0m\u001b[0;34m(\u001b[0m\u001b[0;34m[\u001b[0m\u001b[0mcon\u001b[0m\u001b[0;34m.\u001b[0m\u001b[0mdiff\u001b[0m\u001b[0;34m(\u001b[0m\u001b[0mvar\u001b[0m\u001b[0;34m)\u001b[0m \u001b[0;32mfor\u001b[0m \u001b[0mvar\u001b[0m \u001b[0;32min\u001b[0m \u001b[0mself\u001b[0m\u001b[0;34m.\u001b[0m\u001b[0mu\u001b[0m\u001b[0;34m]\u001b[0m\u001b[0;34m)\u001b[0m \u001b[0;32mfor\u001b[0m \u001b[0mcoef\u001b[0m\u001b[0;34m,\u001b[0m \u001b[0mcon\u001b[0m \u001b[0;32min\u001b[0m \u001b[0mzip\u001b[0m\u001b[0;34m(\u001b[0m\u001b[0mself\u001b[0m\u001b[0;34m.\u001b[0m\u001b[0meqcoef\u001b[0m\u001b[0;34m,\u001b[0m \u001b[0mself\u001b[0m\u001b[0;34m.\u001b[0m\u001b[0meq\u001b[0m\u001b[0;34m)\u001b[0m\u001b[0;34m]\u001b[0m\u001b[0;34m,\u001b[0m \u001b[0mzeros\u001b[0m\u001b[0;34m(\u001b[0m\u001b[0mlen\u001b[0m\u001b[0;34m(\u001b[0m\u001b[0mself\u001b[0m\u001b[0;34m.\u001b[0m\u001b[0mu\u001b[0m\u001b[0;34m)\u001b[0m\u001b[0;34m,\u001b[0m \u001b[0;36m1\u001b[0m\u001b[0;34m)\u001b[0m\u001b[0;34m)\u001b[0m\u001b[0;34m\u001b[0m\u001b[0m\n\u001b[0m\u001b[1;32m     78\u001b[0m \u001b[0;34m\u001b[0m\u001b[0m\n\u001b[1;32m     79\u001b[0m         \u001b[0;31m# complementary slackness\u001b[0m\u001b[0;34m\u001b[0m\u001b[0;34m\u001b[0m\u001b[0m\n",
      "\u001b[0;31mAttributeError\u001b[0m: 'system' object has no attribute 'eqcoef'"
     ]
    }
   ],
   "source": [
    "sys.solve()"
   ]
  },
  {
   "cell_type": "code",
   "execution_count": null,
   "metadata": {},
   "outputs": [],
   "source": []
  }
 ],
 "metadata": {
  "kernelspec": {
   "display_name": "Python 3",
   "language": "python",
   "name": "python3"
  },
  "language_info": {
   "codemirror_mode": {
    "name": "ipython",
    "version": 3
   },
   "file_extension": ".py",
   "mimetype": "text/x-python",
   "name": "python",
   "nbconvert_exporter": "python",
   "pygments_lexer": "ipython3",
   "version": "3.5.2"
  }
 },
 "nbformat": 4,
 "nbformat_minor": 2
}
