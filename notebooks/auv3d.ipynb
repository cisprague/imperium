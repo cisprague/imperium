{
 "cells": [
  {
   "cell_type": "markdown",
   "metadata": {},
   "source": [
    "# AUV 3D"
   ]
  },
  {
   "cell_type": "code",
   "execution_count": 1,
   "metadata": {},
   "outputs": [],
   "source": [
    "import sys\n",
    "sys.path.append(\"../src/dynamics\")\n",
    "from pontryagin import system\n",
    "from sympy import init_printing\n",
    "from sympy import *\n",
    "init_printing()"
   ]
  },
  {
   "cell_type": "code",
   "execution_count": 2,
   "metadata": {},
   "outputs": [
    {
     "data": {
      "text/latex": [
       "$$\\left[\\begin{matrix}x & y & z & v_{x} & v_{y} & v_{z} & q_{r} & q_{x} & q_{y} & q_{z}\\end{matrix}\\right]$$"
      ],
      "text/plain": [
       "[x  y  z  vₓ  v_y  v_z  qᵣ  qₓ  q_y  q_z]"
      ]
     },
     "execution_count": 2,
     "metadata": {},
     "output_type": "execute_result"
    }
   ],
   "source": [
    "# state\n",
    "x, y, z, vx, vy, vz, qr, qx, qy, qz = symbols('x y z v_x v_y v_z q_r q_x q_y q_z')\n",
    "p                      = Matrix([x, y, z])\n",
    "v                      = Matrix([vx, vy, vz])\n",
    "q                      = Matrix([qr, qx, qy, qz])\n",
    "s                      = Matrix([p, v, q])\n",
    "s.T"
   ]
  },
  {
   "cell_type": "code",
   "execution_count": 3,
   "metadata": {},
   "outputs": [
    {
     "data": {
      "text/latex": [
       "$$\\left[\\begin{matrix}u_{t} & u_{x} & u_{y}\\end{matrix}\\right]$$"
      ],
      "text/plain": [
       "[uₜ  uₓ  u_y]"
      ]
     },
     "execution_count": 3,
     "metadata": {},
     "output_type": "execute_result"
    }
   ],
   "source": [
    "# controls: throttle, reaction wheels\n",
    "ut, ux, uy = symbols(\"u_t u_x u_y\")\n",
    "u = Matrix([ut, ux, uy])\n",
    "u.T"
   ]
  },
  {
   "cell_type": "code",
   "execution_count": 4,
   "metadata": {},
   "outputs": [],
   "source": [
    "# physical parametres\n",
    "mass, density, CD, planaform, thrust, rotation = symbols(\"m rho cd A T omega\")\n",
    "\n",
    "# fluid velocity\n",
    "vfx, vfy, vfz = symbols(\"v_xf v_yf v_zf\")\n",
    "vf = Matrix([vfx, vfy, vfz])\n",
    "\n",
    "# environmental parametres\n",
    "params = [*vf, mass, density, CD, planaform, thrust, rotation]\n",
    "\n",
    "# optimisation parametres\n",
    "alpha = symbols(\"alpha\")"
   ]
  },
  {
   "cell_type": "code",
   "execution_count": 5,
   "metadata": {},
   "outputs": [],
   "source": [
    "# free stream velocity\n",
    "vinf = v - vf\n",
    "\n",
    "# free stream velocity magnitude\n",
    "vinfmag = sqrt(sum([var**2 for var in vinf]))\n",
    "\n",
    "# fluid drag\n",
    "Fd = - Rational(1,2)*density*vinf*vinfmag*CD*planaform\n",
    "\n",
    "# thrust direction\n",
    "ix = 2*(qx*qz - qy*qr)\n",
    "iy = 2*(qy*qz - qx*qr)\n",
    "iz = 1 - 2*(qx**2 + qy**2)\n",
    "i  = Matrix([ix, iy, iz])\n",
    "\n",
    "# thrust\n",
    "Ft = thrust*ut*i"
   ]
  },
  {
   "cell_type": "code",
   "execution_count": 6,
   "metadata": {},
   "outputs": [
    {
     "data": {
      "text/latex": [
       "$$\\left[\\begin{matrix}v_{x}\\\\v_{y}\\\\v_{z}\\\\\\frac{1}{m} \\left(- \\frac{A cd}{2} \\rho \\left(v_{x} - v_{xf}\\right) \\sqrt{\\left(v_{x} - v_{xf}\\right)^{2} + \\left(v_{y} - v_{yf}\\right)^{2} + \\left(v_{z} - v_{zf}\\right)^{2}} + T u_{t} \\left(- 2 q_{r} q_{y} + 2 q_{x} q_{z}\\right)\\right)\\\\\\frac{1}{m} \\left(- \\frac{A cd}{2} \\rho \\left(v_{y} - v_{yf}\\right) \\sqrt{\\left(v_{x} - v_{xf}\\right)^{2} + \\left(v_{y} - v_{yf}\\right)^{2} + \\left(v_{z} - v_{zf}\\right)^{2}} + T u_{t} \\left(- 2 q_{r} q_{x} + 2 q_{y} q_{z}\\right)\\right)\\\\\\frac{1}{m} \\left(- \\frac{A cd}{2} \\rho \\left(v_{z} - v_{zf}\\right) \\sqrt{\\left(v_{x} - v_{xf}\\right)^{2} + \\left(v_{y} - v_{yf}\\right)^{2} + \\left(v_{z} - v_{zf}\\right)^{2}} + T u_{t} \\left(- 2 q_{x}^{2} - 2 q_{y}^{2} + 1\\right)\\right)\\\\- \\frac{\\omega q_{y}}{2} u_{y} + \\frac{\\omega q_{z}}{2} u_{x}\\\\\\frac{\\omega q_{y}}{2} u_{x} + \\frac{\\omega q_{z}}{2} u_{y}\\\\\\frac{\\omega q_{r}}{2} u_{y} - \\frac{\\omega q_{x}}{2} u_{x}\\\\- \\frac{\\omega q_{r}}{2} u_{x} - \\frac{\\omega q_{x}}{2} u_{y}\\end{matrix}\\right]$$"
      ],
      "text/plain": [
       "⎡                                                 vₓ                          \n",
       "⎢                                                                             \n",
       "⎢                                                 v_y                         \n",
       "⎢                                                                             \n",
       "⎢                                                 v_z                         \n",
       "⎢                                                                             \n",
       "⎢                        ______________________________________________       \n",
       "⎢                       ╱            2               2               2        \n",
       "⎢  A⋅cd⋅ρ⋅(vₓ - v_xf)⋅╲╱  (vₓ - v_xf)  + (v_y - v_yf)  + (v_z - v_zf)         \n",
       "⎢- ──────────────────────────────────────────────────────────────────── + T⋅uₜ\n",
       "⎢                                   2                                         \n",
       "⎢─────────────────────────────────────────────────────────────────────────────\n",
       "⎢                                                 m                           \n",
       "⎢                                                                             \n",
       "⎢                         ______________________________________________      \n",
       "⎢                        ╱            2               2               2       \n",
       "⎢  A⋅cd⋅ρ⋅(v_y - v_yf)⋅╲╱  (vₓ - v_xf)  + (v_y - v_yf)  + (v_z - v_zf)        \n",
       "⎢- ───────────────────────────────────────────────────────────────────── + T⋅u\n",
       "⎢                                    2                                        \n",
       "⎢─────────────────────────────────────────────────────────────────────────────\n",
       "⎢                                                  m                          \n",
       "⎢                                                                             \n",
       "⎢                         ______________________________________________      \n",
       "⎢                        ╱            2               2               2       \n",
       "⎢  A⋅cd⋅ρ⋅(v_z - v_zf)⋅╲╱  (vₓ - v_xf)  + (v_y - v_yf)  + (v_z - v_zf)        \n",
       "⎢- ───────────────────────────────────────────────────────────────────── + T⋅u\n",
       "⎢                                    2                                        \n",
       "⎢─────────────────────────────────────────────────────────────────────────────\n",
       "⎢                                                  m                          \n",
       "⎢                                                                             \n",
       "⎢                                         ω⋅q_y⋅u_y   ω⋅q_z⋅uₓ                \n",
       "⎢                                       - ───────── + ────────                \n",
       "⎢                                             2          2                    \n",
       "⎢                                                                             \n",
       "⎢                                        ω⋅q_y⋅uₓ   ω⋅q_z⋅u_y                 \n",
       "⎢                                        ──────── + ─────────                 \n",
       "⎢                                           2           2                     \n",
       "⎢                                                                             \n",
       "⎢                                         ω⋅qᵣ⋅u_y   ω⋅qₓ⋅uₓ                  \n",
       "⎢                                         ──────── - ───────                  \n",
       "⎢                                            2          2                     \n",
       "⎢                                                                             \n",
       "⎢                                          ω⋅qᵣ⋅uₓ   ω⋅qₓ⋅u_y                 \n",
       "⎢                                        - ─────── - ────────                 \n",
       "⎣                                             2         2                     \n",
       "\n",
       "                        ⎤\n",
       "                        ⎥\n",
       "                        ⎥\n",
       "                        ⎥\n",
       "                        ⎥\n",
       "                        ⎥\n",
       "                        ⎥\n",
       "                        ⎥\n",
       "                        ⎥\n",
       "⋅(-2⋅qᵣ⋅q_y + 2⋅qₓ⋅q_z) ⎥\n",
       "                        ⎥\n",
       "─────────────────────── ⎥\n",
       "                        ⎥\n",
       "                        ⎥\n",
       "                        ⎥\n",
       "                        ⎥\n",
       "                        ⎥\n",
       "ₜ⋅(-2⋅qᵣ⋅qₓ + 2⋅q_y⋅q_z)⎥\n",
       "                        ⎥\n",
       "────────────────────────⎥\n",
       "                        ⎥\n",
       "                        ⎥\n",
       "                        ⎥\n",
       "                        ⎥\n",
       "  ⎛      2        2    ⎞⎥\n",
       "ₜ⋅⎝- 2⋅qₓ  - 2⋅q_y  + 1⎠⎥\n",
       "                        ⎥\n",
       "────────────────────────⎥\n",
       "                        ⎥\n",
       "                        ⎥\n",
       "                        ⎥\n",
       "                        ⎥\n",
       "                        ⎥\n",
       "                        ⎥\n",
       "                        ⎥\n",
       "                        ⎥\n",
       "                        ⎥\n",
       "                        ⎥\n",
       "                        ⎥\n",
       "                        ⎥\n",
       "                        ⎥\n",
       "                        ⎥\n",
       "                        ⎥\n",
       "                        ⎥\n",
       "                        ⎦"
      ]
     },
     "execution_count": 6,
     "metadata": {},
     "output_type": "execute_result"
    }
   ],
   "source": [
    "# translation\n",
    "dp = v\n",
    "dv = (Fd + Ft)/mass\n",
    "\n",
    "# rotation\n",
    "dq = rotation*Rational(1,2) * Matrix([\n",
    "    [0, 0, -uy, ux],\n",
    "    [0, 0, ux, uy],\n",
    "    [uy, -ux, 0, 0],\n",
    "    [-ux, -uy, 0, 0]\n",
    "]) * q\n",
    "\n",
    "\n",
    "# state transition\n",
    "ds = Matrix([dp, dv, dq])\n",
    "ds"
   ]
  },
  {
   "cell_type": "code",
   "execution_count": 7,
   "metadata": {},
   "outputs": [
    {
     "data": {
      "text/latex": [
       "$$\\alpha \\left(u_{t} + u_{x}^{2} + u_{y}^{2}\\right) + \\left(- \\alpha + 1\\right) \\left(u_{t}^{2} + u_{x}^{2} + u_{y}^{2}\\right)$$"
      ],
      "text/plain": [
       "  ⎛       2      2⎞            ⎛  2     2      2⎞\n",
       "α⋅⎝uₜ + uₓ  + u_y ⎠ + (-α + 1)⋅⎝uₜ  + uₓ  + u_y ⎠"
      ]
     },
     "execution_count": 7,
     "metadata": {},
     "output_type": "execute_result"
    }
   ],
   "source": [
    "# Lagrangian\n",
    "L = (1-alpha)*(ut**2 + ux**2 + uy**2) + alpha*(ut + ux**2 + uy**2)\n",
    "L"
   ]
  },
  {
   "cell_type": "code",
   "execution_count": 8,
   "metadata": {},
   "outputs": [],
   "source": [
    "# equality constraints\n",
    "iq = [ut-1, -ut, ux-1, -ux-1, uy-1, -uy-1]"
   ]
  },
  {
   "cell_type": "code",
   "execution_count": 9,
   "metadata": {},
   "outputs": [],
   "source": [
    "# initialise system\n",
    "sys = system(s, u, ds, L, inequality=iq)"
   ]
  },
  {
   "cell_type": "code",
   "execution_count": 10,
   "metadata": {},
   "outputs": [
    {
     "data": {
      "text/latex": [
       "$$\\left [ \\left \\{ \\eta_{0} : 0, \\quad \\eta_{1} : 0, \\quad \\eta_{2} : 0, \\quad \\eta_{3} : 0, \\quad \\eta_{4} : 0, \\quad \\eta_{5} : 0, \\quad u_{t} : \\frac{1}{m \\left(\\alpha - 1\\right)} \\left(- T \\lambda_{v x} q_{r} q_{y} + T \\lambda_{v x} q_{x} q_{z} - T \\lambda_{v y} q_{r} q_{x} + T \\lambda_{v y} q_{y} q_{z} - T \\lambda_{v z} q_{x}^{2} - T \\lambda_{v z} q_{y}^{2} + \\frac{T}{2} \\lambda_{v z} + \\frac{\\alpha m}{2}\\right), \\quad u_{x} : \\frac{\\omega}{4} \\left(- \\lambda_{q r} q_{z} - \\lambda_{q x} q_{y} + \\lambda_{q y} q_{x} + \\lambda_{q z} q_{r}\\right), \\quad u_{y} : \\frac{\\omega}{4} \\left(\\lambda_{q r} q_{y} - \\lambda_{q x} q_{z} - \\lambda_{q y} q_{r} + \\lambda_{q z} q_{x}\\right)\\right \\}\\right ]$$"
      ],
      "text/plain": [
       "⎡⎧                                                                            \n",
       "⎢⎪                                              -T⋅λᵥ ₓ⋅qᵣ⋅q_y + T⋅λᵥ ₓ⋅qₓ⋅q_z\n",
       "⎢⎨                                                                            \n",
       "⎢⎪η₀: 0, η₁: 0, η₂: 0, η₃: 0, η₄: 0, η₅: 0, uₜ: ──────────────────────────────\n",
       "⎣⎩                                                                            \n",
       "\n",
       "                                               2              2   T⋅λ_v_z   α⋅\n",
       " - T⋅λ_v_y⋅qᵣ⋅qₓ + T⋅λ_v_y⋅q_y⋅q_z - T⋅λ_v_z⋅qₓ  - T⋅λ_v_z⋅q_y  + ─────── + ──\n",
       "                                                                     2       2\n",
       "──────────────────────────────────────────────────────────────────────────────\n",
       "                    m⋅(α - 1)                                                 \n",
       "\n",
       "m                                                                             \n",
       "─                                                                             \n",
       "       ω⋅(-λ_q_r⋅q_z - λ_q_x⋅q_y + λ_q_y⋅qₓ + λ_q_z⋅qᵣ)       ω⋅(λ_q_r⋅q_y - λ\n",
       "─, uₓ: ────────────────────────────────────────────────, u_y: ────────────────\n",
       "                              4                                               \n",
       "\n",
       "                               ⎫⎤\n",
       "                               ⎪⎥\n",
       "_q_x⋅q_z - λ_q_y⋅qᵣ + λ_q_z⋅qₓ)⎬⎥\n",
       "───────────────────────────────⎪⎥\n",
       "       4                       ⎭⎦"
      ]
     },
     "execution_count": 10,
     "metadata": {},
     "output_type": "execute_result"
    }
   ],
   "source": [
    "sys.solve()"
   ]
  }
 ],
 "metadata": {
  "kernelspec": {
   "display_name": "Python 3",
   "language": "python",
   "name": "python3"
  },
  "language_info": {
   "codemirror_mode": {
    "name": "ipython",
    "version": 3
   },
   "file_extension": ".py",
   "mimetype": "text/x-python",
   "name": "python",
   "nbconvert_exporter": "python",
   "pygments_lexer": "ipython3",
   "version": "3.6.5"
  }
 },
 "nbformat": 4,
 "nbformat_minor": 2
}
