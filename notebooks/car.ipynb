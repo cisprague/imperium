{
 "cells": [
  {
   "cell_type": "markdown",
   "metadata": {},
   "source": [
    "# Simple car"
   ]
  },
  {
   "cell_type": "code",
   "execution_count": 1,
   "metadata": {},
   "outputs": [],
   "source": [
    "import sys\n",
    "sys.path.append(\"../src/dynamics\")\n",
    "from pontryagin import system_parse\n",
    "from sympy import init_printing\n",
    "from sympy import *\n",
    "init_printing()"
   ]
  },
  {
   "cell_type": "code",
   "execution_count": 2,
   "metadata": {},
   "outputs": [],
   "source": [
    "sys = {\n",
    "    'state': ['x', 'y', 'theta'],\n",
    "    'control': ['u'],\n",
    "    'dynamics': ['V*cos(theta)', 'V*sin(theta)', 'u*omega'],\n",
    "    'lagrangian': 'u**2',\n",
    "    'inequality': ['u - 1', '-u - 1']\n",
    "}\n",
    "sys = system_parse(sys)"
   ]
  },
  {
   "cell_type": "code",
   "execution_count": 3,
   "metadata": {},
   "outputs": [
    {
     "data": {
      "text/latex": [
       "$$\\left [ \\left \\{ \\eta_{0} : 0, \\quad \\eta_{1} : 0, \\quad u : - \\frac{\\lambda_{\\theta} \\omega}{2}\\right \\}\\right ]$$"
      ],
      "text/plain": [
       "⎡⎧                 -λₜₕₑₜₐ⋅ω ⎫⎤\n",
       "⎢⎨η₀: 0, η₁: 0, u: ──────────⎬⎥\n",
       "⎣⎩                     2     ⎭⎦"
      ]
     },
     "execution_count": 3,
     "metadata": {},
     "output_type": "execute_result"
    }
   ],
   "source": [
    "sys.solve()"
   ]
  }
 ],
 "metadata": {
  "kernelspec": {
   "display_name": "Python 3",
   "language": "python",
   "name": "python3"
  },
  "language_info": {
   "codemirror_mode": {
    "name": "ipython",
    "version": 3
   },
   "file_extension": ".py",
   "mimetype": "text/x-python",
   "name": "python",
   "nbconvert_exporter": "python",
   "pygments_lexer": "ipython3",
   "version": "3.6.5"
  }
 },
 "nbformat": 4,
 "nbformat_minor": 2
}
