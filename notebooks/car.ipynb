{
 "cells": [
  {
   "cell_type": "markdown",
   "metadata": {},
   "source": [
    "# Derivation"
   ]
  },
  {
   "cell_type": "code",
   "execution_count": 1,
   "metadata": {},
   "outputs": [],
   "source": [
    "from sympy import *\n",
    "from sympy.utilities.codegen import codegen\n",
    "init_printing()"
   ]
  },
  {
   "cell_type": "code",
   "execution_count": 2,
   "metadata": {},
   "outputs": [
    {
     "data": {
      "text/latex": [
       "$$\\left[\\begin{matrix}x & y & \\theta\\end{matrix}\\right]$$"
      ],
      "text/plain": [
       "[x  y  θ]"
      ]
     },
     "execution_count": 2,
     "metadata": {},
     "output_type": "execute_result"
    }
   ],
   "source": [
    "# state\n",
    "x, y, theta = symbols('x y theta', real=True)\n",
    "p = Matrix([x, y])\n",
    "s = Matrix([p, [theta]])\n",
    "s.T"
   ]
  },
  {
   "cell_type": "code",
   "execution_count": 21,
   "metadata": {},
   "outputs": [
    {
     "data": {
      "text/latex": [
       "$$\\left[\\begin{matrix}\\omega\\end{matrix}\\right]$$"
      ],
      "text/plain": [
       "[ω]"
      ]
     },
     "execution_count": 21,
     "metadata": {},
     "output_type": "execute_result"
    }
   ],
   "source": [
    "# control\n",
    "omega = symbols('omega', real=True)\n",
    "u = Matrix([omega])\n",
    "u.T"
   ]
  },
  {
   "cell_type": "code",
   "execution_count": 39,
   "metadata": {},
   "outputs": [
    {
     "data": {
      "image/png": "[encoded data removed]",
      "text/latex": [
       "$$\\left ( 1, \\quad 1\\right )$$"
      ],
      "text/plain": [
       "(1, 1)"
      ]
     },
     "execution_count": 39,
     "metadata": {},
     "output_type": "execute_result"
    }
   ],
   "source": [
    "# a priori parameters\n",
    "V = symbols('V', real=True, positive=True)\n",
    "alpha = Matrix([V])\n",
    "alpha.shape"
   ]
  },
  {
   "cell_type": "code",
   "execution_count": 26,
   "metadata": {},
   "outputs": [
    {
     "data": {
      "text/latex": [
       "$$\\left[\\begin{matrix}V \\cos{\\left (\\theta \\right )} & V \\sin{\\left (\\theta \\right )} & \\omega\\end{matrix}\\right]$$"
      ],
      "text/plain": [
       "[V⋅cos(θ)  V⋅sin(θ)  ω]"
      ]
     },
     "execution_count": 26,
     "metadata": {},
     "output_type": "execute_result"
    }
   ],
   "source": [
    "# state dynamics\n",
    "dx = V*cos(theta)\n",
    "dy = V*sin(theta)\n",
    "dtheta = omega\n",
    "ds = Matrix([dx, dy, dtheta])\n",
    "ds.T"
   ]
  },
  {
   "cell_type": "code",
   "execution_count": 40,
   "metadata": {},
   "outputs": [
    {
     "data": {
      "image/png": "[encoded data removed]",
      "text/latex": [
       "$$\\left ( 3, \\quad 1\\right )$$"
      ],
      "text/plain": [
       "(3, 1)"
      ]
     },
     "execution_count": 40,
     "metadata": {},
     "output_type": "execute_result"
    }
   ],
   "source": [
    "# costate variables\n",
    "l = Matrix([symbols('lambda_' + str(var)) for var in s])\n",
    "l.shape"
   ]
  },
  {
   "cell_type": "code",
   "execution_count": 28,
   "metadata": {},
   "outputs": [],
   "source": [
    "# a posteriori parameters\n",
    "beta = Matrix([])"
   ]
  },
  {
   "cell_type": "code",
   "execution_count": 29,
   "metadata": {},
   "outputs": [
    {
     "data": {
      "image/png": "[encoded data removed]",
      "text/latex": [
       "$$\\omega^{2}$$"
      ],
      "text/plain": [
       " 2\n",
       "ω "
      ]
     },
     "execution_count": 29,
     "metadata": {},
     "output_type": "execute_result"
    }
   ],
   "source": [
    "# lagrangian\n",
    "L = omega**2\n",
    "L"
   ]
  },
  {
   "cell_type": "code",
   "execution_count": 30,
   "metadata": {},
   "outputs": [
    {
     "data": {
      "image/png": "[encoded data removed]",
      "text/latex": [
       "$$V \\lambda_{x} \\cos{\\left (\\theta \\right )} + V \\lambda_{y} \\sin{\\left (\\theta \\right )} + \\lambda_{\\theta} \\omega + \\omega^{2}$$"
      ],
      "text/plain": [
       "                                         2\n",
       "V⋅λₓ⋅cos(θ) + V⋅λ_y⋅sin(θ) + λₜₕₑₜₐ⋅ω + ω "
      ]
     },
     "execution_count": 30,
     "metadata": {},
     "output_type": "execute_result"
    }
   ],
   "source": [
    "# hamiltonian\n",
    "H = l.dot(ds) + L\n",
    "H"
   ]
  },
  {
   "cell_type": "code",
   "execution_count": 31,
   "metadata": {},
   "outputs": [
    {
     "data": {
      "text/latex": [
       "$$\\left[\\begin{matrix}0 & 0 & V \\lambda_{x} \\sin{\\left (\\theta \\right )} - V \\lambda_{y} \\cos{\\left (\\theta \\right )}\\end{matrix}\\right]$$"
      ],
      "text/plain": [
       "[0  0  V⋅λₓ⋅sin(θ) - V⋅λ_y⋅cos(θ)]"
      ]
     },
     "execution_count": 31,
     "metadata": {},
     "output_type": "execute_result"
    }
   ],
   "source": [
    "# costate dynamics\n",
    "dl = -Matrix([H.diff(var) for var in s])\n",
    "dl.T"
   ]
  },
  {
   "cell_type": "code",
   "execution_count": 32,
   "metadata": {},
   "outputs": [
    {
     "data": {
      "text/latex": [
       "$$\\left[\\begin{matrix}V \\cos{\\left (\\theta \\right )} & V \\sin{\\left (\\theta \\right )} & \\omega & 0 & 0 & V \\lambda_{x} \\sin{\\left (\\theta \\right )} - V \\lambda_{y} \\cos{\\left (\\theta \\right )}\\end{matrix}\\right]$$"
      ],
      "text/plain": [
       "[V⋅cos(θ)  V⋅sin(θ)  ω  0  0  V⋅λₓ⋅sin(θ) - V⋅λ_y⋅cos(θ)]"
      ]
     },
     "execution_count": 32,
     "metadata": {},
     "output_type": "execute_result"
    }
   ],
   "source": [
    "# fullstate dynamics\n",
    "fs = Matrix([s, l])\n",
    "dfs = Matrix([ds, dl])\n",
    "dfs.T"
   ]
  },
  {
   "cell_type": "code",
   "execution_count": 33,
   "metadata": {},
   "outputs": [
    {
     "data": {
      "text/latex": [
       "$$\\left[\\begin{matrix}0 & 0 & - V \\sin{\\left (\\theta \\right )} & 0 & 0 & 0\\\\0 & 0 & V \\cos{\\left (\\theta \\right )} & 0 & 0 & 0\\\\0 & 0 & 0 & 0 & 0 & 0\\\\0 & 0 & 0 & 0 & 0 & 0\\\\0 & 0 & 0 & 0 & 0 & 0\\\\0 & 0 & V \\lambda_{x} \\cos{\\left (\\theta \\right )} + V \\lambda_{y} \\sin{\\left (\\theta \\right )} & V \\sin{\\left (\\theta \\right )} & - V \\cos{\\left (\\theta \\right )} & 0\\end{matrix}\\right]$$"
      ],
      "text/plain": [
       "⎡0  0          -V⋅sin(θ)              0          0      0⎤\n",
       "⎢                                                        ⎥\n",
       "⎢0  0           V⋅cos(θ)              0          0      0⎥\n",
       "⎢                                                        ⎥\n",
       "⎢0  0              0                  0          0      0⎥\n",
       "⎢                                                        ⎥\n",
       "⎢0  0              0                  0          0      0⎥\n",
       "⎢                                                        ⎥\n",
       "⎢0  0              0                  0          0      0⎥\n",
       "⎢                                                        ⎥\n",
       "⎣0  0  V⋅λₓ⋅cos(θ) + V⋅λ_y⋅sin(θ)  V⋅sin(θ)  -V⋅cos(θ)  0⎦"
      ]
     },
     "execution_count": 33,
     "metadata": {},
     "output_type": "execute_result"
    }
   ],
   "source": [
    "# jacobians\n",
    "dds = ds.jacobian(s)\n",
    "ddl = dl.jacobian(l)\n",
    "ddfs = dfs.jacobian(fs)\n",
    "ddfs"
   ]
  },
  {
   "cell_type": "code",
   "execution_count": 36,
   "metadata": {},
   "outputs": [
    {
     "data": {
      "image/png": "[encoded data removed]",
      "text/latex": [
       "$$\\lambda_{\\theta} + 2 \\omega$$"
      ],
      "text/plain": [
       "λₜₕₑₜₐ + 2⋅ω"
      ]
     },
     "execution_count": 36,
     "metadata": {},
     "output_type": "execute_result"
    }
   ],
   "source": [
    "# optimal action\n",
    "H.diff(u[var] for var )"
   ]
  },
  {
   "cell_type": "markdown",
   "metadata": {},
   "source": [
    "# Code generation"
   ]
  },
  {
   "cell_type": "code",
   "execution_count": null,
   "metadata": {},
   "outputs": [],
   "source": [
    "from sympy.utilities.codegen import *"
   ]
  },
  {
   "cell_type": "code",
   "execution_count": null,
   "metadata": {},
   "outputs": [],
   "source": [
    "# function variable names\n",
    "fvars = ['ds', 'dds', 'dl', 'ddl', 'dfs', 'ddfs', 'L', 'H', 'u']"
   ]
  },
  {
   "cell_type": "code",
   "execution_count": null,
   "metadata": {},
   "outputs": [],
   "source": [
    "# function expressions\n",
    "fexps = list()\n",
    "for var in fvars:\n",
    "    val = eval(var)\n",
    "    try:\n",
    "        fexps.append(Eq(MatrixSymbol(var, *val.shape), val))\n",
    "    except:\n",
    "        fexps.append(Eq(symbols(var), val))"
   ]
  },
  {
   "cell_type": "code",
   "execution_count": null,
   "metadata": {},
   "outputs": [],
   "source": [
    "# function names\n",
    "fnames = [\n",
    "    \"eom_state\", \n",
    "    \"eom_state_jac\", \n",
    "    \"eom_costate\",\n",
    "    \"eom_costate_jac\",\n",
    "    \"eom_fullstate\",\n",
    "    \"eom_fullstate_jac\", \n",
    "    \"lagrangian\", \n",
    "    \"hamiltonian\", \n",
    "    \"pontryagin\"\n",
    "]"
   ]
  },
  {
   "cell_type": "code",
   "execution_count": null,
   "metadata": {},
   "outputs": [],
   "source": [
    "# ordered function arguments\n",
    "syms = [\n",
    "    [*s, *u, *params],\n",
    "    [*s, *u, *params],\n",
    "    [*fs, *u, *params],\n",
    "    [*fs, *u, *params],\n",
    "    [*u, alpha],\n",
    "    [*fs, *u, alpha, *params],\n",
    "    [*fs, alpha, *params],\n",
    "]\n",
    "\n",
    "[sym.append(func.lhs) for sym, func in zip(syms, funcs)]"
   ]
  },
  {
   "cell_type": "code",
   "execution_count": null,
   "metadata": {},
   "outputs": [],
   "source": [
    "try:\n",
    "    L.shape\n",
    "except:\n",
    "    print(L)"
   ]
  },
  {
   "cell_type": "code",
   "execution_count": 38,
   "metadata": {},
   "outputs": [
    {
     "data": {
      "text/plain": [
       "<bound method MatrixProperties.values of Matrix([\n",
       "[V*cos(theta)],\n",
       "[V*sin(theta)],\n",
       "[       omega]])>"
      ]
     },
     "execution_count": 38,
     "metadata": {},
     "output_type": "execute_result"
    }
   ],
   "source": [
    "ds."
   ]
  },
  {
   "cell_type": "code",
   "execution_count": null,
   "metadata": {},
   "outputs": [],
   "source": []
  }
 ],
 "metadata": {
  "kernelspec": {
   "display_name": "Python 3",
   "language": "python",
   "name": "python3"
  },
  "language_info": {
   "codemirror_mode": {
    "name": "ipython",
    "version": 3
   },
   "file_extension": ".py",
   "mimetype": "text/x-python",
   "name": "python",
   "nbconvert_exporter": "python",
   "pygments_lexer": "ipython3",
   "version": "3.5.2"
  }
 },
 "nbformat": 4,
 "nbformat_minor": 2
}
