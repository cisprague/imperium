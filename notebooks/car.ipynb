{
 "cells": [
  {
   "cell_type": "markdown",
   "metadata": {},
   "source": [
    "# Simple car"
   ]
  },
  {
   "cell_type": "code",
   "execution_count": 1,
   "metadata": {},
   "outputs": [],
   "source": [
    "import sys\n",
    "sys.path.append(\"../src/dynamics\")\n",
    "from pontryagin import system_parse\n",
    "from sympy import init_printing\n",
    "init_printing()"
   ]
  },
  {
   "cell_type": "code",
   "execution_count": 2,
   "metadata": {},
   "outputs": [],
   "source": [
    "sys = {\n",
    "    'state': ['x', 'y', 'theta'],\n",
    "    'control': ['omega'],\n",
    "    'dynamics': ['V*cos(theta)', 'V*sin(theta)', 'omega'],\n",
    "    'lagrangian': 'omega**2'\n",
    "}\n",
    "sys = system_parse(sys)"
   ]
  },
  {
   "cell_type": "code",
   "execution_count": 3,
   "metadata": {},
   "outputs": [
    {
     "data": {
      "text/latex": [
       "$$\\left[\\begin{matrix}x\\\\y\\\\\\theta\\end{matrix}\\right]$$"
      ],
      "text/plain": [
       "⎡x⎤\n",
       "⎢ ⎥\n",
       "⎢y⎥\n",
       "⎢ ⎥\n",
       "⎣θ⎦"
      ]
     },
     "execution_count": 3,
     "metadata": {},
     "output_type": "execute_result"
    }
   ],
   "source": [
    "# state\n",
    "sys.s"
   ]
  },
  {
   "cell_type": "code",
   "execution_count": 4,
   "metadata": {},
   "outputs": [
    {
     "data": {
      "text/latex": [
       "$$\\left[\\begin{matrix}\\omega\\end{matrix}\\right]$$"
      ],
      "text/plain": [
       "[ω]"
      ]
     },
     "execution_count": 4,
     "metadata": {},
     "output_type": "execute_result"
    }
   ],
   "source": [
    "# control\n",
    "sys.u"
   ]
  },
  {
   "cell_type": "code",
   "execution_count": 5,
   "metadata": {},
   "outputs": [
    {
     "data": {
      "text/latex": [
       "$$\\left[\\begin{matrix}V \\cos{\\left (\\theta \\right )}\\\\V \\sin{\\left (\\theta \\right )}\\\\\\omega\\end{matrix}\\right]$$"
      ],
      "text/plain": [
       "⎡V⋅cos(θ)⎤\n",
       "⎢        ⎥\n",
       "⎢V⋅sin(θ)⎥\n",
       "⎢        ⎥\n",
       "⎣   ω    ⎦"
      ]
     },
     "execution_count": 5,
     "metadata": {},
     "output_type": "execute_result"
    }
   ],
   "source": [
    "# state dynamics\n",
    "sys.ds"
   ]
  },
  {
   "cell_type": "code",
   "execution_count": 6,
   "metadata": {},
   "outputs": [
    {
     "data": {
      "image/png": "[encoded data removed]",
      "text/latex": [
       "$$\\omega^{2}$$"
      ],
      "text/plain": [
       " 2\n",
       "ω "
      ]
     },
     "execution_count": 6,
     "metadata": {},
     "output_type": "execute_result"
    }
   ],
   "source": [
    "# lagrangian\n",
    "sys.L"
   ]
  },
  {
   "cell_type": "code",
   "execution_count": 7,
   "metadata": {},
   "outputs": [
    {
     "data": {
      "text/latex": [
       "$$\\left[\\begin{matrix}V \\cos{\\left (\\theta \\right )}\\\\V \\sin{\\left (\\theta \\right )}\\\\\\omega\\\\0\\\\0\\\\V \\lambda_{x} \\sin{\\left (\\theta \\right )} - V \\lambda_{y} \\cos{\\left (\\theta \\right )}\\end{matrix}\\right]$$"
      ],
      "text/plain": [
       "⎡         V⋅cos(θ)         ⎤\n",
       "⎢                          ⎥\n",
       "⎢         V⋅sin(θ)         ⎥\n",
       "⎢                          ⎥\n",
       "⎢            ω             ⎥\n",
       "⎢                          ⎥\n",
       "⎢            0             ⎥\n",
       "⎢                          ⎥\n",
       "⎢            0             ⎥\n",
       "⎢                          ⎥\n",
       "⎣V⋅λₓ⋅sin(θ) - V⋅λ_y⋅cos(θ)⎦"
      ]
     },
     "execution_count": 7,
     "metadata": {},
     "output_type": "execute_result"
    }
   ],
   "source": [
    "# fullstate dynamics\n",
    "sys.dfs"
   ]
  },
  {
   "cell_type": "code",
   "execution_count": 8,
   "metadata": {},
   "outputs": [
    {
     "data": {
      "text/latex": [
       "$$\\left[\\begin{matrix}0 & 0 & 0 & 0 & 0 & 0\\\\0 & 0 & 0 & 0 & 0 & 0\\\\- V \\sin{\\left (\\theta \\right )} & V \\cos{\\left (\\theta \\right )} & 0 & 0 & 0 & V \\lambda_{x} \\cos{\\left (\\theta \\right )} + V \\lambda_{y} \\sin{\\left (\\theta \\right )}\\\\0 & 0 & 0 & 0 & 0 & V \\sin{\\left (\\theta \\right )}\\\\0 & 0 & 0 & 0 & 0 & - V \\cos{\\left (\\theta \\right )}\\\\0 & 0 & 0 & 0 & 0 & 0\\end{matrix}\\right]$$"
      ],
      "text/plain": [
       "⎡    0         0      0  0  0              0             ⎤\n",
       "⎢                                                        ⎥\n",
       "⎢    0         0      0  0  0              0             ⎥\n",
       "⎢                                                        ⎥\n",
       "⎢-V⋅sin(θ)  V⋅cos(θ)  0  0  0  V⋅λₓ⋅cos(θ) + V⋅λ_y⋅sin(θ)⎥\n",
       "⎢                                                        ⎥\n",
       "⎢    0         0      0  0  0           V⋅sin(θ)         ⎥\n",
       "⎢                                                        ⎥\n",
       "⎢    0         0      0  0  0          -V⋅cos(θ)         ⎥\n",
       "⎢                                                        ⎥\n",
       "⎣    0         0      0  0  0              0             ⎦"
      ]
     },
     "execution_count": 8,
     "metadata": {},
     "output_type": "execute_result"
    }
   ],
   "source": [
    "# fullstate dynamics jacobian\n",
    "sys.ddfs.T"
   ]
  },
  {
   "cell_type": "code",
   "execution_count": 9,
   "metadata": {},
   "outputs": [],
   "source": [
    "# generate C or Fortran code\n",
    "sys.codegen(\"../src/dynamics/car\", \"C\")\n",
    "sys.codegen(\"../src/dynamics/car\", \"F\")"
   ]
  },
  {
   "cell_type": "markdown",
   "metadata": {},
   "source": [
    "# Generated C code \n",
    "\n",
    "```c\n",
    "#include \"car.h\"\n",
    "#include <math.h>\n",
    "\n",
    "void ds(double x, double y, double theta, double omega, double V, double *ds) {\n",
    "\n",
    "   ds[0] = V*cos(theta);\n",
    "   ds[1] = V*sin(theta);\n",
    "   ds[2] = omega;\n",
    "\n",
    "}\n",
    "\n",
    "void dds(double x, double y, double theta, double omega, double V, double *dds) {\n",
    "\n",
    "   dds[0] = 0;\n",
    "   dds[1] = 0;\n",
    "   dds[2] = -V*sin(theta);\n",
    "   dds[3] = 0;\n",
    "   dds[4] = 0;\n",
    "   dds[5] = V*cos(theta);\n",
    "   dds[6] = 0;\n",
    "   dds[7] = 0;\n",
    "   dds[8] = 0;\n",
    "\n",
    "}\n",
    "\n",
    "void dl(double x, double y, double theta, double lambda_x, double lambda_y, double lambda_theta, double omega, double V, double *dl) {\n",
    "\n",
    "   dl[0] = 0;\n",
    "   dl[1] = 0;\n",
    "   dl[2] = V*lambda_x*sin(theta) - V*lambda_y*cos(theta);\n",
    "\n",
    "}\n",
    "\n",
    "void ddl(double x, double y, double theta, double lambda_x, double lambda_y, double lambda_theta, double omega, double V, double *ddl) {\n",
    "\n",
    "   ddl[0] = 0;\n",
    "   ddl[1] = 0;\n",
    "   ddl[2] = 0;\n",
    "   ddl[3] = 0;\n",
    "   ddl[4] = 0;\n",
    "   ddl[5] = 0;\n",
    "   ddl[6] = 0;\n",
    "   ddl[7] = 0;\n",
    "   ddl[8] = V*lambda_x*cos(theta) + V*lambda_y*sin(theta);\n",
    "\n",
    "}\n",
    "\n",
    "void dfs(double x, double y, double theta, double lambda_x, double lambda_y, double lambda_theta, double omega, double V, double *dfs) {\n",
    "\n",
    "   dfs[0] = V*cos(theta);\n",
    "   dfs[1] = V*sin(theta);\n",
    "   dfs[2] = omega;\n",
    "   dfs[3] = 0;\n",
    "   dfs[4] = 0;\n",
    "   dfs[5] = V*lambda_x*sin(theta) - V*lambda_y*cos(theta);\n",
    "\n",
    "}\n",
    "\n",
    "void ddfs(double x, double y, double theta, double lambda_x, double lambda_y, double lambda_theta, double omega, double V, double *ddfs) {\n",
    "\n",
    "   ddfs[0] = 0;\n",
    "   ddfs[1] = 0;\n",
    "   ddfs[2] = -V*sin(theta);\n",
    "   ddfs[3] = 0;\n",
    "   ddfs[4] = 0;\n",
    "   ddfs[5] = 0;\n",
    "   ddfs[6] = 0;\n",
    "   ddfs[7] = 0;\n",
    "   ddfs[8] = V*cos(theta);\n",
    "   ddfs[9] = 0;\n",
    "   ddfs[10] = 0;\n",
    "   ddfs[11] = 0;\n",
    "   ddfs[12] = 0;\n",
    "   ddfs[13] = 0;\n",
    "   ddfs[14] = 0;\n",
    "   ddfs[15] = 0;\n",
    "   ddfs[16] = 0;\n",
    "   ddfs[17] = 0;\n",
    "   ddfs[18] = 0;\n",
    "   ddfs[19] = 0;\n",
    "   ddfs[20] = 0;\n",
    "   ddfs[21] = 0;\n",
    "   ddfs[22] = 0;\n",
    "   ddfs[23] = 0;\n",
    "   ddfs[24] = 0;\n",
    "   ddfs[25] = 0;\n",
    "   ddfs[26] = 0;\n",
    "   ddfs[27] = 0;\n",
    "   ddfs[28] = 0;\n",
    "   ddfs[29] = 0;\n",
    "   ddfs[30] = 0;\n",
    "   ddfs[31] = 0;\n",
    "   ddfs[32] = V*lambda_x*cos(theta) + V*lambda_y*sin(theta);\n",
    "   ddfs[33] = V*sin(theta);\n",
    "   ddfs[34] = -V*cos(theta);\n",
    "   ddfs[35] = 0;\n",
    "\n",
    "}\n",
    "\n",
    "void L(double x, double y, double theta, double omega, double V, double *L) {\n",
    "\n",
    "   (*L) = pow(omega, 2);\n",
    "\n",
    "}\n",
    "\n",
    "void H(double x, double y, double theta, double lambda_x, double lambda_y, double lambda_theta, double omega, double V, double *H) {\n",
    "\n",
    "   (*H) = V*lambda_x*cos(theta) + V*lambda_y*sin(theta) + lambda_theta*omega + pow(omega, 2);\n",
    "\n",
    "}\n",
    "\n",
    "void uo(double x, double y, double theta, double lambda_x, double lambda_y, double lambda_theta, double V, double *uo) {\n",
    "\n",
    "   uo[0] = -1.0L/2.0L*lambda_theta;\n",
    "\n",
    "}\n",
    "```"
   ]
  },
  {
   "cell_type": "markdown",
   "metadata": {},
   "source": [
    "# Generated Fortran Code\n",
    "\n",
    "```fortran\n",
    "\n",
    "subroutine ds(x, y, theta, omega, V, ds)\n",
    "implicit none\n",
    "REAL*8, intent(in) :: x\n",
    "REAL*8, intent(in) :: y\n",
    "REAL*8, intent(in) :: theta\n",
    "REAL*8, intent(in) :: omega\n",
    "REAL*8, intent(in) :: V\n",
    "REAL*8, intent(out), dimension(1:3, 1:1) :: ds\n",
    "\n",
    "ds(1, 1) = V*cos(theta)\n",
    "ds(2, 1) = V*sin(theta)\n",
    "ds(3, 1) = omega\n",
    "\n",
    "end subroutine\n",
    "\n",
    "subroutine dds(x, y, theta, omega, V, dds)\n",
    "implicit none\n",
    "REAL*8, intent(in) :: x\n",
    "REAL*8, intent(in) :: y\n",
    "REAL*8, intent(in) :: theta\n",
    "REAL*8, intent(in) :: omega\n",
    "REAL*8, intent(in) :: V\n",
    "REAL*8, intent(out), dimension(1:3, 1:3) :: dds\n",
    "\n",
    "dds(1, 1) = 0\n",
    "dds(2, 1) = 0\n",
    "dds(3, 1) = 0\n",
    "dds(1, 2) = 0\n",
    "dds(2, 2) = 0\n",
    "dds(3, 2) = 0\n",
    "dds(1, 3) = -V*sin(theta)\n",
    "dds(2, 3) = V*cos(theta)\n",
    "dds(3, 3) = 0\n",
    "\n",
    "end subroutine\n",
    "\n",
    "subroutine dl(x, y, theta, lambda_x, lambda_y, lambda_theta, omega, V, &\n",
    "      dl)\n",
    "implicit none\n",
    "REAL*8, intent(in) :: x\n",
    "REAL*8, intent(in) :: y\n",
    "REAL*8, intent(in) :: theta\n",
    "REAL*8, intent(in) :: lambda_x\n",
    "REAL*8, intent(in) :: lambda_y\n",
    "REAL*8, intent(in) :: lambda_theta\n",
    "REAL*8, intent(in) :: omega\n",
    "REAL*8, intent(in) :: V\n",
    "REAL*8, intent(out), dimension(1:3, 1:1) :: dl\n",
    "\n",
    "dl(1, 1) = 0\n",
    "dl(2, 1) = 0\n",
    "dl(3, 1) = V*lambda_x*sin(theta) - V*lambda_y*cos(theta)\n",
    "\n",
    "end subroutine\n",
    "\n",
    "subroutine ddl(x, y, theta, lambda_x, lambda_y, lambda_theta, omega, V, &\n",
    "      ddl)\n",
    "implicit none\n",
    "REAL*8, intent(in) :: x\n",
    "REAL*8, intent(in) :: y\n",
    "REAL*8, intent(in) :: theta\n",
    "REAL*8, intent(in) :: lambda_x\n",
    "REAL*8, intent(in) :: lambda_y\n",
    "REAL*8, intent(in) :: lambda_theta\n",
    "REAL*8, intent(in) :: omega\n",
    "REAL*8, intent(in) :: V\n",
    "REAL*8, intent(out), dimension(1:3, 1:3) :: ddl\n",
    "\n",
    "ddl(1, 1) = 0\n",
    "ddl(2, 1) = 0\n",
    "ddl(3, 1) = 0\n",
    "ddl(1, 2) = 0\n",
    "ddl(2, 2) = 0\n",
    "ddl(3, 2) = 0\n",
    "ddl(1, 3) = 0\n",
    "ddl(2, 3) = 0\n",
    "ddl(3, 3) = V*lambda_x*cos(theta) + V*lambda_y*sin(theta)\n",
    "\n",
    "end subroutine\n",
    "\n",
    "subroutine dfs(x, y, theta, lambda_x, lambda_y, lambda_theta, omega, V, &\n",
    "      dfs)\n",
    "implicit none\n",
    "REAL*8, intent(in) :: x\n",
    "REAL*8, intent(in) :: y\n",
    "REAL*8, intent(in) :: theta\n",
    "REAL*8, intent(in) :: lambda_x\n",
    "REAL*8, intent(in) :: lambda_y\n",
    "REAL*8, intent(in) :: lambda_theta\n",
    "REAL*8, intent(in) :: omega\n",
    "REAL*8, intent(in) :: V\n",
    "REAL*8, intent(out), dimension(1:6, 1:1) :: dfs\n",
    "\n",
    "dfs(1, 1) = V*cos(theta)\n",
    "dfs(2, 1) = V*sin(theta)\n",
    "dfs(3, 1) = omega\n",
    "dfs(4, 1) = 0\n",
    "dfs(5, 1) = 0\n",
    "dfs(6, 1) = V*lambda_x*sin(theta) - V*lambda_y*cos(theta)\n",
    "\n",
    "end subroutine\n",
    "\n",
    "subroutine ddfs(x, y, theta, lambda_x, lambda_y, lambda_theta, omega, &\n",
    "      V, ddfs)\n",
    "implicit none\n",
    "REAL*8, intent(in) :: x\n",
    "REAL*8, intent(in) :: y\n",
    "REAL*8, intent(in) :: theta\n",
    "REAL*8, intent(in) :: lambda_x\n",
    "REAL*8, intent(in) :: lambda_y\n",
    "REAL*8, intent(in) :: lambda_theta\n",
    "REAL*8, intent(in) :: omega\n",
    "REAL*8, intent(in) :: V\n",
    "REAL*8, intent(out), dimension(1:6, 1:6) :: ddfs\n",
    "\n",
    "ddfs(1, 1) = 0\n",
    "ddfs(2, 1) = 0\n",
    "ddfs(3, 1) = 0\n",
    "ddfs(4, 1) = 0\n",
    "ddfs(5, 1) = 0\n",
    "ddfs(6, 1) = 0\n",
    "ddfs(1, 2) = 0\n",
    "ddfs(2, 2) = 0\n",
    "ddfs(3, 2) = 0\n",
    "ddfs(4, 2) = 0\n",
    "ddfs(5, 2) = 0\n",
    "ddfs(6, 2) = 0\n",
    "ddfs(1, 3) = -V*sin(theta)\n",
    "ddfs(2, 3) = V*cos(theta)\n",
    "ddfs(3, 3) = 0\n",
    "ddfs(4, 3) = 0\n",
    "ddfs(5, 3) = 0\n",
    "ddfs(6, 3) = V*lambda_x*cos(theta) + V*lambda_y*sin(theta)\n",
    "ddfs(1, 4) = 0\n",
    "ddfs(2, 4) = 0\n",
    "ddfs(3, 4) = 0\n",
    "ddfs(4, 4) = 0\n",
    "ddfs(5, 4) = 0\n",
    "ddfs(6, 4) = V*sin(theta)\n",
    "ddfs(1, 5) = 0\n",
    "ddfs(2, 5) = 0\n",
    "ddfs(3, 5) = 0\n",
    "ddfs(4, 5) = 0\n",
    "ddfs(5, 5) = 0\n",
    "ddfs(6, 5) = -V*cos(theta)\n",
    "ddfs(1, 6) = 0\n",
    "ddfs(2, 6) = 0\n",
    "ddfs(3, 6) = 0\n",
    "ddfs(4, 6) = 0\n",
    "ddfs(5, 6) = 0\n",
    "ddfs(6, 6) = 0\n",
    "\n",
    "end subroutine\n",
    "\n",
    "subroutine L(x, y, theta, omega, V, L)\n",
    "implicit none\n",
    "REAL*8, intent(in) :: x\n",
    "REAL*8, intent(in) :: y\n",
    "REAL*8, intent(in) :: theta\n",
    "REAL*8, intent(in) :: omega\n",
    "REAL*8, intent(in) :: V\n",
    "REAL*8, intent(out) :: L\n",
    "\n",
    "L = omega**2\n",
    "\n",
    "end subroutine\n",
    "\n",
    "subroutine H(x, y, theta, lambda_x, lambda_y, lambda_theta, omega, V, &\n",
    "      H)\n",
    "implicit none\n",
    "REAL*8, intent(in) :: x\n",
    "REAL*8, intent(in) :: y\n",
    "REAL*8, intent(in) :: theta\n",
    "REAL*8, intent(in) :: lambda_x\n",
    "REAL*8, intent(in) :: lambda_y\n",
    "REAL*8, intent(in) :: lambda_theta\n",
    "REAL*8, intent(in) :: omega\n",
    "REAL*8, intent(in) :: V\n",
    "REAL*8, intent(out) :: H\n",
    "\n",
    "H = V*lambda_x*cos(theta) + V*lambda_y*sin(theta) + lambda_theta*omega + &\n",
    "      omega**2\n",
    "\n",
    "end subroutine\n",
    "\n",
    "subroutine uo(x, y, theta, lambda_x, lambda_y, lambda_theta, V, uo)\n",
    "implicit none\n",
    "REAL*8, intent(in) :: x\n",
    "REAL*8, intent(in) :: y\n",
    "REAL*8, intent(in) :: theta\n",
    "REAL*8, intent(in) :: lambda_x\n",
    "REAL*8, intent(in) :: lambda_y\n",
    "REAL*8, intent(in) :: lambda_theta\n",
    "REAL*8, intent(in) :: V\n",
    "REAL*8, intent(out), dimension(1:1, 1:1) :: uo\n",
    "\n",
    "uo(1, 1) = -1.0d0/2.0d0*lambda_theta\n",
    "\n",
    "end subroutine\n",
    "```"
   ]
  }
 ],
 "metadata": {
  "kernelspec": {
   "display_name": "Python 3",
   "language": "python",
   "name": "python3"
  },
  "language_info": {
   "codemirror_mode": {
    "name": "ipython",
    "version": 3
   },
   "file_extension": ".py",
   "mimetype": "text/x-python",
   "name": "python",
   "nbconvert_exporter": "python",
   "pygments_lexer": "ipython3",
   "version": "3.5.2"
  }
 },
 "nbformat": 4,
 "nbformat_minor": 2
}
