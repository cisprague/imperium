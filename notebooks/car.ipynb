{
 "cells": [
  {
   "cell_type": "markdown",
   "metadata": {},
   "source": [
    "# Simple car"
   ]
  },
  {
   "cell_type": "code",
   "execution_count": 1,
   "metadata": {},
   "outputs": [],
   "source": [
    "import sys\n",
    "sys.path.append(\"../src/dynamics\")\n",
    "from pontryagin import system_parse\n",
    "from sympy import init_printing\n",
    "from sympy import *\n",
    "init_printing()"
   ]
  },
  {
   "cell_type": "code",
   "execution_count": 2,
   "metadata": {},
   "outputs": [],
   "source": [
    "sys = {\n",
    "    'state': ['x', 'y', 'theta'],\n",
    "    'control': ['u'],\n",
    "    'dynamics': ['V*cos(theta)', 'V*sin(theta)', 'u*omega'],\n",
    "    'lagrangian': 'u**2',\n",
    "    'inequality': ['u - 1', '-u - 1'],\n",
    "    'equality': ['0']\n",
    "}\n",
    "sys = system_parse(sys)"
   ]
  },
  {
   "cell_type": "code",
   "execution_count": 3,
   "metadata": {},
   "outputs": [],
   "source": [
    "sys.solve()"
   ]
  },
  {
   "cell_type": "code",
   "execution_count": 4,
   "metadata": {},
   "outputs": [
    {
     "data": {
      "text/latex": [
       "$$\\left[\\begin{matrix}- \\eta_{0} + \\eta_{1} + \\lambda_{\\theta} \\omega + 2 u\\end{matrix}\\right]$$"
      ],
      "text/plain": [
       "[-η₀ + η₁ + λₜₕₑₜₐ⋅ω + 2⋅u]"
      ]
     },
     "execution_count": 4,
     "metadata": {},
     "output_type": "execute_result"
    }
   ],
   "source": [
    "sys.stationarity"
   ]
  },
  {
   "cell_type": "code",
   "execution_count": 5,
   "metadata": {},
   "outputs": [
    {
     "data": {
      "text/latex": [
       "$$\\left[\\begin{matrix}\\eta_{0} \\left(u - 1\\right)\\\\\\eta_{1} \\left(- u - 1\\right)\\end{matrix}\\right]$$"
      ],
      "text/plain": [
       "⎡η₀⋅(u - 1) ⎤\n",
       "⎢           ⎥\n",
       "⎣η₁⋅(-u - 1)⎦"
      ]
     },
     "execution_count": 5,
     "metadata": {},
     "output_type": "execute_result"
    }
   ],
   "source": [
    "sys.compslack"
   ]
  },
  {
   "cell_type": "code",
   "execution_count": 6,
   "metadata": {},
   "outputs": [
    {
     "data": {
      "image/png": "[encoded data removed]",
      "text/latex": [
       "$$\\left [ \\left \\{ \\eta_{0} : 0, \\quad \\eta_{1} : 0, \\quad u : - \\frac{\\lambda_{\\theta} \\omega}{2}\\right \\}, \\quad \\left \\{ \\eta_{0} : 0, \\quad \\eta_{1} : - \\lambda_{\\theta} \\omega + 2, \\quad u : -1\\right \\}, \\quad \\left \\{ \\eta_{0} : \\lambda_{\\theta} \\omega + 2, \\quad \\eta_{1} : 0, \\quad u : 1\\right \\}\\right ]$$"
      ],
      "text/plain": [
       "⎡⎧                 -λₜₕₑₜₐ⋅ω ⎫                                                \n",
       "⎢⎨η₀: 0, η₁: 0, u: ──────────⎬, {η₀: 0, η₁: -λₜₕₑₜₐ⋅ω + 2, u: -1}, {η₀: λₜₕₑₜₐ\n",
       "⎣⎩                     2     ⎭                                                \n",
       "\n",
       "                    ⎤\n",
       "⋅ω + 2, η₁: 0, u: 1}⎥\n",
       "                    ⎦"
      ]
     },
     "execution_count": 6,
     "metadata": {},
     "output_type": "execute_result"
    }
   ],
   "source": [
    "sys.sol"
   ]
  },
  {
   "cell_type": "code",
   "execution_count": null,
   "metadata": {},
   "outputs": [],
   "source": []
  }
 ],
 "metadata": {
  "kernelspec": {
   "display_name": "Python 3",
   "language": "python",
   "name": "python3"
  },
  "language_info": {
   "codemirror_mode": {
    "name": "ipython",
    "version": 3
   },
   "file_extension": ".py",
   "mimetype": "text/x-python",
   "name": "python",
   "nbconvert_exporter": "python",
   "pygments_lexer": "ipython3",
   "version": "3.5.2"
  }
 },
 "nbformat": 4,
 "nbformat_minor": 2
}
